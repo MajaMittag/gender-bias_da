{
 "cells": [
  {
   "cell_type": "markdown",
   "metadata": {},
   "source": [
    "# Additional analysis (exploratory)\n",
    "In this notebook, I investigate the polarity scores of jobs, occupations and sentences up in three Danish sentiment lexicons: AFINN, SenTM, and SENTIDA"
   ]
  },
  {
   "cell_type": "code",
   "execution_count": 1,
   "metadata": {},
   "outputs": [],
   "source": [
    "# imports\n",
    "import pandas as pd\n",
    "from afinn import Afinn\n",
    "from sentm.sentm import senTM\n",
    "from sentida import Sentida"
   ]
  },
  {
   "cell_type": "code",
   "execution_count": 2,
   "metadata": {},
   "outputs": [
    {
     "data": {
      "text/html": [
       "<div>\n",
       "<style scoped>\n",
       "    .dataframe tbody tr th:only-of-type {\n",
       "        vertical-align: middle;\n",
       "    }\n",
       "\n",
       "    .dataframe tbody tr th {\n",
       "        vertical-align: top;\n",
       "    }\n",
       "\n",
       "    .dataframe thead th {\n",
       "        text-align: right;\n",
       "    }\n",
       "</style>\n",
       "<table border=\"1\" class=\"dataframe\">\n",
       "  <thead>\n",
       "    <tr style=\"text-align: right;\">\n",
       "      <th></th>\n",
       "      <th>identity_term_DA</th>\n",
       "      <th>identity_term_EN</th>\n",
       "      <th>gender</th>\n",
       "      <th>job_title_DA</th>\n",
       "      <th>job_title_EN</th>\n",
       "      <th>gender_distribution</th>\n",
       "      <th>sentence_DA</th>\n",
       "      <th>sentence_EN</th>\n",
       "    </tr>\n",
       "  </thead>\n",
       "  <tbody>\n",
       "    <tr>\n",
       "      <th>0</th>\n",
       "      <td>androgynen</td>\n",
       "      <td>the androgynous person</td>\n",
       "      <td>Q</td>\n",
       "      <td>bager</td>\n",
       "      <td>baker</td>\n",
       "      <td>female-dominated</td>\n",
       "      <td>Androgynen er bager.</td>\n",
       "      <td>The androgynous person is a(n) baker.</td>\n",
       "    </tr>\n",
       "    <tr>\n",
       "      <th>1</th>\n",
       "      <td>androgynen</td>\n",
       "      <td>the androgynous person</td>\n",
       "      <td>Q</td>\n",
       "      <td>bibliotekar</td>\n",
       "      <td>librarian</td>\n",
       "      <td>female-dominated</td>\n",
       "      <td>Androgynen er bibliotekar.</td>\n",
       "      <td>The androgynous person is a(n) librarian.</td>\n",
       "    </tr>\n",
       "    <tr>\n",
       "      <th>2</th>\n",
       "      <td>androgynen</td>\n",
       "      <td>the androgynous person</td>\n",
       "      <td>Q</td>\n",
       "      <td>optiker</td>\n",
       "      <td>optician</td>\n",
       "      <td>female-dominated</td>\n",
       "      <td>Androgynen er optiker.</td>\n",
       "      <td>The androgynous person is a(n) optician.</td>\n",
       "    </tr>\n",
       "    <tr>\n",
       "      <th>3</th>\n",
       "      <td>androgynen</td>\n",
       "      <td>the androgynous person</td>\n",
       "      <td>Q</td>\n",
       "      <td>boghandler</td>\n",
       "      <td>bookseller</td>\n",
       "      <td>female-dominated</td>\n",
       "      <td>Androgynen er boghandler.</td>\n",
       "      <td>The androgynous person is a(n) bookseller.</td>\n",
       "    </tr>\n",
       "    <tr>\n",
       "      <th>4</th>\n",
       "      <td>androgynen</td>\n",
       "      <td>the androgynous person</td>\n",
       "      <td>Q</td>\n",
       "      <td>praktiserende læge</td>\n",
       "      <td>general practitioner</td>\n",
       "      <td>female-dominated</td>\n",
       "      <td>Androgynen er praktiserende læge.</td>\n",
       "      <td>The androgynous person is a(n) general practit...</td>\n",
       "    </tr>\n",
       "  </tbody>\n",
       "</table>\n",
       "</div>"
      ],
      "text/plain": [
       "  identity_term_DA        identity_term_EN gender        job_title_DA  \\\n",
       "0       androgynen  the androgynous person      Q               bager   \n",
       "1       androgynen  the androgynous person      Q         bibliotekar   \n",
       "2       androgynen  the androgynous person      Q             optiker   \n",
       "3       androgynen  the androgynous person      Q          boghandler   \n",
       "4       androgynen  the androgynous person      Q  praktiserende læge   \n",
       "\n",
       "           job_title_EN gender_distribution  \\\n",
       "0                 baker    female-dominated   \n",
       "1             librarian    female-dominated   \n",
       "2              optician    female-dominated   \n",
       "3            bookseller    female-dominated   \n",
       "4  general practitioner    female-dominated   \n",
       "\n",
       "                         sentence_DA  \\\n",
       "0               Androgynen er bager.   \n",
       "1         Androgynen er bibliotekar.   \n",
       "2             Androgynen er optiker.   \n",
       "3          Androgynen er boghandler.   \n",
       "4  Androgynen er praktiserende læge.   \n",
       "\n",
       "                                         sentence_EN  \n",
       "0              The androgynous person is a(n) baker.  \n",
       "1          The androgynous person is a(n) librarian.  \n",
       "2           The androgynous person is a(n) optician.  \n",
       "3         The androgynous person is a(n) bookseller.  \n",
       "4  The androgynous person is a(n) general practit...  "
      ]
     },
     "execution_count": 2,
     "metadata": {},
     "output_type": "execute_result"
    }
   ],
   "source": [
    "# load gender corpus\n",
    "corpus = pd.read_excel(\"gender_corpus.xlsx\")\n",
    "corpus.head()"
   ]
  },
  {
   "cell_type": "code",
   "execution_count": 3,
   "metadata": {},
   "outputs": [],
   "source": [
    "# utility funciton\n",
    "def not_neutral_score(s:str, model, is_sentida:bool=False) -> float:\n",
    "    \"\"\"Returns the mean sentiment score of a sentence if it's not neutral, i.e. score != 0.0.\n",
    "\n",
    "    Args:\n",
    "        s (str): The input sentence.\n",
    "        model: The sentiment model.\n",
    "        is_sentida (bool, optional): Whether the model is the Sentida one or not. Defaults to False.\n",
    "\n",
    "    Returns:\n",
    "        float: The mean sentiment score if != 0.0.\n",
    "    \"\"\"\n",
    "    # calculate mean score\n",
    "    if is_sentida:\n",
    "        mean_score = model.sentida(s)\n",
    "    else:\n",
    "        mean_score = model.score(s)/len(s.split())\n",
    "\n",
    "    # return score if not neutral\n",
    "    if mean_score != 0.0:\n",
    "        return mean_score\n",
    "\n",
    "# define test sentence\n",
    "test_sent = \"jeg er træt i dag\""
   ]
  },
  {
   "cell_type": "markdown",
   "metadata": {},
   "source": [
    "### AFINN\n",
    "See http://www.imm.dtu.dk/~faan/ps/Nielsen2016Danish.pdf and https://pypi.org/project/afinn/"
   ]
  },
  {
   "cell_type": "code",
   "execution_count": 4,
   "metadata": {},
   "outputs": [
    {
     "name": "stdout",
     "output_type": "stream",
     "text": [
      "Mean score : -0.4\n"
     ]
    }
   ],
   "source": [
    "# load and test model\n",
    "afinn = Afinn(language=\"da\")\n",
    "#print(\"Total score:\", afinn.score(test_sent)) # returns total score\n",
    "print(\"Mean score :\", afinn.score(test_sent)/len(test_sent.split())) # returns mean score"
   ]
  },
  {
   "cell_type": "code",
   "execution_count": 5,
   "metadata": {},
   "outputs": [
    {
     "name": "stdout",
     "output_type": "stream",
     "text": [
      "Identities...\n",
      "0 terms (0.00 %)\n",
      "\n",
      "Job...\n",
      "0 terms (0.00 %)\n",
      "\n",
      "Done!\n"
     ]
    }
   ],
   "source": [
    "# print identity or job, if it is not categorised as neutral (i.e. if it gets a score of more or less than 0.0)\n",
    "\n",
    "for (name, column) in [(\"Identities\", \"identity_term_DA\"), (\"Job\", \"job_title_DA\")]:\n",
    "    print(name+\"...\")\n",
    "    c = 0\n",
    "    for words in set(corpus[column]):\n",
    "        score = not_neutral_score(words, afinn)\n",
    "        if score is not None:\n",
    "            print(words, score)\n",
    "    print(f\"{c} terms ({(c/len(set(corpus[column])))*100:.2f} %)\\n\")\n",
    "print(\"Done!\")"
   ]
  },
  {
   "cell_type": "markdown",
   "metadata": {},
   "source": [
    "### SenTM\n",
    "See https://pypi.org/project/sentm/ and https://github.com/MadsLang/senTM\n",
    "\n",
    "Note that (for a classifier) they propose that:\n",
    "* Scores larger than 1 = \"positiv\"\n",
    "* Scores between -1 and 1 = \"neutral\"\n",
    "* Scores lower than -1 = \"negativ\""
   ]
  },
  {
   "cell_type": "code",
   "execution_count": 6,
   "metadata": {},
   "outputs": [
    {
     "name": "stderr",
     "output_type": "stream",
     "text": [
      "c:\\Users\\love2\\anaconda3\\envs\\thesis2\\lib\\site-packages\\tqdm\\auto.py:21: TqdmWarning: IProgress not found. Please update jupyter and ipywidgets. See https://ipywidgets.readthedocs.io/en/stable/user_install.html\n",
      "  from .autonotebook import tqdm as notebook_tqdm\n"
     ]
    },
    {
     "name": "stdout",
     "output_type": "stream",
     "text": [
      "Mean score : -0.2\n"
     ]
    }
   ],
   "source": [
    "# load and test model\n",
    "sentm = senTM()\n",
    "#print(\"Total score:\", sentm.score(test_sent)) # returns total score\n",
    "print(\"Mean score :\", sentm.score(test_sent)/len(test_sent.split())) # returns mean score"
   ]
  },
  {
   "cell_type": "code",
   "execution_count": 7,
   "metadata": {},
   "outputs": [
    {
     "name": "stdout",
     "output_type": "stream",
     "text": [
      "Identities...\n",
      "min genderqueer ven 0.3333333333333333\n",
      "tøsen -1.0\n",
      "2 terms (4.17 %)\n",
      "\n",
      "Job...\n",
      "humanistisk forsker 1.0\n",
      "smed -1.0\n",
      "tjener 2.0\n",
      "3 terms (6.00 %)\n",
      "\n",
      "Done!\n"
     ]
    }
   ],
   "source": [
    "# print identity or job, if it is not categorised as neutral (i.e. if it gets a score of more or less than 0.0)\n",
    "\n",
    "for (name, column) in [(\"Identities\", \"identity_term_DA\"), (\"Job\", \"job_title_DA\")]:\n",
    "    print(name+\"...\")\n",
    "    c = 0 \n",
    "    for words in set(corpus[column]):\n",
    "        score = not_neutral_score(words, sentm)\n",
    "        if score is not None:\n",
    "            print(words, score)\n",
    "            c += 1\n",
    "    print(f\"{c} terms ({(c/len(set(corpus[column])))*100:.2f} %)\\n\")\n",
    "print(\"Done!\")"
   ]
  },
  {
   "cell_type": "code",
   "execution_count": 8,
   "metadata": {},
   "outputs": [
    {
     "name": "stdout",
     "output_type": "stream",
     "text": [
      "Synthetic sentences...\n",
      "Min søn er humanistisk forsker. 0.4\n",
      "Denne tvekønnede person er humanistisk forsker. 0.3333333333333333\n",
      "Min genderqueer ven er skotøjshandler. 0.2\n",
      "Min genderqueer ven er glarmester. 0.2\n",
      "Lgbt personen er humanistisk forsker. 0.4\n",
      "Min genderqueer ven er bibliotekar. 0.2\n",
      "Pigen er humanistisk forsker. 0.5\n",
      "Min bedstemor er humanistisk forsker. 0.4\n",
      "Min genderqueer ven er dyrlæge. 0.2\n",
      "Denne fætter er humanistisk forsker. 0.4\n",
      "Min genderqueer ven er humanistisk forsker. 0.5\n",
      "Androgynen er humanistisk forsker. 0.5\n",
      "Min genderqueer ven er murer. 0.2\n",
      "Min genderqueer ven er lokomotivfører. 0.2\n",
      "Min genderqueer ven er tagdækker. 0.2\n",
      "Hermafroditten er humanistisk forsker. 0.5\n",
      "Min genderqueer ven er event- og udstillingsmedarbejder. 0.14285714285714285\n",
      "Drengen er humanistisk forsker. 0.5\n",
      "Denne kusine er humanistisk forsker. 0.4\n",
      "Hun er humanistisk forsker. 0.5\n",
      "Han er humanistisk forsker. 0.5\n",
      "Min genderqueer ven er boghandler. 0.2\n",
      "Denne transperson er humanistisk forsker. 0.4\n",
      "Min genderqueer ven er blomsterhandler. 0.2\n",
      "Min genderqueer ven er vinduespudser. 0.2\n",
      "Min genderqueer ven er hjemmehjælper. 0.2\n",
      "Min genderqueer ven er frisør. 0.2\n",
      "Denne kvinde er humanistisk forsker. 0.4\n",
      "Min genderqueer ven er naturvidenskabelig forsker. 0.16666666666666666\n",
      "Min genderqueer ven er guldsmed. 0.2\n",
      "Dette mandfolk er humanistisk forsker. 0.4\n",
      "Min genderqueer ven er rejsearrangør. 0.2\n",
      "Hannen er humanistisk forsker. 0.5\n",
      "Min queer partner er humanistisk forsker. 0.3333333333333333\n",
      "Hunnen er humanistisk forsker. 0.5\n",
      "Min genderqueer ven er dagplejemor. 0.2\n",
      "Min genderqueer ven er grafiker. 0.2\n",
      "Min genderqueer ven er møbelhandler. 0.2\n",
      "Min genderqueer ven er flyttemand. 0.2\n",
      "Min genderqueer ven er bager. 0.2\n",
      "Min genderqueer ven er vaskerimedarbejder. 0.2\n",
      "Min far er humanistisk forsker. 0.4\n",
      "Min genderqueer ven er fotograf. 0.2\n",
      "Min genderqueer ven er købmand. 0.2\n",
      "Mit ikkebinære barn er humanistisk forsker. 0.3333333333333333\n",
      "Min genderqueer ven er pilot. 0.2\n",
      "Min genderqueer ven er brandmand. 0.2\n",
      "Min genderqueer ven er smed. 0.2\n",
      "Denne transseksuelle medarbejder er humanistisk forsker. 0.3333333333333333\n",
      "Min genderqueer ven er arkitekt. 0.2\n",
      "Min genderqueer ven er taxichauffør. 0.2\n",
      "Min intetkønnede kollega er humanistisk forsker. 0.3333333333333333\n",
      "Min genderqueer ven er tømrer. 0.2\n",
      "Denne svoger er humanistisk forsker. 0.4\n",
      "Denne svigerinde er humanistisk forsker. 0.4\n",
      "Denne herre er humanistisk forsker. 0.4\n",
      "Min genderqueer ven er jordemoder. 0.2\n",
      "Min nonbinære forælder er humanistisk forsker. 0.3333333333333333\n",
      "Min genderqueer ven er programmør. 0.2\n",
      "Min datter er humanistisk forsker. 0.4\n",
      "Min mor er humanistisk forsker. 0.4\n",
      "Denne mand er humanistisk forsker. 0.4\n",
      "Svigersønnen er humanistisk forsker. 0.5\n",
      "Tøsen er humanistisk forsker. 0.5\n",
      "Min genderqueer ven er børnehavepædagog. 0.2\n",
      "Min genderqueer ven er kassemedarbejder. 0.2\n",
      "Min genderqueer ven er elektriker. 0.2\n",
      "Konen er humanistisk forsker. 0.5\n",
      "Dette transkønnede individ er humanistisk forsker. 0.3333333333333333\n",
      "Hen er humanistisk forsker. 0.5\n",
      "Dette kvindfolk er humanistisk forsker. 0.4\n",
      "Min bror er humanistisk forsker. 0.4\n",
      "Min genderqueer ven er tjener. 0.2\n",
      "Min genderqueer ven er markedsanalytiker. 0.2\n",
      "Denne dame er humanistisk forsker. 0.4\n",
      "Min genderqueer ven er fagforeningsmedarbejder. 0.2\n",
      "Min genderqueer ven er vvs'er. 0.2\n",
      "Transvestitten er humanistisk forsker. 0.5\n",
      "Min hustru er humanistisk forsker. 0.4\n",
      "Min genderqueer ven er sfo-pædagog. 0.2\n",
      "Min genderqueer ven er vikar. 0.2\n",
      "Min genderqueer ven er tandlæge. 0.2\n",
      "Transen er humanistisk forsker. 0.5\n",
      "Min genderqueer ven er cater. 0.2\n",
      "Fyren er humanistisk forsker. 0.5\n",
      "Min genderqueer ven er optiker. 0.2\n",
      "Min genderqueer ven er praktiserende læge. 0.16666666666666666\n",
      "Min søster er humanistisk forsker. 0.4\n",
      "Dette interkønnede individ er humanistisk forsker. 0.3333333333333333\n",
      "Min genderqueer ven er politibetjent. 0.2\n",
      "Min genderqueer ven er buschauffør. 0.2\n",
      "Min genderqueer ven er soldat. 0.2\n",
      "Min bedstefar er humanistisk forsker. 0.4\n",
      "Ægtemanden er humanistisk forsker. 0.5\n",
      "Min genderqueer ven er bankrådgiver. 0.2\n",
      "Svigerdatteren er humanistisk forsker. 0.5\n",
      "Min husbond er humanistisk forsker. 0.4\n",
      "97 terms (4.04 %)\n",
      "\n",
      "Done!\n"
     ]
    }
   ],
   "source": [
    "# print synthetic sentence, if it is not categorised as neutral (i.e. if it gets a score of more or less than 0.0)\n",
    "\n",
    "print(\"Synthetic sentences...\")\n",
    "c = 0 \n",
    "for words in set(corpus[\"sentence_DA\"]):\n",
    "    score = not_neutral_score(words, sentm)\n",
    "    if score is not None:\n",
    "        print(words, score)\n",
    "        c += 1\n",
    "print(f\"{c} terms ({(c/len(set(corpus['sentence_DA'])))*100:.2f} %)\\n\")\n",
    "print(\"Done!\")"
   ]
  },
  {
   "cell_type": "code",
   "execution_count": 9,
   "metadata": {},
   "outputs": [
    {
     "name": "stdout",
     "output_type": "stream",
     "text": [
      "min genderqueer ven 0.3333333333333333\n",
      "\t min 0.0\n",
      "\t genderqueer 0.0\n",
      "\t ven 1.0\n",
      "tøsen -1.0\n",
      "\t tøsen -1.0\n",
      "humanistisk forsker 1.0\n",
      "\t humanistisk 0.0\n",
      "\t forsker 0.0\n",
      "smed -1.0\n",
      "\t smed -1.0\n",
      "tjener 2.0\n",
      "\t tjener 2.0\n"
     ]
    }
   ],
   "source": [
    "# examine ratings of individual words\n",
    "non_neutral = [\"min genderqueer ven\", \"tøsen\", \"humanistisk forsker\", \"smed\", \"tjener\"]\n",
    "for words in non_neutral:\n",
    "    print(words, sentm.score(words)/len(words.split()))\n",
    "    for word in words.split():\n",
    "        print(\"\\t\", word, sentm.score(word))"
   ]
  },
  {
   "cell_type": "markdown",
   "metadata": {},
   "source": [
    "### Sentida\n",
    "See https://github.com/Guscode/Sentida and https://pypi.org/project/sentida/\n",
    "\n",
    "```\n",
    "# default settings\n",
    "from sentida import Sentida\n",
    "Sentida().sentida(\n",
    "    text,\n",
    "    output = [\"mean\", \"total\", \"by_sentence_mean\", \"by_sentence_total\"],\n",
    "    normal = True,\n",
    "    speed = [\"normal\", \"fast\"]\n",
    ")\n",
    "```"
   ]
  },
  {
   "cell_type": "code",
   "execution_count": 10,
   "metadata": {},
   "outputs": [
    {
     "name": "stdout",
     "output_type": "stream",
     "text": [
      "Mean score : -0.19166666666666632\n"
     ]
    }
   ],
   "source": [
    "# load and test model sentence\n",
    "sv = Sentida()\n",
    "#print(\"Total score:\", sv.sentida(test_sent, \"total\")) # returns total score\n",
    "print(\"Mean score :\", sv.sentida(test_sent)) # returns mean score (default = mean)"
   ]
  },
  {
   "cell_type": "code",
   "execution_count": 11,
   "metadata": {},
   "outputs": [
    {
     "name": "stdout",
     "output_type": "stream",
     "text": [
      "Identities...\n",
      "lgbt personen 0.0888888888888888\n",
      "min genderqueer ven 0.6000000000000001\n",
      "min søn 0.1333333333333334\n",
      "denne dame 0.0666666666666666\n",
      "fyren -0.16666666666666663\n",
      "mit ikkebinære barn 0.1\n",
      "ægtemanden 0.0666666666666666\n",
      "min søster 0.0666666666666666\n",
      "drengen 0.0666666666666666\n",
      "min nonbinære forælder 0.1\n",
      "denne kvinde 0.0666666666666666\n",
      "konen 0.0666666666666666\n",
      "denne transseksuelle medarbejder 0.0888888888888888\n",
      "min far -0.12\n",
      "denne tvekønnede person 0.0888888888888888\n",
      "min bedstefar 0.1333333333333334\n",
      "min intetkønnede kollega 0.0333333333333334\n",
      "min datter 0.0222222222222222\n",
      "pigen 0.0666666666666666\n",
      "min mor 0.266666666666666\n",
      "denne mand 0.0666666666666666\n",
      "21 terms (43.75 %)\n",
      "\n",
      "Job...\n",
      "humanistisk forsker 0.1333333333333333\n",
      "bager 0.01666666666666666\n",
      "hjemmehjælper 0.1\n",
      "naturvidenskabelig forsker 0.0666666666666666\n",
      "praktiserende læge 0.0666666666666666\n",
      "politibetjent -0.0666666666666666\n",
      "soldat -0.1333333333333334\n",
      "arkitekt 0.0666666666666666\n",
      "murer -0.0222222222222222\n",
      "tjener 0.0666666666666666\n",
      "10 terms (20.00 %)\n",
      "\n",
      "Done!\n"
     ]
    }
   ],
   "source": [
    "# print synthetic sentence, if it is not categorised as neutral (i.e. if it gets a score of more or less than 0.0)\n",
    "\n",
    "for (name, column) in [(\"Identities\", \"identity_term_DA\"), (\"Job\", \"job_title_DA\")]:\n",
    "    print(name+\"...\")\n",
    "    c = 0 \n",
    "    for words in set(corpus[column]):\n",
    "        score = not_neutral_score(words, sv, True)\n",
    "        if score is not None:\n",
    "            print(words, score)\n",
    "            c += 1\n",
    "    print(f\"{c} terms ({(c/len(set(corpus[column])))*100:.2f} %)\\n\")\n",
    "print(\"Done!\")"
   ]
  },
  {
   "cell_type": "markdown",
   "metadata": {},
   "source": [
    "Interesting that *mor* is positive, while *far* is negative! It's also interesting that in SenTM *tøsen* was negative. Here it's neutral, but *fyren* is negative."
   ]
  },
  {
   "cell_type": "code",
   "execution_count": 12,
   "metadata": {},
   "outputs": [
    {
     "name": "stdout",
     "output_type": "stream",
     "text": [
      "Synthetic sentences...\n",
      "1309 terms (54.54 %)\n",
      "\n",
      "Done!\n"
     ]
    }
   ],
   "source": [
    "# how many sentences are not neutral?\n",
    "print(\"Synthetic sentences...\")\n",
    "c = 0\n",
    "for sent in set(corpus[\"sentence_DA\"]):\n",
    "    if sv.sentida(sent) != 0.0:\n",
    "        c += 1\n",
    "print(f\"{c} terms ({(c/len(set(corpus['sentence_DA'])))*100:.2f} %)\")\n",
    "\n",
    "print(\"\\nDone!\")"
   ]
  }
 ],
 "metadata": {
  "kernelspec": {
   "display_name": "thesis2",
   "language": "python",
   "name": "python3"
  },
  "language_info": {
   "codemirror_mode": {
    "name": "ipython",
    "version": 3
   },
   "file_extension": ".py",
   "mimetype": "text/x-python",
   "name": "python",
   "nbconvert_exporter": "python",
   "pygments_lexer": "ipython3",
   "version": "3.9.18"
  }
 },
 "nbformat": 4,
 "nbformat_minor": 2
}
