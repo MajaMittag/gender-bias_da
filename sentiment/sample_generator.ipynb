{
 "cells": [
  {
   "cell_type": "markdown",
   "metadata": {},
   "source": [
    "# Generate samples from identity terms and job titles/occupations\n",
    "\n",
    "The goal of this notebook is to create a synthetic dataset that can be used to measure the occupational bias in sentiment analysis systems."
   ]
  },
  {
   "cell_type": "code",
   "execution_count": 1,
   "metadata": {},
   "outputs": [],
   "source": [
    "# imports\n",
    "import pandas as pd\n",
    "\n",
    "# read data\n",
    "identities = pd.read_excel(\"identity_terms.xlsx\")\n",
    "occupations = pd.read_excel(\"occupations.xlsx\")\n",
    "\n",
    "# display data\n",
    "print(len(identities), \"identities and\", len(occupations), \"occupations.\")\n",
    "print(\"This should yield\", len(identities)*len(occupations), \"sentences.\")\n",
    "display(identities.head())\n",
    "display(occupations.head())\n",
    "\n",
    "# merge data \n",
    "corpus = pd.merge(identities.assign(key=1), occupations.assign(key=1), on='key').drop('key', axis=1) # cartesian product of the two dfs\n",
    "\n",
    "# create synthetic sentences\n",
    "\n",
    "# in Danish\n",
    "corpus[\"sentence_DA\"] = corpus[\"identity_term_DA\"] + \" er \" + corpus[\"job_title_DA\"] + \".\" # create sentence\n",
    "corpus[\"sentence_DA\"] = corpus[\"sentence_DA\"].apply(lambda x: x.capitalize()) # capitalize first word of sentence\n",
    "\n",
    "# in English\n",
    "corpus[\"sentence_EN\"] = corpus[\"identity_term_EN\"] + \" is a(n) \" + corpus[\"job_title_EN\"] + \".\" # create sentence\n",
    "corpus[\"sentence_EN\"] = corpus[\"sentence_EN\"].apply(lambda x: x.capitalize()) # capitalize first word of sentence\n",
    "print(\"\\nResult:\")\n",
    "print(len(corpus), \"sentences\")\n",
    "display(corpus.head())\n",
    "\n",
    "# save df\n",
    "corpus.to_excel(\"gender_corpus.xlsx\", index=False)\n",
    "print(\"Successfully saved corpus!\")"
   ]
  }
 ],
 "metadata": {
  "kernelspec": {
   "display_name": "thesis2",
   "language": "python",
   "name": "python3"
  },
  "language_info": {
   "codemirror_mode": {
    "name": "ipython",
    "version": 3
   },
   "file_extension": ".py",
   "mimetype": "text/x-python",
   "name": "python",
   "nbconvert_exporter": "python",
   "pygments_lexer": "ipython3",
   "version": "3.9.18"
  }
 },
 "nbformat": 4,
 "nbformat_minor": 2
}
