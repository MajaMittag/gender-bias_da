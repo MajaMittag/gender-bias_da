{
 "cells": [
  {
   "cell_type": "code",
   "execution_count": 1,
   "metadata": {},
   "outputs": [
    {
     "name": "stderr",
     "output_type": "stream",
     "text": [
      "c:\\Users\\love2\\anaconda3\\envs\\thesis2\\lib\\site-packages\\tqdm\\auto.py:21: TqdmWarning: IProgress not found. Please update jupyter and ipywidgets. See https://ipywidgets.readthedocs.io/en/stable/user_install.html\n",
      "  from .autonotebook import tqdm as notebook_tqdm\n"
     ]
    }
   ],
   "source": [
    "# vocab size of dkhate\n",
    "import utils\n",
    "import pandas as pd\n",
    "X_train_orig, X_test_orig, y_train_orig, y_test_orig = utils.load_dkhate(test_size=0.2)\n",
    "dkhate = pd.concat((X_train_orig, X_test_orig))"
   ]
  },
  {
   "cell_type": "code",
   "execution_count": 2,
   "metadata": {},
   "outputs": [
    {
     "data": {
      "text/plain": [
       "id\n",
       "3176                                               Hahaha\n",
       "1440    @USER hvis du føler du har det svært så prøv a...\n",
       "3501    Det er endnu en barriere for bønder uden for E...\n",
       "3016    Mit eneste møde ved ham var på min snuskede st...\n",
       "2399    Forøvrigt taget fra et godt dokumentarprogram ...\n",
       "                              ...                        \n",
       "597      måske det her er problemet med skader på din bil\n",
       "2721                                      Brænd det flag!\n",
       "386                                      GID DET VAR MIT!\n",
       "739                                           Pink Fløjt’\n",
       "1611                                             Cupcake!\n",
       "Name: tweet, Length: 3289, dtype: object"
      ]
     },
     "execution_count": 2,
     "metadata": {},
     "output_type": "execute_result"
    }
   ],
   "source": [
    "dkhate"
   ]
  },
  {
   "cell_type": "code",
   "execution_count": 3,
   "metadata": {},
   "outputs": [
    {
     "name": "stdout",
     "output_type": "stream",
     "text": [
      "Vocab size: 15,607\n"
     ]
    }
   ],
   "source": [
    "print(f\"Vocab size: {len(utils.get_vocab(dkhate, are_tokens=False)):,}\")"
   ]
  },
  {
   "cell_type": "code",
   "execution_count": 5,
   "metadata": {},
   "outputs": [
    {
     "name": "stderr",
     "output_type": "stream",
     "text": [
      "Found cached dataset parquet (C:/Users/love2/.cache/huggingface/datasets/DDSC___parquet/DDSC--reddit-da-bca4e9b8a3ad5f46/0.0.0/2a3b91fbd88a2c90d1dbbb32b460cf621d31bd5b05b934492fdef7d8d6f236ec)\n",
      "100%|██████████| 1/1 [00:00<00:00, 10.03it/s]\n"
     ]
    }
   ],
   "source": [
    "from datasets import load_dataset\n",
    "redditda = load_dataset(\"DDSC/reddit-da\")"
   ]
  },
  {
   "cell_type": "code",
   "execution_count": 13,
   "metadata": {},
   "outputs": [],
   "source": [
    "redditda = pd.DataFrame(redditda['train'])"
   ]
  },
  {
   "cell_type": "code",
   "execution_count": 15,
   "metadata": {},
   "outputs": [
    {
     "data": {
      "text/html": [
       "<div>\n",
       "<style scoped>\n",
       "    .dataframe tbody tr th:only-of-type {\n",
       "        vertical-align: middle;\n",
       "    }\n",
       "\n",
       "    .dataframe tbody tr th {\n",
       "        vertical-align: top;\n",
       "    }\n",
       "\n",
       "    .dataframe thead th {\n",
       "        text-align: right;\n",
       "    }\n",
       "</style>\n",
       "<table border=\"1\" class=\"dataframe\">\n",
       "  <thead>\n",
       "    <tr style=\"text-align: right;\">\n",
       "      <th></th>\n",
       "      <th>id</th>\n",
       "      <th>text</th>\n",
       "    </tr>\n",
       "  </thead>\n",
       "  <tbody>\n",
       "    <tr>\n",
       "      <th>0</th>\n",
       "      <td>reddit_70ty</td>\n",
       "      <td>Men da er du vel på nordpolen?</td>\n",
       "    </tr>\n",
       "    <tr>\n",
       "      <th>1</th>\n",
       "      <td>reddit_c02iu84</td>\n",
       "      <td>Du betaler også yderligere indkomstskat til di...</td>\n",
       "    </tr>\n",
       "    <tr>\n",
       "      <th>2</th>\n",
       "      <td>reddit_c02l03c</td>\n",
       "      <td>the16art har udvalgt de bedste og sødeste RSS ...</td>\n",
       "    </tr>\n",
       "    <tr>\n",
       "      <th>3</th>\n",
       "      <td>reddit_c02n1pj</td>\n",
       "      <td>Personally, I prefer:</td>\n",
       "    </tr>\n",
       "    <tr>\n",
       "      <th>4</th>\n",
       "      <td>reddit_c02tuve</td>\n",
       "      <td>Jeg synes det er vældigt trist at svenske avis...</td>\n",
       "    </tr>\n",
       "    <tr>\n",
       "      <th>...</th>\n",
       "      <td>...</td>\n",
       "      <td>...</td>\n",
       "    </tr>\n",
       "    <tr>\n",
       "      <th>1908882</th>\n",
       "      <td>reddit_fcong73</td>\n",
       "      <td>Godt nytår, Nordmænd!</td>\n",
       "    </tr>\n",
       "    <tr>\n",
       "      <th>1908883</th>\n",
       "      <td>reddit_fconhne</td>\n",
       "      <td>Hvis dansk er dit fjerde sprog hvorfor høre du...</td>\n",
       "    </tr>\n",
       "    <tr>\n",
       "      <th>1908884</th>\n",
       "      <td>reddit_fconhvf</td>\n",
       "      <td>Bare de begyndte at anholde hundene der pisser...</td>\n",
       "    </tr>\n",
       "    <tr>\n",
       "      <th>1908885</th>\n",
       "      <td>reddit_fconj99</td>\n",
       "      <td>Og det er ikke fordi at jeg har noget som hels...</td>\n",
       "    </tr>\n",
       "    <tr>\n",
       "      <th>1908886</th>\n",
       "      <td>reddit_fconk62</td>\n",
       "      <td>Okay. :) så ved vi hven der bærer skylden. :D</td>\n",
       "    </tr>\n",
       "  </tbody>\n",
       "</table>\n",
       "<p>1908887 rows × 2 columns</p>\n",
       "</div>"
      ],
      "text/plain": [
       "                     id                                               text\n",
       "0           reddit_70ty                     Men da er du vel på nordpolen?\n",
       "1        reddit_c02iu84  Du betaler også yderligere indkomstskat til di...\n",
       "2        reddit_c02l03c  the16art har udvalgt de bedste og sødeste RSS ...\n",
       "3        reddit_c02n1pj                              Personally, I prefer:\n",
       "4        reddit_c02tuve  Jeg synes det er vældigt trist at svenske avis...\n",
       "...                 ...                                                ...\n",
       "1908882  reddit_fcong73                              Godt nytår, Nordmænd!\n",
       "1908883  reddit_fconhne  Hvis dansk er dit fjerde sprog hvorfor høre du...\n",
       "1908884  reddit_fconhvf  Bare de begyndte at anholde hundene der pisser...\n",
       "1908885  reddit_fconj99  Og det er ikke fordi at jeg har noget som hels...\n",
       "1908886  reddit_fconk62      Okay. :) så ved vi hven der bærer skylden. :D\n",
       "\n",
       "[1908887 rows x 2 columns]"
      ]
     },
     "execution_count": 15,
     "metadata": {},
     "output_type": "execute_result"
    }
   ],
   "source": [
    "redditda"
   ]
  },
  {
   "cell_type": "code",
   "execution_count": 14,
   "metadata": {},
   "outputs": [
    {
     "name": "stdout",
     "output_type": "stream",
     "text": [
      "Vocab size: 2,037,218\n"
     ]
    }
   ],
   "source": [
    "print(f\"Vocab size: {len(utils.get_vocab(redditda['text'], are_tokens=False)):,}\")"
   ]
  }
 ],
 "metadata": {
  "kernelspec": {
   "display_name": "thesis2",
   "language": "python",
   "name": "python3"
  },
  "language_info": {
   "codemirror_mode": {
    "name": "ipython",
    "version": 3
   },
   "file_extension": ".py",
   "mimetype": "text/x-python",
   "name": "python",
   "nbconvert_exporter": "python",
   "pygments_lexer": "ipython3",
   "version": "3.9.18"
  }
 },
 "nbformat": 4,
 "nbformat_minor": 2
}
