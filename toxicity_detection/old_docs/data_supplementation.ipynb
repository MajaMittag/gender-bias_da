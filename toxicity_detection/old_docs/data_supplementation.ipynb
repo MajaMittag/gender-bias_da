{
 "cells": [
  {
   "cell_type": "markdown",
   "metadata": {},
   "source": [
    "# Data Supplementation (suppl)"
   ]
  },
  {
   "cell_type": "markdown",
   "metadata": {},
   "source": [
    "Method\n",
    "1.\tIdentify identity terms with the most disproportionate data distributions \n",
    "    1. Stem/lemmatize dataset\n",
    "    2. For each lemma in the synthetic test set:\n",
    "        1. Check distribution across labels in dataset, i.e. difference between frequency in toxic comments and overall\n",
    "        2.\tAlso check length differences!\n",
    "    3. What does this mean exactly? \n",
    "        1.\t“Identity terms affected by the false positive bias are disproportionately used in toxic comments in our training data. For example, the word ‘gay’ appears in 3% of toxic comments but only 0.5% of comments overall.”\n",
    "        2.\tFrequency of identity terms in toxic comments and overall: \n",
    "2.\tAdd additional non-toxic examples that contain the identity terms that appear disproportionately across labels in the original dataset\n",
    "    1.\tUse wiki data – assumed to be non-toxic\n",
    "    2.\tAdd enough so that the balance is in line with the prior distribution for the overall dataset\n",
    "        1.\tE.g. until % “gay” in toxic comment is close to 0.50% as in overall data.\n",
    "3.\tMaybe consider different lengths as CNNs could be sensitive to this\n",
    "    1.\t“toxic comments tend to be shorter” (Dixon et al. 2018)\n",
    "4.\tSupposed to reduce false positives. Could also do the opposite? But more difficult to find toxic comments unless we take them from places that are supposedly toxic (e.g. “roast me”)\n"
   ]
  },
  {
   "cell_type": "markdown",
   "metadata": {},
   "source": [
    "## Imports"
   ]
  },
  {
   "cell_type": "code",
   "execution_count": 682,
   "metadata": {},
   "outputs": [],
   "source": [
    "# set cwd\n",
    "import os\n",
    "os.chdir(\"g:\\\\My Drive\\\\ITC, 5th semester (Thesis)\\\\Code\\\\Github_code\\\\toxicity_detection\")\n",
    "\n",
    "# imports\n",
    "import pandas as pd\n",
    "# from random import choice, choices\n",
    "# from collections import \n",
    "import numpy as np\n",
    "import matplotlib.pyplot as plt\n",
    "# from string import punctuation\n",
    "# # import spacy\n",
    "from spacy import displacy\n",
    "from tqdm import tqdm\n",
    "from utils import load_dkhate\n",
    "from typing import List\n",
    "import pickle\n",
    "import dacy\n",
    "# import utils\n",
    "# import nltk\n",
    "# import re\n",
    "# import string\n",
    "from wiki_scraper import scrape_wiki_text\n",
    "tqdm.pandas()"
   ]
  },
  {
   "cell_type": "markdown",
   "metadata": {},
   "source": [
    "## Functions"
   ]
  },
  {
   "cell_type": "code",
   "execution_count": 753,
   "metadata": {},
   "outputs": [],
   "source": [
    "def lemmatize_text(text:str) -> str:\n",
    "    \"\"\"Returns a lemmatized version of the text or itself if the string is empty.\"\"\"\n",
    "    if len(text) > 0:\n",
    "        doc = nlp(text)\n",
    "        lemmas = [token.lemma_ for token in doc]\n",
    "        lemmatized_text = \" \".join(lemmas)\n",
    "        return lemmatized_text\n",
    "    else:\n",
    "        return text\n",
    "\n",
    "def occurs_in_string(target:str, text:str) -> bool:\n",
    "    \"\"\"Checks whether a word occurs in a text.\"\"\"\n",
    "    for word in text.split():\n",
    "        if word == target:\n",
    "            return True\n",
    "    return False"
   ]
  },
  {
   "cell_type": "markdown",
   "metadata": {},
   "source": [
    "## Load DaCy model"
   ]
  },
  {
   "cell_type": "code",
   "execution_count": 3,
   "metadata": {},
   "outputs": [],
   "source": [
    "# load daCy model (medium works fine)\n",
    "nlp = dacy.load(\"da_dacy_medium_trf-0.2.0\") # takes around 4 minutes the first time"
   ]
  },
  {
   "cell_type": "code",
   "execution_count": 4,
   "metadata": {},
   "outputs": [
    {
     "name": "stdout",
     "output_type": "stream",
     "text": [
      "Token     \tLemma\t\tPOS-tag\t\tEntity type\n",
      "Mit       :\tMit       \tDET\t\t\n",
      "navn      :\tnavn      \tNOUN\t\t\n",
      "er        :\tvære      \tAUX\t\t\n",
      "Maja      :\tMaja      \tPROPN\t\tPER\n",
      ".         :\t.         \tPUNCT\t\t\n",
      "Jeg       :\tjeg       \tPRON\t\t\n",
      "bor       :\tbo        \tVERB\t\t\n",
      "på        :\tpå        \tADP\t\t\n",
      "Bispebjerg:\tBispebjerg\tPROPN\t\tLOC\n",
      ",         :\t,         \tPUNCT\t\t\n",
      "men       :\tmen       \tCCONJ\t\t\n",
      "er        :\tvære      \tVERB\t\t\n",
      "fra       :\tfra       \tADP\t\t\n",
      "Næstved   :\tNæstved   \tPROPN\t\tLOC\n",
      ".         :\t.         \tPUNCT\t\t\n"
     ]
    },
    {
     "data": {
      "text/html": [
       "<span class=\"tex2jax_ignore\"><div class=\"entities\" style=\"line-height: 2.5; direction: ltr\">Mit navn er \n",
       "<mark class=\"entity\" style=\"background: #ddd; padding: 0.45em 0.6em; margin: 0 0.25em; line-height: 1; border-radius: 0.35em;\">\n",
       "    Maja\n",
       "    <span style=\"font-size: 0.8em; font-weight: bold; line-height: 1; border-radius: 0.35em; vertical-align: middle; margin-left: 0.5rem\">PER\n",
       " <a style=\"text-decoration: none; color: inherit; font-weight: normal\" href=\"#\">Q18184581</a>\n",
       "</span>\n",
       "</mark>\n",
       ". Jeg bor på \n",
       "<mark class=\"entity\" style=\"background: #ff9561; padding: 0.45em 0.6em; margin: 0 0.25em; line-height: 1; border-radius: 0.35em;\">\n",
       "    Bispebjerg\n",
       "    <span style=\"font-size: 0.8em; font-weight: bold; line-height: 1; border-radius: 0.35em; vertical-align: middle; margin-left: 0.5rem\">LOC\n",
       " <a style=\"text-decoration: none; color: inherit; font-weight: normal\" href=\"#\">NIL</a>\n",
       "</span>\n",
       "</mark>\n",
       ", men er fra \n",
       "<mark class=\"entity\" style=\"background: #ff9561; padding: 0.45em 0.6em; margin: 0 0.25em; line-height: 1; border-radius: 0.35em;\">\n",
       "    Næstved\n",
       "    <span style=\"font-size: 0.8em; font-weight: bold; line-height: 1; border-radius: 0.35em; vertical-align: middle; margin-left: 0.5rem\">LOC\n",
       " <a style=\"text-decoration: none; color: inherit; font-weight: normal\" href=\"#\">Q21178</a>\n",
       "</span>\n",
       "</mark>\n",
       ".</div></span>"
      ],
      "text/plain": [
       "<IPython.core.display.HTML object>"
      ]
     },
     "metadata": {},
     "output_type": "display_data"
    }
   ],
   "source": [
    "# test that it works as expected \n",
    "doc = nlp(\"Mit navn er Maja. Jeg bor på Bispebjerg, men er fra Næstved.\") \n",
    "print(\"Token     \\tLemma\\t\\tPOS-tag\\t\\tEntity type\")\n",
    "for tok in doc: \n",
    "    print(f\"{str(tok).ljust(10)}:\\t{str(tok.lemma_).ljust(10)}\\t{tok.pos_}\\t\\t{tok.ent_type_}\")\n",
    "displacy.render(doc, style=\"ent\")"
   ]
  },
  {
   "cell_type": "markdown",
   "metadata": {},
   "source": [
    "## Load preprocessed training data"
   ]
  },
  {
   "cell_type": "code",
   "execution_count": 5,
   "metadata": {},
   "outputs": [
    {
     "data": {
      "text/html": [
       "<div>\n",
       "<style scoped>\n",
       "    .dataframe tbody tr th:only-of-type {\n",
       "        vertical-align: middle;\n",
       "    }\n",
       "\n",
       "    .dataframe tbody tr th {\n",
       "        vertical-align: top;\n",
       "    }\n",
       "\n",
       "    .dataframe thead th {\n",
       "        text-align: right;\n",
       "    }\n",
       "</style>\n",
       "<table border=\"1\" class=\"dataframe\">\n",
       "  <thead>\n",
       "    <tr style=\"text-align: right;\">\n",
       "      <th></th>\n",
       "      <th>tweet</th>\n",
       "      <th>label</th>\n",
       "    </tr>\n",
       "    <tr>\n",
       "      <th>id</th>\n",
       "      <th></th>\n",
       "      <th></th>\n",
       "    </tr>\n",
       "  </thead>\n",
       "  <tbody>\n",
       "    <tr>\n",
       "      <th>2378</th>\n",
       "      <td>hørt</td>\n",
       "      <td>0</td>\n",
       "    </tr>\n",
       "    <tr>\n",
       "      <th>1879</th>\n",
       "      <td>reaktion svensker</td>\n",
       "      <td>0</td>\n",
       "    </tr>\n",
       "    <tr>\n",
       "      <th>42</th>\n",
       "      <td>hey champ smide link ser hearthstone henne</td>\n",
       "      <td>0</td>\n",
       "    </tr>\n",
       "    <tr>\n",
       "      <th>457</th>\n",
       "      <td>melder vold voldtægt viser sandt beviser diver...</td>\n",
       "      <td>1</td>\n",
       "    </tr>\n",
       "    <tr>\n",
       "      <th>3108</th>\n",
       "      <td>betaler omkring mb kb får nok tættere kb kb be...</td>\n",
       "      <td>0</td>\n",
       "    </tr>\n",
       "  </tbody>\n",
       "</table>\n",
       "</div>"
      ],
      "text/plain": [
       "                                                  tweet label\n",
       "id                                                           \n",
       "2378                                               hørt     0\n",
       "1879                                  reaktion svensker     0\n",
       "42           hey champ smide link ser hearthstone henne     0\n",
       "457   melder vold voldtægt viser sandt beviser diver...     1\n",
       "3108  betaler omkring mb kb får nok tættere kb kb be...     0"
      ]
     },
     "execution_count": 5,
     "metadata": {},
     "output_type": "execute_result"
    }
   ],
   "source": [
    "# load data splits \n",
    "_, _, y_train_orig, _ = load_dkhate(test_size=0.2)\n",
    "with open(os.getcwd()+\"/data/X_orig_preproc.pkl\", \"rb\") as f:\n",
    "    content = pickle.load(f)\n",
    "\n",
    "X_train_orig = content[\"X_train\"]\n",
    "train_orig = pd.DataFrame([X_train_orig, y_train_orig]).T\n",
    "train_orig.tail()"
   ]
  },
  {
   "cell_type": "code",
   "execution_count": 6,
   "metadata": {},
   "outputs": [
    {
     "name": "stderr",
     "output_type": "stream",
     "text": [
      "100%|██████████| 2631/2631 [05:56<00:00,  7.39it/s]\n"
     ]
    }
   ],
   "source": [
    "# lemmatize the texts\n",
    "train_orig[\"lemmas\"] = train_orig[\"tweet\"].progress_apply(lemmatize_text)"
   ]
  },
  {
   "cell_type": "code",
   "execution_count": 7,
   "metadata": {},
   "outputs": [
    {
     "data": {
      "text/plain": [
       "id\n",
       "1174    scanne lortet pc markere tage underskrift ny d...\n",
       "3301    kunne klarer fyr stort se venn vej samme spor ...\n",
       "1390    fuck meget sol varme lille regn please dansk å...\n",
       "799     hvorfor fucking stor helvede fejre kristn hell...\n",
       "900     ingen udlænding ved grænse heller kriminell ku...\n",
       "Name: lemmas, dtype: object"
      ]
     },
     "execution_count": 7,
     "metadata": {},
     "output_type": "execute_result"
    }
   ],
   "source": [
    "# split into toxic, non-toxic and all\n",
    "toxic_text = train_orig[train_orig[\"label\"] == 1][\"lemmas\"]\n",
    "nontoxic_text = train_orig[train_orig[\"label\"] == 0][\"lemmas\"]\n",
    "all_text =  train_orig[\"lemmas\"]\n",
    "\n",
    "NUM_TOXIC = len(toxic_text)\n",
    "NUM_NONTOXIC = len(nontoxic_text)\n",
    "NUM_TOTAL = len(all_text)\n",
    "\n",
    "toxic_text.head()"
   ]
  },
  {
   "cell_type": "markdown",
   "metadata": {},
   "source": [
    "#### Oversampled"
   ]
  },
  {
   "cell_type": "code",
   "execution_count": 317,
   "metadata": {},
   "outputs": [],
   "source": [
    "with open(os.getcwd()+\"/data/orig_dataset_splits.pkl\", \"rb\") as f:\n",
    "    orig_oversampled = pickle.load(f)\n",
    "X_oversampl = orig_oversampled[\"X training preprocessed and oversampled\"]\n",
    "y_oversampl = orig_oversampled[\"y training preprocessed and oversampled\"]"
   ]
  },
  {
   "cell_type": "code",
   "execution_count": 321,
   "metadata": {},
   "outputs": [
    {
     "data": {
      "text/html": [
       "<div>\n",
       "<style scoped>\n",
       "    .dataframe tbody tr th:only-of-type {\n",
       "        vertical-align: middle;\n",
       "    }\n",
       "\n",
       "    .dataframe tbody tr th {\n",
       "        vertical-align: top;\n",
       "    }\n",
       "\n",
       "    .dataframe thead th {\n",
       "        text-align: right;\n",
       "    }\n",
       "</style>\n",
       "<table border=\"1\" class=\"dataframe\">\n",
       "  <thead>\n",
       "    <tr style=\"text-align: right;\">\n",
       "      <th></th>\n",
       "      <th>tweet</th>\n",
       "      <th>label</th>\n",
       "    </tr>\n",
       "  </thead>\n",
       "  <tbody>\n",
       "    <tr>\n",
       "      <th>0</th>\n",
       "      <td>hahaha</td>\n",
       "      <td>0</td>\n",
       "    </tr>\n",
       "    <tr>\n",
       "      <th>1</th>\n",
       "      <td>user føler svært så prøv flytte afrika får str...</td>\n",
       "      <td>0</td>\n",
       "    </tr>\n",
       "    <tr>\n",
       "      <th>2</th>\n",
       "      <td>endnu barriere bønder uden eu</td>\n",
       "      <td>0</td>\n",
       "    </tr>\n",
       "    <tr>\n",
       "      <th>3</th>\n",
       "      <td>eneste møde ved snuskede stambar aalborg altid...</td>\n",
       "      <td>0</td>\n",
       "    </tr>\n",
       "    <tr>\n",
       "      <th>4</th>\n",
       "      <td>godt forøvrigt taget dokumentarprogram svensk ...</td>\n",
       "      <td>0</td>\n",
       "    </tr>\n",
       "    <tr>\n",
       "      <th>...</th>\n",
       "      <td>...</td>\n",
       "      <td>...</td>\n",
       "    </tr>\n",
       "    <tr>\n",
       "      <th>3419</th>\n",
       "      <td>danske lort fucking god hører kender lyder mus...</td>\n",
       "      <td>1</td>\n",
       "    </tr>\n",
       "    <tr>\n",
       "      <th>3420</th>\n",
       "      <td>så må lort kr sindsyge</td>\n",
       "      <td>1</td>\n",
       "    </tr>\n",
       "    <tr>\n",
       "      <th>3421</th>\n",
       "      <td>fucking smukt</td>\n",
       "      <td>1</td>\n",
       "    </tr>\n",
       "    <tr>\n",
       "      <th>3422</th>\n",
       "      <td>lortet begynder går indtil amok hvæse</td>\n",
       "      <td>1</td>\n",
       "    </tr>\n",
       "    <tr>\n",
       "      <th>3423</th>\n",
       "      <td>kan land hellere fandme sverige luder fucke ka...</td>\n",
       "      <td>1</td>\n",
       "    </tr>\n",
       "  </tbody>\n",
       "</table>\n",
       "<p>3424 rows × 2 columns</p>\n",
       "</div>"
      ],
      "text/plain": [
       "                                                  tweet label\n",
       "0                                                hahaha     0\n",
       "1     user føler svært så prøv flytte afrika får str...     0\n",
       "2                         endnu barriere bønder uden eu     0\n",
       "3     eneste møde ved snuskede stambar aalborg altid...     0\n",
       "4     godt forøvrigt taget dokumentarprogram svensk ...     0\n",
       "...                                                 ...   ...\n",
       "3419  danske lort fucking god hører kender lyder mus...     1\n",
       "3420                             så må lort kr sindsyge     1\n",
       "3421                                      fucking smukt     1\n",
       "3422              lortet begynder går indtil amok hvæse     1\n",
       "3423  kan land hellere fandme sverige luder fucke ka...     1\n",
       "\n",
       "[3424 rows x 2 columns]"
      ]
     },
     "execution_count": 321,
     "metadata": {},
     "output_type": "execute_result"
    }
   ],
   "source": [
    "train_oversampl = pd.DataFrame([X_oversampl, y_oversampl]).T\n",
    "train_oversampl.rename(columns={\"Unnamed 0\": \"tweet\"}, inplace=True)\n",
    "train_oversampl"
   ]
  },
  {
   "cell_type": "code",
   "execution_count": 322,
   "metadata": {},
   "outputs": [
    {
     "name": "stderr",
     "output_type": "stream",
     "text": [
      "100%|██████████| 3424/3424 [08:27<00:00,  6.75it/s]\n"
     ]
    }
   ],
   "source": [
    "# lemmatize the texts\n",
    "train_oversampl[\"lemmas\"] = train_oversampl[\"tweet\"].progress_apply(lemmatize_text)"
   ]
  },
  {
   "cell_type": "code",
   "execution_count": 323,
   "metadata": {},
   "outputs": [
    {
     "data": {
      "text/plain": [
       "10    få tage scanne lortet pc markere underskrif ny...\n",
       "12    føle snakke kunne klarer fyr stort se venn vej...\n",
       "13    så lidt fuck meget sol varme lille regn please...\n",
       "24    afrika forstå mene hvorfor fucking stor helved...\n",
       "31    så uden ved lige kunne heller df ingen udlændi...\n",
       "Name: lemmas, dtype: object"
      ]
     },
     "execution_count": 323,
     "metadata": {},
     "output_type": "execute_result"
    }
   ],
   "source": [
    "# split into toxic, non-toxic and all\n",
    "toxic_text_oversampl = train_oversampl[train_oversampl[\"label\"] == 1][\"lemmas\"]\n",
    "nontoxic_text_oversampl = train_oversampl[train_oversampl[\"label\"] == 0][\"lemmas\"]\n",
    "all_text_oversampl = train_oversampl[\"lemmas\"]\n",
    "\n",
    "NUM_TOXIC_OVERSAMPL = len(toxic_text_oversampl)\n",
    "NUM_NONTOXIC_OVERSAMPL = len(nontoxic_text_oversampl)\n",
    "NUM_TOTAL_OVERSAMPL = len(all_text_oversampl)\n",
    "\n",
    "toxic_text_oversampl.head()"
   ]
  },
  {
   "cell_type": "markdown",
   "metadata": {},
   "source": [
    "## Load identity terms"
   ]
  },
  {
   "cell_type": "code",
   "execution_count": 8,
   "metadata": {},
   "outputs": [
    {
     "name": "stdout",
     "output_type": "stream",
     "text": [
      "45 unique identity lemmas\n"
     ]
    },
    {
     "data": {
      "text/html": [
       "<div>\n",
       "<style scoped>\n",
       "    .dataframe tbody tr th:only-of-type {\n",
       "        vertical-align: middle;\n",
       "    }\n",
       "\n",
       "    .dataframe tbody tr th {\n",
       "        vertical-align: top;\n",
       "    }\n",
       "\n",
       "    .dataframe thead th {\n",
       "        text-align: right;\n",
       "    }\n",
       "</style>\n",
       "<table border=\"1\" class=\"dataframe\">\n",
       "  <thead>\n",
       "    <tr style=\"text-align: right;\">\n",
       "      <th></th>\n",
       "      <th>identity_term</th>\n",
       "      <th>identity_lemma</th>\n",
       "    </tr>\n",
       "  </thead>\n",
       "  <tbody>\n",
       "    <tr>\n",
       "      <th>155</th>\n",
       "      <td>transpersonerne</td>\n",
       "      <td>transperson</td>\n",
       "    </tr>\n",
       "    <tr>\n",
       "      <th>156</th>\n",
       "      <td>transvestitterne</td>\n",
       "      <td>transvestit</td>\n",
       "    </tr>\n",
       "    <tr>\n",
       "      <th>157</th>\n",
       "      <td>transerne</td>\n",
       "      <td>trans</td>\n",
       "    </tr>\n",
       "    <tr>\n",
       "      <th>158</th>\n",
       "      <td>androgynerne</td>\n",
       "      <td>androgyn</td>\n",
       "    </tr>\n",
       "    <tr>\n",
       "      <th>159</th>\n",
       "      <td>hermafroditterne</td>\n",
       "      <td>hermafrodit</td>\n",
       "    </tr>\n",
       "  </tbody>\n",
       "</table>\n",
       "</div>"
      ],
      "text/plain": [
       "        identity_term identity_lemma\n",
       "155   transpersonerne    transperson\n",
       "156  transvestitterne    transvestit\n",
       "157         transerne          trans\n",
       "158      androgynerne       androgyn\n",
       "159  hermafroditterne    hermafrodit"
      ]
     },
     "execution_count": 8,
     "metadata": {},
     "output_type": "execute_result"
    }
   ],
   "source": [
    "# load identity terms\n",
    "identities = pd.read_excel(os.getcwd()+\"/data/identity_terms.xlsx\")\n",
    "print(len(set(identities[\"identity_lemma\"])), \"unique identity lemmas\")\n",
    "identities.tail()"
   ]
  },
  {
   "cell_type": "code",
   "execution_count": 9,
   "metadata": {},
   "outputs": [
    {
     "name": "stderr",
     "output_type": "stream",
     "text": [
      "100%|██████████| 160/160 [00:08<00:00, 18.21it/s]"
     ]
    },
    {
     "name": "stdout",
     "output_type": "stream",
     "text": [
      "133 unique lemmatized identity terms\n"
     ]
    },
    {
     "name": "stderr",
     "output_type": "stream",
     "text": [
      "\n"
     ]
    },
    {
     "data": {
      "text/html": [
       "<div>\n",
       "<style scoped>\n",
       "    .dataframe tbody tr th:only-of-type {\n",
       "        vertical-align: middle;\n",
       "    }\n",
       "\n",
       "    .dataframe tbody tr th {\n",
       "        vertical-align: top;\n",
       "    }\n",
       "\n",
       "    .dataframe thead th {\n",
       "        text-align: right;\n",
       "    }\n",
       "</style>\n",
       "<table border=\"1\" class=\"dataframe\">\n",
       "  <thead>\n",
       "    <tr style=\"text-align: right;\">\n",
       "      <th></th>\n",
       "      <th>identity_term</th>\n",
       "      <th>identity_lemma</th>\n",
       "      <th>lemmatized</th>\n",
       "    </tr>\n",
       "  </thead>\n",
       "  <tbody>\n",
       "    <tr>\n",
       "      <th>155</th>\n",
       "      <td>transpersonerne</td>\n",
       "      <td>transperson</td>\n",
       "      <td>transperson</td>\n",
       "    </tr>\n",
       "    <tr>\n",
       "      <th>156</th>\n",
       "      <td>transvestitterne</td>\n",
       "      <td>transvestit</td>\n",
       "      <td>transvestitterne</td>\n",
       "    </tr>\n",
       "    <tr>\n",
       "      <th>157</th>\n",
       "      <td>transerne</td>\n",
       "      <td>trans</td>\n",
       "      <td>transe</td>\n",
       "    </tr>\n",
       "    <tr>\n",
       "      <th>158</th>\n",
       "      <td>androgynerne</td>\n",
       "      <td>androgyn</td>\n",
       "      <td>androgynerne</td>\n",
       "    </tr>\n",
       "    <tr>\n",
       "      <th>159</th>\n",
       "      <td>hermafroditterne</td>\n",
       "      <td>hermafrodit</td>\n",
       "      <td>hermafroditterne</td>\n",
       "    </tr>\n",
       "  </tbody>\n",
       "</table>\n",
       "</div>"
      ],
      "text/plain": [
       "        identity_term identity_lemma        lemmatized\n",
       "155   transpersonerne    transperson       transperson\n",
       "156  transvestitterne    transvestit  transvestitterne\n",
       "157         transerne          trans            transe\n",
       "158      androgynerne       androgyn      androgynerne\n",
       "159  hermafroditterne    hermafrodit  hermafroditterne"
      ]
     },
     "execution_count": 9,
     "metadata": {},
     "output_type": "execute_result"
    }
   ],
   "source": [
    "# lemmatize the identity terms\n",
    "identities[\"lemmatized\"] = identities[\"identity_term\"].progress_apply(lemmatize_text)\n",
    "print(len(set(identities[\"lemmatized\"])), \"unique lemmatized identity terms\")\n",
    "identities.tail()"
   ]
  },
  {
   "cell_type": "code",
   "execution_count": 10,
   "metadata": {},
   "outputs": [],
   "source": [
    "# create map from lemmatized word to the actual lemma\n",
    "lemmatized_2_lemma = dict(zip(identities[\"lemmatized\"], identities[\"identity_lemma\"]))"
   ]
  },
  {
   "cell_type": "markdown",
   "metadata": {},
   "source": [
    "## Test scraper"
   ]
  },
  {
   "cell_type": "code",
   "execution_count": 300,
   "metadata": {},
   "outputs": [
    {
     "name": "stdout",
     "output_type": "stream",
     "text": [
      "Successfully scraped the webpage with the title: \"Transkønnethed\"\n",
      "____________________________________________________________________________________________________\n",
      "Transkønnethed er en betegnelse for personer, der har en kønsidentitet eller et kønsudtryk, der adskiller sig fra deres fødselskøn.[1][2][3] Nogle transkønnede, som ønsker medicinsk hjælp til at overgå fra et køn til et andet, identificerer sig som transseksuelle.[4][5] Transkønnet, ofte forkortet til blot trans, er også et paraplybegreb: Udover at omfatte personer, hvis kønsidentitet er det modsatte af deres fødselskøn (dvs. transmænd og transkvinder), kan det også anvendes om personer, hvis kønsudtryk ikke er eksklusivt maskulint eller feminint (personer, som er ikke-binære eller genderqueer, heriblandt bikønnede, pankønnede, genderfluid og akønnede).[2][6][7] Blandt andre definitioner af transkønnet er også at inkludere personer, der tilhører et tredje køn, eller konceptualisere transkønnede som et tredje køn.[8][9] Begrebet transkønnet kan defineres meget bredt til også at inkludere transvestisme eller ligefrem crossdressing generelt.[10]\n",
      "\n",
      "At være transkønnet er uafhængigt af seksuel orientering.[11] Transkønnede personer kan identificere sig som heteroseksuelle, homoseksuelle, biseksuelle, aseksuelle eller helt nægte at sætte en betegnelse på deres seksuelle orientering. Begrebet transgender skelnes også fra intersex, da sidstnævnte betegner personer, der er født med fysiske kønskarakteristika \"der ikke passer ind i typiske binære forståelser af hankønnede eller hunkønnede kroppe\".[12] Det modsatte af transkønnethed er ciskønnethed, der beskriver personer hvis kønsidentitet eller kønsudtryk stemmer overens med deres fødselskøn.[13]\n",
      "\n",
      "Graden hvortil personer kan føle sig autentiske og tilpas med deres ydre udseende og acceptere deres reelle identitet er blevet kaldt transkønnethedskongruens.[14] Mange transkønnede oplever kønsdysfori, og nogle søger medicinsk behandling såsom hormonterapi, kønsskifteoperation eller psykoterapi.[15] Ikke alle transkønnede ønsker disse behandlinger, og nogle kan slet ikke modtage dem af økonomiske eller medicinske grunde.[15][16]\n",
      "\n",
      "På verdensplan oplever mange transkønnede diskrimination på arbejdspladsen[17] og i offentlige rum[18] og sundhedssystemet.[19] Mange steder er transkønnede ikke juridisk beskyttede mod diskrimination.[20]\n",
      "\n",
      "Psykiateren John F. Oliven fra Columbia University var den første til at anvende begrebet transgender i sit opslagsværk Sexual Hygiene and Pathology (1965),[21] hvori han skrev at det begreb der tidligere var blevet anvendt, transseksualisme, \"er vildledende; faktisk menes 'transkønnethed' (engelsk: transgenderism), da seksualitet ikke er en større faktor i primær transvestisme.\"[22][23] Begrebet transgender blev derefter populariseret med forskellige forskellige definitioner fra forskellige transkønnede, transseksuelle og transvistitiske personer, heriblandt Virginia Prince,[4] som anvendte det i december 1969 i månedens udgave af Transvestia, et amerikansk nationalt magasin for crossdressers som hun grundlagde.[24] Ved midten af 1970'erne blev både trans-gender (\"transkønnet\") og trans people (\"transpersoner\") anvendt som paraplybegreber,[note 1] og transgenderist blev brugt til at henvise til personer, der ønskede at leve som det modstillede køn uden brug af kønsskifteoperationer.[25] I 1976 blev transgenderist forkortet TG i oplysningsmaterialer.[26]\n",
      "\n",
      "I 1984 havde idéen om et \"transkønnet fællesskab\" udviklet sig, og her blev transkønnet anvendt som et paraplybegreb.[27] I 1985 etablerede Richard Elkins \"Trans-Gender Archive\" ved Ulster Universitet.[24] I 1992 definerede International Conference on Transgender Law and Employment Policy transkønnethed (engelsk: transgender) som et større paraplybegreb, der inkluderede \"transseksuelle, transgenderists, cross dressers\" og enhver der er i transition.[28] Leslie Feinberg's pamflet, \"Transgender Liberation: A Movement Whose Time has Come\", i cirkulation i 1992, identificerede transgender som en betegnelse, som skulle forene alle former for nonkonformitet indenfor køn; på denne måde er transgender blevet synonymt med queer.[29]\n",
      "\n",
      "Mellem midt-1990'erne og de tidlige 2000'ere var de primære betegnelser under transkønnethedsparaplyen \"female to male\" (FtM, dansk: hun til han) for mænd, som gennemgik transition fra hunkøn til hankøn, og \"male to female\" (MtF, dansk: han til hun) for kvinder, som gennemgik transition fra hankøn til hunkøn. Disse betegnelser er siden blevet erstattet af hhv. begreberne \"transmand\" og \"transkvinde\", og betegnelserne \"transmaskulin\" eller \"transfeminin\" er også begyndt at finde anvendelse.[30] Dette skift i præference fra begreber, der lagde vægt på biologisk køn (\"transseksuel\" og sidenhen \"FtM\") til begreber, der lægger vægt på kønsidentitet og udtryk (\"transkønnet\", \"transkvinde\") er udtryk for et bredere skifte i forståelsen af transkønnede personers selvfølelse, og den voksende anerkendelse af de, som afviser medicinske indgreb, som værende en del af transkønnedes fællesskab.[30]\n",
      "\n",
      "Sundhedsfaglige manualer, professionelle journalistiske stilmanualer og LGBT-grupper anbefaler at andre i deres interaktioner med en transkønnet person anvender det navn og de stedord som den pågældende person selv identificerer sig med, heriblandt nutidige henvisninger til transpersonens fortid.[31][32] Mange bemærker også at transkønnet (engelsk: transgender) bør anvendes som et tillægsord, ikke et navneord (for eksempel, \"Max er transkønnet\" eller \"Max er en transkønnet mand\", ikke \"Max er en transkønnet\").[33][34] På engelsk anbefales ligeledes at man betegner folk som transgender og ikke transgendered.[35]\n",
      "\n",
      "Transkønnethed står generelt i kontrast til ciskønnethed, hvilket betegner personer, hvis følelse af personlig identitet stemmer overens med det køn de blev tildelt ved fødslen – dvs. personer, som hverken er transkønnede eller ikke-binære/genderqueer.[36]\n",
      "\n",
      "Præfikserne trans- og cis- stammer fra latin, og betyder oprindeligt hhv. \"på den anden side af\" og \"på denne side af\".[37][38]\n",
      "\n",
      "Den tyske sexolog Magnus Hirschfeld introducerede i 1923 betegnelsen Transsexualismus, som David Oliver Cauldwell i 1949 oversatte til det engelske transsexual, hvilket efterfølgende blev populariseret af Harry Benjamin i 1966, omkring den samme tid som ordet transgender vandt indpas.[4] Siden 1990'erne er transsexual (normalt oversat til transseksuel og transseksualitet på dansk) generelt blevet anvendt til at beskrive en undergruppe af transkønnede personer,[4][39][40] som ønsker at overgå permanent til det køn, som de identificerer sig med, og som søger medicinsk hjælp (eksempelvis kønsskifteoperationer) til at opnå dette.\n",
      "\n",
      "Skelnen mellem transkønnet/transgender og transseksuel/transsexual baseres ofte på skelnen mellem socialt og biologisk køn, hvor førstnævnte på engelsk betegnes gender og sidstnævnte sex. [41][42] På denne måde kan transseksualitet siges primært at omhandle de fysiske aspekter af en persons biologiske køn, mens transkønnethedsrelaterede overvejelser primært omhandler ens psykologiske og sociale kønsdisposition eller prædisposition såvel som de relaterede samfundsmæssige forventninger, der kan følge med en given kønsrolle.[43] Mange transkønnede personer afviser at betegne sig selv som transseksuelle.[5][44][45] Christine Jorgensen afviste offentligt ordet transsexual i 1979 og identificerede sig i stedet i nyhedsartikler som trans-gender, og skrev \"køn (engelsk: gender) har ikke noget at gøre med sengepartnere, det har at gøre med identitet.\"[46][47] Dette henviser til en bekymring om at ordet transseksualitet antyder at der er tale om seksualitet, i stedet for om kønsidentitet.[48][note 2] Nogle transseksuelle personer ønsker omvendt ikke at transseksuelle bliver inkluderet under paraplybetegnelsen transkønnethed.[49][50][51][52]\n",
      "\n",
      "I sin bog Transgender, an Ethnography of a Category (2007) beskriver antropologen David Valentine at ordet \"transkønnet\" (engelsk: transgender) blev opfundet og anvendt af aktivister til at inkludere mange personer, der ikke nødvendigvis selv identificerer sig med begrebet, og skriver ydermere at personer, som ikke identificerer sig som transkønnede ikke bør inkluderes i transkønnethedsspektrummet.[49] Leslie Feinberg har ligeledes udtalt at \"transkønnet\" (engelsk: transgender) ikke er et selvidentificerende begreb (for nogle personer) men derimod en kategori, man bliver pålagt af iagttagere for at kunne forstå andre mennesker.[50] Transgender Health Program (THP) ved Fenway Health i Boston i USA skriver at der ikke findes nogen universelt-accepterede definitioner, og at terminologiforvirringen er udbredt fordi flere af de begreber, der var populære ved århundredeskiftet nu anses som værende anstødelige. THP anbefaler at læger spørger deres klienter hvilken terminologi de foretrækker, og undgår begrebet \"transseksuel\" medmindre de er sikre på at en klient er komfortabel med det.[48]\n",
      "\n",
      "Harry Benjamin opfandt et klassifikationssystem for transseksuelle og transvestiter kaldet Sex Orientation Scale (SOS), hvori han tildelte transseksuelle og transvestiter en af seks kategorier baseret på deres grund til at crossdresse, og hvor påtrængende nødvendigt (hvis overhovedet) de fandt deres behov for kønsskifteoperationer.[53] Benjamin mente at en \"sand transseksuel\" ved moderat intensitet hverken behøvede østrogen eller testosteron som en erstatning for, eller før, kirurgiske indgreb.[53]\n",
      "\n",
      "Genderqueer eller ikke-binære kønsidentiteter er ikke specifikt maskuline eller feminine. De kan være akønnede, androgyne, bikønnede, pankønnede eller genderfluid,[54] og eksistere udenfor normal cisnormativitet.[55][56] \"Bikønnet\" og \"androgyn\" er overlappende kategorier; bikønnede individer kan identificere sig som vekslende mellem maskuline og feminine roller (genderfluid) eller som værende både maskuline og feminine på samme tid (androgyne), og androgyne personer kan ligeledes identificere sig som værende kønsløse (postkønnede eller akønnede), mellem køn (interkønnede), vekslende mellem kønnene (genderfluid) eller på samme tid udvise flere køn (pankønnede). \"Androgyn\" anvendes også somme tider som et medicinsk synonym for en intersex-person.[57]\n",
      "\n",
      "En transvestit er en person, som crossdresser, dvs. regelmæssigt klæder sig i tøj der typisk associeres med det modsatte køn af det de blev tildelt ved fødslen.[58][59] Begrebet \"transvestit\" anvendes ofte som synonym for ordet \"crossdresser\",[60][61] selvom \"crossdresser\" generelt foretrækkes.[61][62] Begrebet \"crossdresser\" defineres ikke præcist i relevant litteratur. Michael A. Gilbert, professor ved Department of Philosophy på York University i Toronto, Canada, giver denne definition: \"[En crossdresser] er en person, som har en tilsyneladende kønsidentifikation med et køn (engelsk: sex), og som er og med sikkerhed er blevet fødselsdesigneret som tilhørende [det] køn, men som bærer det modsatte køns tøj, fordi det er det modsatte køns tøj.\"[63] Denne definition ekskluderer personer \"som bærer det modsatte køns tøj af andre grunde,\" såsom \"de kvindeefterlignere som kun ser på beklædning som forbundet til deres levebrød, skuespillere der påtager sig roller, individuelle mænd og kvinder (engelsk: males and females) som nyder et maskebal, osv. Disse individer crossdresser, men er ikke crossdressers.\"[64] Crossdressers identificerer sig ikke nødvendigvis med det modsatte køn, eller ønsker at være det eller antage dets adfærd eller skikke, og ønsker generelt ikke at ændre deres kroppe medicinsk eller kirurgisk. Størstedelen af alle crossdressers identificerer sig som heteroseksuelle.[65]\n",
      "\n",
      "Begrebet \"transvestit\" og det associerede ord \"transvestisme\" er konceptuelt anderledes end begrebet transvestitisk fetichisme, da sidstnævnte henviser til personer, der af og til anvender det modsatte køns tøj af fetichistiske årsager.[66][67] I medicinsk terminologi differentieres transvestitisk fetichisme fra crossdressing ved brug af de separate koder 302.3[67] i Diagnostic and Statistical Manual of Mental Disorders (DSM) og F65.1[66] i ICD.\n",
      "\n",
      "Transition er betegnelsen for den proces, som nogle transkønnede gennemgår, hvor de forsøger at blive accepteret som, opfattet som eller fremstå mere i overensstemmelse med de forventninger, samfundet eller de selv har til medlemmer af deres køn. Dette kan involvere juridiske tiltag som (juridisk) kønsskifte, navneændring og/eller at få et kryds i passet, administration af hormontilskud og/eller antihormon med det formål at ændre på temperament og/eller at opnå eller forhindre udvikling af sekundære kønstræk, kirurgiske indgreb som kønskorrigerende operation, brystimplantater eller fjernelse af brystvæv, eller udskiftning af tøj, frisure, smykker, makeup-vaner, brug af specialiseret tøj som binders og packers, mm. for at opnå en bestemt fremtoning. Det er ikke alle transkønnede, hvis transition indebærer alle disse ting, og nogle transkønnede gennemgår intet af ovenstående men nøjes med at forklare deres omgangskreds, hvilket køn de har, selvom deres navn eller udseende ikke stemmer overens med normerne for dette køn.[kilde mangler]\n",
      "\n",
      "I mange lande bliver indbyggerne ved registrering tildelt status som enten juridisk mand eller juridisk kvinde enten i landets personregister eller i kraft af en fødselsattest. Juridisk kønsskifte er den process, man gennemgår, når man ændrer status fra juridisk mand til juridisk kvinde eller omvendt. I nogle lande er det også muligt at få tildelt et helt tredje juridisk køn. I de fleste lande er det ikke muligt at få juridisk kønsskifte overhovedet, og i nogle lande kan det kun opnås med godkendelse fra en læge eller psykiater. Der kræves nogle steder forudgående kirurgiske indgreb som sterilisation, kastration eller kønskorrigerende operation, mens man Argentina[68] og Danmark kan opnå juridisk kønsskifte uden andre krav en skriftlig bekræftelse fra personen selv, såfremt denne er myndig.\n",
      "\n",
      "Man kan i dag søge hos Det Centrale Personregister om at få ændret sit personnummer, såfremt man mener, at ens biologiske køn ikke stemmer overens med det køn, man føler, at man har. Der kræves blot, at man underskriver en erklæring om, at man ønsker det juridiske kønsskifte og efter en 6 måneders venteperiode bekræfter, at man stadigvæk ønsker det. Det er også et krav, at man er fyldt 18 år ved ansøgningstidspunktet.[69]\n",
      "\n",
      "Et juridisk kønsskifte påvirker bl.a. hvilke fornavne, man efter navneloven kan tage og kan derfor være nødvendigt for nogle transkønnede, førend de kan få deres ønskede navn godkendt juridisk. Der kan dog også gives dispensation for navneloven af Sexologisk Klinik ved Psykiatrisk Center København, hvis personen er transkønnet med diagnosen transseksualisme eller en tilstand, der kan ligestilles dermed, men dette kræver en langvarig og ofte uønsket udredning, der ofte er længere end venteperioden ved juridisk kønsskifte.[70]\n",
      "\n",
      "Den 11. juni 2014 blev L 182 – Forslag til lov om ændring af lov om Det Centrale Personregister vedtaget af Folketinget, hvor Socialdemokratiet, Det Radikale Venstre, Socialistisk Folkeparti og Enhedslisten stemte for.[71] Da loven den 1. september 2014 trådte i kraft, blev juridisk kønsskifte i Danmark mere tilgængeligt end før. Før den nye lov trådte i kraft 1. september 2014, blev det for at opnå juridisk kønsskifte i Danmark krævet, at den transkønnede havde fået stillet diagnosen transseksualisme, og at denne desuden som minimum havde gennemgået kastration eller kønskorrigerende operation. Loven har gjort, at man efter en venteperiode på 6 måneder kan få sit CPR-nummer ændret, således at man bliver betragtet juridisk som det køn, det sidste ciffer i CPR-nummeret afspejler. Der findes indtil videre kun to juridiske køn i Danmark: Mand og Kvinde – i modsætning til i f.eks. Thailand, hvor man også kan blive anerkendt juridisk som tilhørende det tredje køn.[72]\n",
      "\n",
      "Rammerne for behandling i Danmark er beskrevet af Sundhedsstyrelsen i ”Vejledning om sundhedsfaglig hjælp ved kønsidentitetsforhold”.\n",
      "\n",
      "I september 2014 opstod et politisk initiativ kaldet Til kamp for informeret samtykke som reaktion på et udkast fra Sundhedsstyrelsen til stramninger på transkønnedes medicinske behandlingsmuligheder. Indflydelse fra Sundhedsstyrelsen gjorde bl.a., at gynækologen Peter Bagger, som i 20 år havde behandlet transkønnede, sagde farvel og tak til sine transkønnede patienter,[73] og dette har formentligt været en af de begivenheder, der har sat skub i initiativet. Initiativets indflydelse blev alvor, da et cirkulære med opbakning fra Transpolitisk Front, LGBT Danmark, LGBT Ungdom, Stop Overformynderiet af Transkønnede, Transpolitisk Forum, Stop Had, Øjne i Natten og Queer gruppen i Internationalt Forum blev delt på en række nyhedssider og opfordrede til deltagelse i en underskriftsindsamling imod Sundhedsstyrelsens kommende vejledning og for en behandlingsmodel, der bygger på informeret samtykke – en model, hvor det kun er den transkønnede selv, der afgør, om denne er transkønnet eller ej, og hvor behandling forudsætter, at denne har fået viden om og overblik over behandlingens konsekvenser men uden at forudsætte en psykiaters erklæring derudover.[74][75][76][77][78]\n",
      "\n",
      "Udkastet fra sundhedsstyrelsen skulle senere trods bred kritik[79][80][81][82], underskriftindsamlingen, og en demonstration på Christiansborg Slotsplads[83] blive til den endelige Vejledning om udredning og behandling af transkønnede, offentliggjort den 23. december 2014 og senere gjort offentligt tilgængelig på Retsinformation den 7. januar 2015.[84] Sammen med kritikken af Sundhedsstyrelsens udkast og endelige udgave af vejledningen følger også en mangeårig kritik af den Sexologiske Klinik ved Psykiatrisk Center København, som transkønnede under den nye vejledning tvinges til at lade sig udredes psykiatrisk hos og blive godkendt af, inden de kan komme i hormonbehandling eller modtage andre medicinske indgreb.[85][86][87]\n",
      "\n",
      "Udover cirkulæret, underskriftsindsamlingen, demonstrationen på Christiansborg Slotsplads den 23. oktober 2014 og diverse medieoptrædener har initiativet også affødt en kampagne kaldet Post til ministeren – Min krop mit valg, hvor støtter af projektet opfordres til at tage et billede af sig selv sammen med teksten \"Min krop mit valg\" eller \"Til Kamp for Informeret Samtykke\" og sende det til sundhedsministeren.[83]\n",
      "\n",
      "Diagnosen der kan gives til personer, der i psykiatrien vurderes til at være transkønnede, er transseksualisme. Selvom der i den i skrivende stund gældende vejledning om udredning og behandling af transkønnede står, at diagnosen ikke er udtryk for en somatisk eller psykiatrisk sygdomstilstand,[88] er diagnosen (DF64.0) klassificeret under Kap. V: Psykiske lidelser og adfærdsmæssige forstyrrelser. I vejledningen bliver den desuden omtalt som diagnosen transseksualitet, men navnet på diagnosen er i klassifikationssystemet fortsat transseksualisme[89]. Diagnosen Kønsidentitetsforstyrrelse UNS (DF64.9) gives også ved den psykiatriske udredning af transkønnede.\n",
      "\n",
      "Et beslutningsforslag om at fjerne transseksualisme fra sygdomslisten blev i Folketinget fremsat i april 2013[90] og i februar 2015.[91] Sidstnævnte resulterede i et løfte fra Sundheds- og Ældreministeren samt en beretning fra Folketingets Sundheds- og Ældreudvalg om, at diagnosen transseksualisme vil blive flyttet fra afsnittet med psykiske sygdomme til et \"ikke-stigmatiserende\" afsnit i den danske sygdomsklassifikation ved starten af 2017, såfremt WHO ikke allerede har gjort dette i deres klassifikation til den tid.[92] Transkønnede kommentatorer og rettighedsforkæmpere har kaldt dette symbolpolitik, som ikke forbedrer transkønnedes vilkår, medmindre den følges op af krav om reform i sundhedsvæsenets tilgang til udredning og behandling af transkønnede.[93][94]\n",
      "\n",
      "Hvorvidt diagnoseplaceringens ændring har en reel effekt på de transkønnedes stigmatisering er endnu ikke bevist. Ifølge direktøren for Sundhedsstyrelsen og speciallæge i gynækologi, Søren Brostrøm, er det dog ikke diagnoseplaceringen som beskriver i hvilken grad der er tale om en lidelse, men rettere lægehjælpens beskrivelse af diagnosen.[95]\n",
      "\n",
      "Trods transkønnedes forbedrede rettigheder og den relaterede sygdoms frigørelse fra listen over psykiske lidelser, bliver disses udredning samt behandling tilstadighed økonomisk støttet af den danske stat. Støttepuljen for dette udgør fra 2016 3,3 millioner kroner årligt.[96]\n",
      "\n",
      "Transkønnede børn og unge identificerer sig ikke med det køn, som de blev tildelt ved fødslen. En transdreng identificerer sig som dreng men blev tildelt et feminint køn ved fødslen. En transpige identificerer sig som pige men blev tildelt et maskulint køn ved fødslen. I Danmark er det eneste tilbud til transkønnede børn og unge på Sexologisk Klinik, der siden 2012 har haft monopol på behandlingen af transkønnede.[97]\n",
      "\n",
      "Tilbuddet til børn og unge blev oprettet i januar 2016. Der forventes at være 120-130 børn og unge om året, der henvender sig til Sexologisk Klinik.[98]\n",
      "\n",
      "Siden januar 2016 har det været muligt for transkønnede børn og unge at få stophormoner, der kan udskyde puberteten, samt krydshormoner.[99]\n",
      "\n",
      "Børn og unge kan få pubertetsbremsende medicin (\"stop-hormon\"), hvis puberteten er indledt (fra Tanner stadie 2)[100]. Metoden er velkendt gennem flere årtier til behandling af for tidlig pubertet hos børn og tåles overordnet set godt. Stophormonet sætter puberteten på pause. Hvis behandlingen standses, kan kroppen vende tilbage til pubertetens oprindelige udvikling. De fysiske tegn på pubertet (vækst af testikler, vækst af bryster) udvikles ikke yderligere, og vækstspurten standses. Hos unge, som henvender sig i 15-17 årsalderen, er puberteten ofte allerede overstået, og her ses ingen effekt på højden og kun små fysiske effekter, hvis overhovedet.[99][101]\n",
      "\n",
      "Det er muligt for unge at blive behandlet med krydshormoner, dvs. østrogen til transpiger og testosteron til transdrenge. Behandling af krydshormoner kan kun ske efter en grundig udredning og vurdering af den unge samt efter en periode med behandling af stop-hormoner, hvor effekten er vurderet[100]. Krydshormonbehandling er velkendt og velafprøvet gennem årtier hos unge med forsinket pubertet mm. Hos unge, som endnu ikke har gennemgået en fuld pubertet, trappes behandlingen gradvist op til voksendosis for at fremme en harmonisk fysisk og psykisk modning. Hos unge med fuld pubertetsudvikling og afsluttet vækst kan dosis tilpasses voksne forhold fra starten. Hvis dosis svarer til almindelig hormonerstatning er risiko for bivirkninger på kort og lang sigt beskeden. Da hormonniveauerne er meget forskellige mellem raske individer, laves løbende kontrol af lever- og nyretal, vitaminer, mineraler, sukker, blodtryk mv.. Desuden spørges til psykiske bivirkninger og rådgives om sund livsstil. De fysiske ændringer af denne påvirkning er ikke reversible ved ophør. Mange års krydshormonbehandling kan muligvis skade fertiliteten.[99]\n",
      "\n",
      "Transkønnede børn og unge skal visiteres af egen læge til Sexologisk Klinik. Der skal man have 5 samtaler, hvorefter man sendes videre til Bispebjerg Hospital, der er en afdeling under Børne-Unge-psykiatrien i Region Hovedstaden. På Bispebjerg skal børn og unge have foretaget intelligenstest, fremvise en skoleudtalelse, udfylde spørgeskemaer og udredes for en række psykiatriske diagnoser (skizofreni, autisme m.v.). Der er ikke sammenhæng mellem diagnoserne og transkønnethed. Sideløbende med udredningen på Bispebjerg skal man fortsat deltage i samtaler på Sexologisk Klinik. Efter Bispebjergs udredning drøftes den enkeltes sag på en fælles konference for Sexologisk Klinik og Bispebjerg. Hvis barnet/den unge godkendes på konferencen, så gives hormonerne hos \"Vækst og Reproduktionen\".[102]\n",
      "\n",
      "Unge skal have været tilknyttet Sexologisk Klinik mindst 1 år for at få hormoner.[103]\n",
      "\n",
      "Processen i forhold til stop-hormoner kan også tage over 1 år på grund af:\n",
      "\n",
      "Der opleves mangel på forståelse for, hvor vigtigt det er med en hurtig udredning, fordi børn og unges kroppe udvikler sig hurtigt, og fordi puberteten giver irreversible ændringer.[kilde mangler]\n",
      "\n",
      "Samtalerne på Sexologisk Klinik og Bispebjerg medfører, at transkønnede børn og unge får fravær i forhold til skole og uddannelse. Det gælder i særdeleshed for børn og unge i provinsen, da Sexologisk Klinik er det eneste tilbud i landet.[104] For børn og unge i provinsen tager hver samtale en skole- eller arbejdsdag. En proces med ca. 1 samtale om måneden i 1 år giver således 12 fraværsdage. Det kan være problematisk for unge på en ungdomsuddannelse.\n",
      "\n",
      "I Norge er det muligt for børn fra 6 år at foretage et juridisk kønsskifte. Det er ikke muligt i Danmark for børn og unge under 18 år. Det betyder, at børn og unge officielt stadig har det køn, som de ikke identificerer sig med. Det bliver børnene konfronteret med fx i lufthavnen, hvor deres pas angiver et køn, der ikke svarer til deres udseende.[105][106]\n",
      "\n",
      "Det kan være af stor betydning for transkønnede børn og unge at have et navn, der svarer til deres kønsidentitet. Da de godkendte navne hænger sammen med det juridiske køn (som man skal være over 18 år for at ændre), kan man ikke vælge et navn, der svarer til det køn, man identificerer sig med. Men der er mulighed for at finde et navn, der er kønsneutralt eller et uni-sexnavn.\n",
      "\n",
      "Der er oprettet en forening til støtte for transkønnede børn. Foreningen arbejder for at forbedre vilkårene for transkønnede børn og unge og arrangerer bl.a netværksmøder.[107]\n",
      "\n",
      "LGBT-ordbogen og Amnesty International Danmark benytter begrebet \"tildelt\" køn.[108][109]\n",
      "\n"
     ]
    }
   ],
   "source": [
    "content = scrape_wiki_text(\"https://da.wikipedia.org/wiki/Transk%C3%B8nnethed\")\n",
    "print(\"_\"*100)\n",
    "for text in content:\n",
    "    print(text)"
   ]
  },
  {
   "cell_type": "markdown",
   "metadata": {},
   "source": [
    "## Perform Data Supplemenation"
   ]
  },
  {
   "cell_type": "markdown",
   "metadata": {},
   "source": [
    "### Frequency of identity terms"
   ]
  },
  {
   "cell_type": "code",
   "execution_count": 754,
   "metadata": {},
   "outputs": [
    {
     "name": "stdout",
     "output_type": "stream",
     "text": [
      "This should return False. Result: False\n",
      "This should return True.  Result: True\n"
     ]
    }
   ],
   "source": [
    "# test function\n",
    "print(\"This should return False. Result:\", occurs_in_string(\"mor\", \"elsker din humor\"))\n",
    "print(\"This should return True.  Result:\", occurs_in_string(\"mor\", \"hans mor er pænt sød\"))"
   ]
  },
  {
   "cell_type": "code",
   "execution_count": 760,
   "metadata": {},
   "outputs": [],
   "source": [
    "# count how many texts these terms occur in\n",
    "lemmatized_identities = list(set(identities[\"lemmatized\"]))\n",
    "occur_in_n_texts = {\"lemmatized_identity\": lemmatized_identities, \"toxic_count\": [], \"nontoxic_count\":[], \"total_count\":[]}\n",
    "\n",
    "for lemma in lemmatized_identities:\n",
    "    occur_in_n_texts[\"toxic_count\"].append(toxic_text.apply(lambda x: int(occurs_in_string(target=lemma, text=x))).sum())\n",
    "    occur_in_n_texts[\"nontoxic_count\"].append(nontoxic_text.apply(lambda x: int(occurs_in_string(target=lemma, text=x))).sum())\n",
    "    occur_in_n_texts[\"total_count\"].append(all_text.apply(lambda x: (occurs_in_string(target=lemma, text=x))).sum())"
   ]
  },
  {
   "cell_type": "code",
   "execution_count": 761,
   "metadata": {},
   "outputs": [
    {
     "data": {
      "text/html": [
       "<div>\n",
       "<style scoped>\n",
       "    .dataframe tbody tr th:only-of-type {\n",
       "        vertical-align: middle;\n",
       "    }\n",
       "\n",
       "    .dataframe tbody tr th {\n",
       "        vertical-align: top;\n",
       "    }\n",
       "\n",
       "    .dataframe thead th {\n",
       "        text-align: right;\n",
       "    }\n",
       "</style>\n",
       "<table border=\"1\" class=\"dataframe\">\n",
       "  <thead>\n",
       "    <tr style=\"text-align: right;\">\n",
       "      <th></th>\n",
       "      <th>lemma</th>\n",
       "      <th>toxic_count</th>\n",
       "      <th>nontoxic_count</th>\n",
       "      <th>total_count</th>\n",
       "      <th>toxic_pct</th>\n",
       "      <th>nontoxic_pct</th>\n",
       "      <th>total_pct</th>\n",
       "      <th>tox_total_diff</th>\n",
       "      <th>tox_total_abs_diff</th>\n",
       "    </tr>\n",
       "  </thead>\n",
       "  <tbody>\n",
       "    <tr>\n",
       "      <th>0</th>\n",
       "      <td>mand</td>\n",
       "      <td>16</td>\n",
       "      <td>57</td>\n",
       "      <td>73</td>\n",
       "      <td>4.60</td>\n",
       "      <td>2.50</td>\n",
       "      <td>2.77</td>\n",
       "      <td>1.82</td>\n",
       "      <td>1.82</td>\n",
       "    </tr>\n",
       "    <tr>\n",
       "      <th>1</th>\n",
       "      <td>kvinde</td>\n",
       "      <td>7</td>\n",
       "      <td>26</td>\n",
       "      <td>33</td>\n",
       "      <td>2.01</td>\n",
       "      <td>1.14</td>\n",
       "      <td>1.25</td>\n",
       "      <td>0.76</td>\n",
       "      <td>0.76</td>\n",
       "    </tr>\n",
       "    <tr>\n",
       "      <th>2</th>\n",
       "      <td>fyr</td>\n",
       "      <td>1</td>\n",
       "      <td>0</td>\n",
       "      <td>1</td>\n",
       "      <td>0.29</td>\n",
       "      <td>0.00</td>\n",
       "      <td>0.04</td>\n",
       "      <td>0.25</td>\n",
       "      <td>0.25</td>\n",
       "    </tr>\n",
       "    <tr>\n",
       "      <th>3</th>\n",
       "      <td>mandfolk</td>\n",
       "      <td>1</td>\n",
       "      <td>0</td>\n",
       "      <td>1</td>\n",
       "      <td>0.29</td>\n",
       "      <td>0.00</td>\n",
       "      <td>0.04</td>\n",
       "      <td>0.25</td>\n",
       "      <td>0.25</td>\n",
       "    </tr>\n",
       "    <tr>\n",
       "      <th>4</th>\n",
       "      <td>queer</td>\n",
       "      <td>1</td>\n",
       "      <td>0</td>\n",
       "      <td>1</td>\n",
       "      <td>0.29</td>\n",
       "      <td>0.00</td>\n",
       "      <td>0.04</td>\n",
       "      <td>0.25</td>\n",
       "      <td>0.25</td>\n",
       "    </tr>\n",
       "    <tr>\n",
       "      <th>5</th>\n",
       "      <td>kvindfolk</td>\n",
       "      <td>1</td>\n",
       "      <td>0</td>\n",
       "      <td>1</td>\n",
       "      <td>0.29</td>\n",
       "      <td>0.00</td>\n",
       "      <td>0.04</td>\n",
       "      <td>0.25</td>\n",
       "      <td>0.25</td>\n",
       "    </tr>\n",
       "    <tr>\n",
       "      <th>6</th>\n",
       "      <td>tøs</td>\n",
       "      <td>1</td>\n",
       "      <td>0</td>\n",
       "      <td>1</td>\n",
       "      <td>0.29</td>\n",
       "      <td>0.00</td>\n",
       "      <td>0.04</td>\n",
       "      <td>0.25</td>\n",
       "      <td>0.25</td>\n",
       "    </tr>\n",
       "    <tr>\n",
       "      <th>7</th>\n",
       "      <td>søn</td>\n",
       "      <td>1</td>\n",
       "      <td>1</td>\n",
       "      <td>2</td>\n",
       "      <td>0.29</td>\n",
       "      <td>0.04</td>\n",
       "      <td>0.08</td>\n",
       "      <td>0.21</td>\n",
       "      <td>0.21</td>\n",
       "    </tr>\n",
       "    <tr>\n",
       "      <th>8</th>\n",
       "      <td>fætter</td>\n",
       "      <td>1</td>\n",
       "      <td>2</td>\n",
       "      <td>3</td>\n",
       "      <td>0.29</td>\n",
       "      <td>0.09</td>\n",
       "      <td>0.11</td>\n",
       "      <td>0.17</td>\n",
       "      <td>0.17</td>\n",
       "    </tr>\n",
       "    <tr>\n",
       "      <th>9</th>\n",
       "      <td>kone</td>\n",
       "      <td>2</td>\n",
       "      <td>9</td>\n",
       "      <td>11</td>\n",
       "      <td>0.57</td>\n",
       "      <td>0.39</td>\n",
       "      <td>0.42</td>\n",
       "      <td>0.16</td>\n",
       "      <td>0.16</td>\n",
       "    </tr>\n",
       "    <tr>\n",
       "      <th>10</th>\n",
       "      <td>mor</td>\n",
       "      <td>1</td>\n",
       "      <td>5</td>\n",
       "      <td>6</td>\n",
       "      <td>0.29</td>\n",
       "      <td>0.22</td>\n",
       "      <td>0.23</td>\n",
       "      <td>0.06</td>\n",
       "      <td>0.06</td>\n",
       "    </tr>\n",
       "    <tr>\n",
       "      <th>11</th>\n",
       "      <td>far</td>\n",
       "      <td>1</td>\n",
       "      <td>5</td>\n",
       "      <td>6</td>\n",
       "      <td>0.29</td>\n",
       "      <td>0.22</td>\n",
       "      <td>0.23</td>\n",
       "      <td>0.06</td>\n",
       "      <td>0.06</td>\n",
       "    </tr>\n",
       "    <tr>\n",
       "      <th>37</th>\n",
       "      <td>dreng</td>\n",
       "      <td>1</td>\n",
       "      <td>7</td>\n",
       "      <td>8</td>\n",
       "      <td>0.29</td>\n",
       "      <td>0.31</td>\n",
       "      <td>0.30</td>\n",
       "      <td>-0.02</td>\n",
       "      <td>0.02</td>\n",
       "    </tr>\n",
       "    <tr>\n",
       "      <th>38</th>\n",
       "      <td>kusine</td>\n",
       "      <td>0</td>\n",
       "      <td>1</td>\n",
       "      <td>1</td>\n",
       "      <td>0.00</td>\n",
       "      <td>0.04</td>\n",
       "      <td>0.04</td>\n",
       "      <td>-0.04</td>\n",
       "      <td>0.04</td>\n",
       "    </tr>\n",
       "    <tr>\n",
       "      <th>39</th>\n",
       "      <td>søster</td>\n",
       "      <td>0</td>\n",
       "      <td>2</td>\n",
       "      <td>2</td>\n",
       "      <td>0.00</td>\n",
       "      <td>0.09</td>\n",
       "      <td>0.08</td>\n",
       "      <td>-0.08</td>\n",
       "      <td>0.08</td>\n",
       "    </tr>\n",
       "    <tr>\n",
       "      <th>40</th>\n",
       "      <td>herre</td>\n",
       "      <td>0</td>\n",
       "      <td>3</td>\n",
       "      <td>3</td>\n",
       "      <td>0.00</td>\n",
       "      <td>0.13</td>\n",
       "      <td>0.11</td>\n",
       "      <td>-0.11</td>\n",
       "      <td>0.11</td>\n",
       "    </tr>\n",
       "    <tr>\n",
       "      <th>41</th>\n",
       "      <td>pige</td>\n",
       "      <td>1</td>\n",
       "      <td>10</td>\n",
       "      <td>11</td>\n",
       "      <td>0.29</td>\n",
       "      <td>0.44</td>\n",
       "      <td>0.42</td>\n",
       "      <td>-0.13</td>\n",
       "      <td>0.13</td>\n",
       "    </tr>\n",
       "    <tr>\n",
       "      <th>42</th>\n",
       "      <td>bror</td>\n",
       "      <td>1</td>\n",
       "      <td>11</td>\n",
       "      <td>12</td>\n",
       "      <td>0.29</td>\n",
       "      <td>0.48</td>\n",
       "      <td>0.46</td>\n",
       "      <td>-0.17</td>\n",
       "      <td>0.17</td>\n",
       "    </tr>\n",
       "    <tr>\n",
       "      <th>43</th>\n",
       "      <td>datter</td>\n",
       "      <td>0</td>\n",
       "      <td>5</td>\n",
       "      <td>5</td>\n",
       "      <td>0.00</td>\n",
       "      <td>0.22</td>\n",
       "      <td>0.19</td>\n",
       "      <td>-0.19</td>\n",
       "      <td>0.19</td>\n",
       "    </tr>\n",
       "    <tr>\n",
       "      <th>44</th>\n",
       "      <td>dame</td>\n",
       "      <td>0</td>\n",
       "      <td>5</td>\n",
       "      <td>5</td>\n",
       "      <td>0.00</td>\n",
       "      <td>0.22</td>\n",
       "      <td>0.19</td>\n",
       "      <td>-0.19</td>\n",
       "      <td>0.19</td>\n",
       "    </tr>\n",
       "  </tbody>\n",
       "</table>\n",
       "</div>"
      ],
      "text/plain": [
       "        lemma  toxic_count  nontoxic_count  total_count  toxic_pct  \\\n",
       "0        mand           16              57           73       4.60   \n",
       "1      kvinde            7              26           33       2.01   \n",
       "2         fyr            1               0            1       0.29   \n",
       "3    mandfolk            1               0            1       0.29   \n",
       "4       queer            1               0            1       0.29   \n",
       "5   kvindfolk            1               0            1       0.29   \n",
       "6         tøs            1               0            1       0.29   \n",
       "7         søn            1               1            2       0.29   \n",
       "8      fætter            1               2            3       0.29   \n",
       "9        kone            2               9           11       0.57   \n",
       "10        mor            1               5            6       0.29   \n",
       "11        far            1               5            6       0.29   \n",
       "37      dreng            1               7            8       0.29   \n",
       "38     kusine            0               1            1       0.00   \n",
       "39     søster            0               2            2       0.00   \n",
       "40      herre            0               3            3       0.00   \n",
       "41       pige            1              10           11       0.29   \n",
       "42       bror            1              11           12       0.29   \n",
       "43     datter            0               5            5       0.00   \n",
       "44       dame            0               5            5       0.00   \n",
       "\n",
       "    nontoxic_pct  total_pct  tox_total_diff  tox_total_abs_diff  \n",
       "0           2.50       2.77            1.82                1.82  \n",
       "1           1.14       1.25            0.76                0.76  \n",
       "2           0.00       0.04            0.25                0.25  \n",
       "3           0.00       0.04            0.25                0.25  \n",
       "4           0.00       0.04            0.25                0.25  \n",
       "5           0.00       0.04            0.25                0.25  \n",
       "6           0.00       0.04            0.25                0.25  \n",
       "7           0.04       0.08            0.21                0.21  \n",
       "8           0.09       0.11            0.17                0.17  \n",
       "9           0.39       0.42            0.16                0.16  \n",
       "10          0.22       0.23            0.06                0.06  \n",
       "11          0.22       0.23            0.06                0.06  \n",
       "37          0.31       0.30           -0.02                0.02  \n",
       "38          0.04       0.04           -0.04                0.04  \n",
       "39          0.09       0.08           -0.08                0.08  \n",
       "40          0.13       0.11           -0.11                0.11  \n",
       "41          0.44       0.42           -0.13                0.13  \n",
       "42          0.48       0.46           -0.17                0.17  \n",
       "43          0.22       0.19           -0.19                0.19  \n",
       "44          0.22       0.19           -0.19                0.19  "
      ]
     },
     "execution_count": 761,
     "metadata": {},
     "output_type": "execute_result"
    }
   ],
   "source": [
    "# create df with these occurrence numbers\n",
    "occurrence_df = pd.DataFrame(occur_in_n_texts)\n",
    "\n",
    "# map back to actual lemma and aggregate duplicates\n",
    "occurrence_df[\"lemma\"] = occurrence_df[\"lemmatized_identity\"].map(lemmatized_2_lemma)\n",
    "occurrence_df = occurrence_df.groupby(\"lemma\").agg({\"toxic_count\": \"sum\", \"nontoxic_count\": \"sum\", \"total_count\": \"sum\"}).reset_index()\n",
    "\n",
    "# calculate percentages\n",
    "occurrence_df[\"toxic_pct\"] = (occurrence_df[\"toxic_count\"]/NUM_TOXIC)*100 \n",
    "occurrence_df[\"nontoxic_pct\"] = (occurrence_df[\"nontoxic_count\"]/NUM_NONTOXIC)*100 \n",
    "occurrence_df[\"total_pct\"] = (occurrence_df[\"total_count\"]/NUM_TOTAL)*100 \n",
    "\n",
    "# calculate differences\n",
    "occurrence_df[\"tox_total_diff\"] = occurrence_df[\"toxic_pct\"] - occurrence_df[\"total_pct\"]\n",
    "occurrence_df[\"tox_total_abs_diff\"] = abs(occurrence_df[\"toxic_pct\"] - occurrence_df[\"total_pct\"])\n",
    "\n",
    "# sort by difference\n",
    "sorted_occurrence_df = occurrence_df.sort_values(\"tox_total_diff\", ascending=False).reset_index(drop=True)\n",
    "\n",
    "# display rows where toxic pct != total pct\n",
    "sorted_occurrence_df[sorted_occurrence_df[\"tox_total_diff\"] != 0].round(2)"
   ]
  },
  {
   "cell_type": "code",
   "execution_count": 14,
   "metadata": {},
   "outputs": [],
   "source": [
    "# save this df\n",
    "sorted_occurrence_df.to_excel(os.getcwd()+\"/mitigation/frequency_of_identity_lemmas.xlsx\")"
   ]
  },
  {
   "cell_type": "markdown",
   "metadata": {},
   "source": [
    "The ones with a difference > 0 are the ones that I need to look at. \n",
    "\n",
    "I can actually make a difference here by adding non-toxic data and getting the toxic_pct number closer to the total_pct number, thereby reducing the difference so it's as close to zero as possible. "
   ]
  },
  {
   "cell_type": "markdown",
   "metadata": {},
   "source": [
    "#### Oversampled data"
   ]
  },
  {
   "cell_type": "code",
   "execution_count": 762,
   "metadata": {},
   "outputs": [],
   "source": [
    "# count how many texts these terms occur in\n",
    "occur_in_n_texts_oversampl = {\"lemmatized_identity\": lemmatized_identities, \"toxic_count\": [], \"nontoxic_count\":[], \"total_count\":[]}\n",
    "\n",
    "for lemma in lemmatized_identities:\n",
    "    occur_in_n_texts_oversampl[\"toxic_count\"].append(toxic_text_oversampl.apply(lambda x: int(occurs_in_string(target=lemma, text=x))).sum())\n",
    "    occur_in_n_texts_oversampl[\"nontoxic_count\"].append(nontoxic_text_oversampl.apply(lambda x: int(occurs_in_string(target=lemma, text=x))).sum())\n",
    "    occur_in_n_texts_oversampl[\"total_count\"].append(all_text_oversampl.apply(lambda x: int(occurs_in_string(target=lemma, text=x))).sum())"
   ]
  },
  {
   "cell_type": "code",
   "execution_count": 763,
   "metadata": {},
   "outputs": [
    {
     "data": {
      "text/html": [
       "<div>\n",
       "<style scoped>\n",
       "    .dataframe tbody tr th:only-of-type {\n",
       "        vertical-align: middle;\n",
       "    }\n",
       "\n",
       "    .dataframe tbody tr th {\n",
       "        vertical-align: top;\n",
       "    }\n",
       "\n",
       "    .dataframe thead th {\n",
       "        text-align: right;\n",
       "    }\n",
       "</style>\n",
       "<table border=\"1\" class=\"dataframe\">\n",
       "  <thead>\n",
       "    <tr style=\"text-align: right;\">\n",
       "      <th></th>\n",
       "      <th>lemma</th>\n",
       "      <th>toxic_count</th>\n",
       "      <th>nontoxic_count</th>\n",
       "      <th>total_count</th>\n",
       "      <th>toxic_pct</th>\n",
       "      <th>nontoxic_pct</th>\n",
       "      <th>total_pct</th>\n",
       "      <th>tox_total_diff</th>\n",
       "      <th>tox_total_abs_diff</th>\n",
       "    </tr>\n",
       "  </thead>\n",
       "  <tbody>\n",
       "    <tr>\n",
       "      <th>0</th>\n",
       "      <td>mand</td>\n",
       "      <td>61</td>\n",
       "      <td>55</td>\n",
       "      <td>116</td>\n",
       "      <td>5.35</td>\n",
       "      <td>2.41</td>\n",
       "      <td>3.39</td>\n",
       "      <td>1.96</td>\n",
       "      <td>1.96</td>\n",
       "    </tr>\n",
       "    <tr>\n",
       "      <th>1</th>\n",
       "      <td>kvinde</td>\n",
       "      <td>32</td>\n",
       "      <td>25</td>\n",
       "      <td>57</td>\n",
       "      <td>2.80</td>\n",
       "      <td>1.10</td>\n",
       "      <td>1.66</td>\n",
       "      <td>1.14</td>\n",
       "      <td>1.14</td>\n",
       "    </tr>\n",
       "    <tr>\n",
       "      <th>2</th>\n",
       "      <td>fætter</td>\n",
       "      <td>6</td>\n",
       "      <td>2</td>\n",
       "      <td>8</td>\n",
       "      <td>0.53</td>\n",
       "      <td>0.09</td>\n",
       "      <td>0.23</td>\n",
       "      <td>0.29</td>\n",
       "      <td>0.29</td>\n",
       "    </tr>\n",
       "    <tr>\n",
       "      <th>3</th>\n",
       "      <td>kone</td>\n",
       "      <td>9</td>\n",
       "      <td>9</td>\n",
       "      <td>18</td>\n",
       "      <td>0.79</td>\n",
       "      <td>0.39</td>\n",
       "      <td>0.53</td>\n",
       "      <td>0.26</td>\n",
       "      <td>0.26</td>\n",
       "    </tr>\n",
       "    <tr>\n",
       "      <th>4</th>\n",
       "      <td>fyr</td>\n",
       "      <td>4</td>\n",
       "      <td>0</td>\n",
       "      <td>4</td>\n",
       "      <td>0.35</td>\n",
       "      <td>0.00</td>\n",
       "      <td>0.12</td>\n",
       "      <td>0.23</td>\n",
       "      <td>0.23</td>\n",
       "    </tr>\n",
       "    <tr>\n",
       "      <th>5</th>\n",
       "      <td>far</td>\n",
       "      <td>6</td>\n",
       "      <td>5</td>\n",
       "      <td>11</td>\n",
       "      <td>0.53</td>\n",
       "      <td>0.22</td>\n",
       "      <td>0.32</td>\n",
       "      <td>0.20</td>\n",
       "      <td>0.20</td>\n",
       "    </tr>\n",
       "    <tr>\n",
       "      <th>6</th>\n",
       "      <td>søn</td>\n",
       "      <td>4</td>\n",
       "      <td>2</td>\n",
       "      <td>6</td>\n",
       "      <td>0.35</td>\n",
       "      <td>0.09</td>\n",
       "      <td>0.18</td>\n",
       "      <td>0.18</td>\n",
       "      <td>0.18</td>\n",
       "    </tr>\n",
       "    <tr>\n",
       "      <th>7</th>\n",
       "      <td>dreng</td>\n",
       "      <td>6</td>\n",
       "      <td>8</td>\n",
       "      <td>14</td>\n",
       "      <td>0.53</td>\n",
       "      <td>0.35</td>\n",
       "      <td>0.41</td>\n",
       "      <td>0.12</td>\n",
       "      <td>0.12</td>\n",
       "    </tr>\n",
       "    <tr>\n",
       "      <th>8</th>\n",
       "      <td>mandfolk</td>\n",
       "      <td>2</td>\n",
       "      <td>0</td>\n",
       "      <td>2</td>\n",
       "      <td>0.18</td>\n",
       "      <td>0.00</td>\n",
       "      <td>0.06</td>\n",
       "      <td>0.12</td>\n",
       "      <td>0.12</td>\n",
       "    </tr>\n",
       "    <tr>\n",
       "      <th>9</th>\n",
       "      <td>queer</td>\n",
       "      <td>2</td>\n",
       "      <td>0</td>\n",
       "      <td>2</td>\n",
       "      <td>0.18</td>\n",
       "      <td>0.00</td>\n",
       "      <td>0.06</td>\n",
       "      <td>0.12</td>\n",
       "      <td>0.12</td>\n",
       "    </tr>\n",
       "    <tr>\n",
       "      <th>10</th>\n",
       "      <td>kvindfolk</td>\n",
       "      <td>2</td>\n",
       "      <td>0</td>\n",
       "      <td>2</td>\n",
       "      <td>0.18</td>\n",
       "      <td>0.00</td>\n",
       "      <td>0.06</td>\n",
       "      <td>0.12</td>\n",
       "      <td>0.12</td>\n",
       "    </tr>\n",
       "    <tr>\n",
       "      <th>11</th>\n",
       "      <td>mor</td>\n",
       "      <td>4</td>\n",
       "      <td>5</td>\n",
       "      <td>9</td>\n",
       "      <td>0.35</td>\n",
       "      <td>0.22</td>\n",
       "      <td>0.26</td>\n",
       "      <td>0.09</td>\n",
       "      <td>0.09</td>\n",
       "    </tr>\n",
       "    <tr>\n",
       "      <th>12</th>\n",
       "      <td>tøs</td>\n",
       "      <td>1</td>\n",
       "      <td>0</td>\n",
       "      <td>1</td>\n",
       "      <td>0.09</td>\n",
       "      <td>0.00</td>\n",
       "      <td>0.03</td>\n",
       "      <td>0.06</td>\n",
       "      <td>0.06</td>\n",
       "    </tr>\n",
       "    <tr>\n",
       "      <th>38</th>\n",
       "      <td>bror</td>\n",
       "      <td>4</td>\n",
       "      <td>9</td>\n",
       "      <td>13</td>\n",
       "      <td>0.35</td>\n",
       "      <td>0.39</td>\n",
       "      <td>0.38</td>\n",
       "      <td>-0.03</td>\n",
       "      <td>0.03</td>\n",
       "    </tr>\n",
       "    <tr>\n",
       "      <th>39</th>\n",
       "      <td>kusine</td>\n",
       "      <td>0</td>\n",
       "      <td>1</td>\n",
       "      <td>1</td>\n",
       "      <td>0.00</td>\n",
       "      <td>0.04</td>\n",
       "      <td>0.03</td>\n",
       "      <td>-0.03</td>\n",
       "      <td>0.03</td>\n",
       "    </tr>\n",
       "    <tr>\n",
       "      <th>40</th>\n",
       "      <td>søster</td>\n",
       "      <td>0</td>\n",
       "      <td>2</td>\n",
       "      <td>2</td>\n",
       "      <td>0.00</td>\n",
       "      <td>0.09</td>\n",
       "      <td>0.06</td>\n",
       "      <td>-0.06</td>\n",
       "      <td>0.06</td>\n",
       "    </tr>\n",
       "    <tr>\n",
       "      <th>41</th>\n",
       "      <td>dame</td>\n",
       "      <td>0</td>\n",
       "      <td>3</td>\n",
       "      <td>3</td>\n",
       "      <td>0.00</td>\n",
       "      <td>0.13</td>\n",
       "      <td>0.09</td>\n",
       "      <td>-0.09</td>\n",
       "      <td>0.09</td>\n",
       "    </tr>\n",
       "    <tr>\n",
       "      <th>42</th>\n",
       "      <td>herre</td>\n",
       "      <td>0</td>\n",
       "      <td>3</td>\n",
       "      <td>3</td>\n",
       "      <td>0.00</td>\n",
       "      <td>0.13</td>\n",
       "      <td>0.09</td>\n",
       "      <td>-0.09</td>\n",
       "      <td>0.09</td>\n",
       "    </tr>\n",
       "    <tr>\n",
       "      <th>43</th>\n",
       "      <td>pige</td>\n",
       "      <td>3</td>\n",
       "      <td>10</td>\n",
       "      <td>13</td>\n",
       "      <td>0.26</td>\n",
       "      <td>0.44</td>\n",
       "      <td>0.38</td>\n",
       "      <td>-0.12</td>\n",
       "      <td>0.12</td>\n",
       "    </tr>\n",
       "    <tr>\n",
       "      <th>44</th>\n",
       "      <td>datter</td>\n",
       "      <td>0</td>\n",
       "      <td>5</td>\n",
       "      <td>5</td>\n",
       "      <td>0.00</td>\n",
       "      <td>0.22</td>\n",
       "      <td>0.15</td>\n",
       "      <td>-0.15</td>\n",
       "      <td>0.15</td>\n",
       "    </tr>\n",
       "  </tbody>\n",
       "</table>\n",
       "</div>"
      ],
      "text/plain": [
       "        lemma  toxic_count  nontoxic_count  total_count  toxic_pct  \\\n",
       "0        mand           61              55          116       5.35   \n",
       "1      kvinde           32              25           57       2.80   \n",
       "2      fætter            6               2            8       0.53   \n",
       "3        kone            9               9           18       0.79   \n",
       "4         fyr            4               0            4       0.35   \n",
       "5         far            6               5           11       0.53   \n",
       "6         søn            4               2            6       0.35   \n",
       "7       dreng            6               8           14       0.53   \n",
       "8    mandfolk            2               0            2       0.18   \n",
       "9       queer            2               0            2       0.18   \n",
       "10  kvindfolk            2               0            2       0.18   \n",
       "11        mor            4               5            9       0.35   \n",
       "12        tøs            1               0            1       0.09   \n",
       "38       bror            4               9           13       0.35   \n",
       "39     kusine            0               1            1       0.00   \n",
       "40     søster            0               2            2       0.00   \n",
       "41       dame            0               3            3       0.00   \n",
       "42      herre            0               3            3       0.00   \n",
       "43       pige            3              10           13       0.26   \n",
       "44     datter            0               5            5       0.00   \n",
       "\n",
       "    nontoxic_pct  total_pct  tox_total_diff  tox_total_abs_diff  \n",
       "0           2.41       3.39            1.96                1.96  \n",
       "1           1.10       1.66            1.14                1.14  \n",
       "2           0.09       0.23            0.29                0.29  \n",
       "3           0.39       0.53            0.26                0.26  \n",
       "4           0.00       0.12            0.23                0.23  \n",
       "5           0.22       0.32            0.20                0.20  \n",
       "6           0.09       0.18            0.18                0.18  \n",
       "7           0.35       0.41            0.12                0.12  \n",
       "8           0.00       0.06            0.12                0.12  \n",
       "9           0.00       0.06            0.12                0.12  \n",
       "10          0.00       0.06            0.12                0.12  \n",
       "11          0.22       0.26            0.09                0.09  \n",
       "12          0.00       0.03            0.06                0.06  \n",
       "38          0.39       0.38           -0.03                0.03  \n",
       "39          0.04       0.03           -0.03                0.03  \n",
       "40          0.09       0.06           -0.06                0.06  \n",
       "41          0.13       0.09           -0.09                0.09  \n",
       "42          0.13       0.09           -0.09                0.09  \n",
       "43          0.44       0.38           -0.12                0.12  \n",
       "44          0.22       0.15           -0.15                0.15  "
      ]
     },
     "execution_count": 763,
     "metadata": {},
     "output_type": "execute_result"
    }
   ],
   "source": [
    "# create df with these occurrence numbers\n",
    "occurrence_df_oversampl = pd.DataFrame(occur_in_n_texts_oversampl)\n",
    "\n",
    "# map back to actual lemma and aggregate duplicates\n",
    "occurrence_df_oversampl[\"lemma\"] = occurrence_df_oversampl[\"lemmatized_identity\"].map(lemmatized_2_lemma)\n",
    "occurrence_df_oversampl = occurrence_df_oversampl.groupby(\"lemma\").agg({\"toxic_count\": \"sum\", \"nontoxic_count\": \"sum\", \"total_count\": \"sum\"}).reset_index()\n",
    "\n",
    "# calculate percentages\n",
    "occurrence_df_oversampl[\"toxic_pct\"] = (occurrence_df_oversampl[\"toxic_count\"]/NUM_TOXIC_OVERSAMPL)*100 \n",
    "occurrence_df_oversampl[\"nontoxic_pct\"] = (occurrence_df_oversampl[\"nontoxic_count\"]/NUM_NONTOXIC_OVERSAMPL)*100 \n",
    "occurrence_df_oversampl[\"total_pct\"] = (occurrence_df_oversampl[\"total_count\"]/NUM_TOTAL_OVERSAMPL)*100 \n",
    "\n",
    "# calculate differences\n",
    "occurrence_df_oversampl[\"tox_total_diff\"] = occurrence_df_oversampl[\"toxic_pct\"] - occurrence_df_oversampl[\"total_pct\"]\n",
    "occurrence_df_oversampl[\"tox_total_abs_diff\"] = abs(occurrence_df_oversampl[\"toxic_pct\"] - occurrence_df_oversampl[\"total_pct\"])\n",
    "\n",
    "# sort by difference\n",
    "sorted_occurrence_df_oversampl = occurrence_df_oversampl.sort_values(\"tox_total_diff\", ascending=False).reset_index(drop=True)\n",
    "\n",
    "# display rows where toxic pct != total pct\n",
    "sorted_occurrence_df_oversampl[sorted_occurrence_df_oversampl[\"tox_total_diff\"] != 0].round(2)"
   ]
  },
  {
   "cell_type": "code",
   "execution_count": 326,
   "metadata": {},
   "outputs": [],
   "source": [
    "# save this df\n",
    "sorted_occurrence_df_oversampl.to_excel(os.getcwd()+\"/mitigation/frequency_of_identity_lemmas_oversampl.xlsx\")"
   ]
  },
  {
   "cell_type": "markdown",
   "metadata": {},
   "source": [
    "The difference is that *dreng* is now in the top part (positive). Some differences are smaller, some are larger."
   ]
  },
  {
   "cell_type": "markdown",
   "metadata": {},
   "source": [
    "### Length differences\n",
    "\n",
    "Percent of comments labeled as toxic at each length containing the given terms, e.g.:\n",
    "\n",
    "| Term | 20-59 | 60-179 |\n",
    "|:---:|:---:|:---:|\n",
    "| ALL | 17% | 12% |\n",
    "| gay | 88% | 77% |\n",
    "| queer | 75% | 83% |\n",
    "| ... | ... | ... |\n",
    "\n",
    "Other lengths:\n",
    "* 180-539\n",
    "* 540-1619\n",
    "* 1620-4859\n",
    "\n",
    "\n",
    "Method:\n",
    "\n",
    "* For each lemma:\n",
    "  * Find the texts that it occur in\n",
    "  * Separate these texts into 5 length buckets\n",
    "  * For each length_bucket:\n",
    "    * Find the percentage that are toxic"
   ]
  },
  {
   "cell_type": "code",
   "execution_count": 271,
   "metadata": {},
   "outputs": [
    {
     "name": "stderr",
     "output_type": "stream",
     "text": [
      "100%|██████████| 2631/2631 [00:00<00:00, 381155.49it/s]\n"
     ]
    }
   ],
   "source": [
    "# add lengths to df\n",
    "train_orig[\"length\"] = train_orig[\"tweet\"].progress_apply(lambda x: len(x))"
   ]
  },
  {
   "cell_type": "code",
   "execution_count": 273,
   "metadata": {},
   "outputs": [
    {
     "name": "stdout",
     "output_type": "stream",
     "text": [
      "Min length: 0\n",
      "Max length: 3518\n"
     ]
    }
   ],
   "source": [
    "# divide into 6 buckets\n",
    "print(\"Min length:\", train_orig[\"length\"].min())\n",
    "print(\"Max length:\", train_orig[\"length\"].max())\n",
    "\n",
    "bin1 = train_orig.query(\"0 <= length <= 19\") # 20\n",
    "bin2 = train_orig.query(\"20 <= length <= 59\") # 40\n",
    "bin3 = train_orig.query(\"60 <= length <= 139\") # 80\n",
    "bin4 = train_orig.query(\"140 <= length <= 299\") # 160\n",
    "bin5 = train_orig.query(\"300 <= length <= 619\") # 320\n",
    "bin6 = train_orig.query(\"620 <= length\") # the rest\n",
    "bins = [bin1, bin2, bin3, bin4, bin5, bin6]\n",
    "bin_labels = [\"0-19\", \"20-59\", \"60-139\", \"140-299\", \"300-619\", \"620-3519\"]"
   ]
  },
  {
   "cell_type": "code",
   "execution_count": 283,
   "metadata": {},
   "outputs": [
    {
     "data": {
      "text/html": [
       "<div>\n",
       "<style scoped>\n",
       "    .dataframe tbody tr th:only-of-type {\n",
       "        vertical-align: middle;\n",
       "    }\n",
       "\n",
       "    .dataframe tbody tr th {\n",
       "        vertical-align: top;\n",
       "    }\n",
       "\n",
       "    .dataframe thead th {\n",
       "        text-align: right;\n",
       "    }\n",
       "</style>\n",
       "<table border=\"1\" class=\"dataframe\">\n",
       "  <thead>\n",
       "    <tr style=\"text-align: right;\">\n",
       "      <th>bin_range</th>\n",
       "      <th>0-19</th>\n",
       "      <th>20-59</th>\n",
       "      <th>60-139</th>\n",
       "      <th>140-299</th>\n",
       "      <th>300-619</th>\n",
       "      <th>620-3519</th>\n",
       "    </tr>\n",
       "  </thead>\n",
       "  <tbody>\n",
       "    <tr>\n",
       "      <th>ALL</th>\n",
       "      <td>10.74</td>\n",
       "      <td>12.79</td>\n",
       "      <td>13.75</td>\n",
       "      <td>17.5</td>\n",
       "      <td>29.63</td>\n",
       "      <td>33.33</td>\n",
       "    </tr>\n",
       "  </tbody>\n",
       "</table>\n",
       "</div>"
      ],
      "text/plain": [
       "bin_range   0-19  20-59  60-139  140-299  300-619  620-3519\n",
       "ALL        10.74  12.79   13.75     17.5    29.63     33.33"
      ]
     },
     "execution_count": 283,
     "metadata": {},
     "output_type": "execute_result"
    }
   ],
   "source": [
    "# find proportion of toxic comments for each bin (no specific terms)\n",
    "results = {\"bin_range\":bin_labels, \"toxic\":[], \"nontoxic\":[]}\n",
    "for bin in bins: # length bins\n",
    "    results[\"toxic\"].append(len(bin[bin[\"label\"] == 1])) # count toxic in that bin\n",
    "    results[\"nontoxic\"].append(len(bin[bin[\"label\"] == 0])) # and non-toxic\n",
    "\n",
    "# prepare preliminary results df\n",
    "prel_results_df = pd.DataFrame(results)\n",
    "prel_results_df[\"pct_toxic\"] = ( prel_results_df[\"toxic\"] / (prel_results_df[\"toxic\"]+prel_results_df[\"nontoxic\"]) ) * 100 # add percentage\n",
    "prel_results_df.set_index(\"bin_range\", inplace=True)\n",
    "\n",
    "# add to final results df\n",
    "results_df_1 = prel_results_df[[\"pct_toxic\"]].T\n",
    "results_df_1.index = [\"ALL\"]\n",
    "results_df_1.round(2)"
   ]
  },
  {
   "cell_type": "code",
   "execution_count": 764,
   "metadata": {},
   "outputs": [],
   "source": [
    "# do the same for each lemma\n",
    "\n",
    "# prepare dicts\n",
    "toxic_count_dict = {\"lemmatized_identity\": lemmatized_identities}\n",
    "total_count_dict = {\"lemmatized_identity\": lemmatized_identities}\n",
    "for label in bin_labels:\n",
    "    toxic_count_dict[label] = []\n",
    "    total_count_dict[label] = []\n",
    "    \n",
    "for lemma in lemmatized_identities: # for each lemma\n",
    "    for (bin_label, bin) in zip(bin_labels, bins): # for each bin\n",
    "        \n",
    "        # count no. of toxic/all texts this lemma occurs in in this bin\n",
    "        toxic_count = bin[bin[\"label\"]==1][\"lemmas\"].apply(lambda x: int(occurs_in_string(target=lemma, text=x))).sum() \n",
    "        total_count = bin[\"lemmas\"].apply(lambda x: int(occurs_in_string(target=lemma, text=x))).sum() \n",
    "        \n",
    "        # add to count_dicts\n",
    "        toxic_count_dict[bin_label].append(toxic_count)\n",
    "        total_count_dict[bin_label].append(total_count)"
   ]
  },
  {
   "cell_type": "code",
   "execution_count": 765,
   "metadata": {},
   "outputs": [],
   "source": [
    "# create df with these occurrence numbers\n",
    "toxic_count_df = pd.DataFrame(toxic_count_dict)\n",
    "total_count_df = pd.DataFrame(total_count_dict)\n",
    "\n",
    "# map back to actual lemma and aggregate duplicates\n",
    "toxic_count_df[\"lemma\"] = toxic_count_df[\"lemmatized_identity\"].map(lemmatized_2_lemma)\n",
    "toxic_count_df = toxic_count_df.groupby(\"lemma\").agg({\"0-19\": \"sum\", \"20-59\": \"sum\", \"60-139\": \"sum\", \"140-299\": \"sum\", \"300-619\": \"sum\", \"620-3519\": \"sum\"}).reset_index()\n",
    "toxic_count_df[\"sum\"] = toxic_count_df[\"0-19\"] + toxic_count_df[\"20-59\"] + toxic_count_df[\"60-139\"] + toxic_count_df[\"140-299\"] + toxic_count_df[\"300-619\"] + toxic_count_df[\"620-3519\"]\n",
    "toxic_count_df = toxic_count_df.sort_values(\"lemma\")\n",
    "total_count_df[\"lemma\"] = total_count_df[\"lemmatized_identity\"].map(lemmatized_2_lemma)\n",
    "total_count_df = total_count_df.groupby(\"lemma\").agg({\"0-19\": \"sum\", \"20-59\": \"sum\", \"60-139\": \"sum\", \"140-299\": \"sum\", \"300-619\": \"sum\", \"620-3519\": \"sum\"}).reset_index()\n",
    "total_count_df[\"sum\"] = total_count_df[\"0-19\"] + total_count_df[\"20-59\"] + total_count_df[\"60-139\"] + total_count_df[\"140-299\"] + total_count_df[\"300-619\"] + total_count_df[\"620-3519\"]\n",
    "total_count_df = total_count_df.sort_values(\"lemma\")"
   ]
  },
  {
   "cell_type": "code",
   "execution_count": 766,
   "metadata": {},
   "outputs": [
    {
     "data": {
      "text/plain": [
       "Index(['0-19', '20-59', '60-139', '140-299', '300-619', '620-3519'], dtype='object')"
      ]
     },
     "execution_count": 766,
     "metadata": {},
     "output_type": "execute_result"
    }
   ],
   "source": [
    "toxic_count_df.columns[1:-1]"
   ]
  },
  {
   "cell_type": "code",
   "execution_count": 767,
   "metadata": {},
   "outputs": [],
   "source": [
    "# add to results df\n",
    "results_df_2 = toxic_count_df[[\"lemma\"]]\n",
    "for col in toxic_count_df.columns[1:-1]:\n",
    "    results_df_2[col] = (toxic_count_df[col] / total_count_df[col]) * 100 # calculate percentages\n",
    "results_df_2.set_index(\"lemma\", inplace=True)"
   ]
  },
  {
   "cell_type": "code",
   "execution_count": 768,
   "metadata": {},
   "outputs": [
    {
     "data": {
      "text/html": [
       "<div>\n",
       "<style scoped>\n",
       "    .dataframe tbody tr th:only-of-type {\n",
       "        vertical-align: middle;\n",
       "    }\n",
       "\n",
       "    .dataframe tbody tr th {\n",
       "        vertical-align: top;\n",
       "    }\n",
       "\n",
       "    .dataframe thead th {\n",
       "        text-align: right;\n",
       "    }\n",
       "</style>\n",
       "<table border=\"1\" class=\"dataframe\">\n",
       "  <thead>\n",
       "    <tr style=\"text-align: right;\">\n",
       "      <th></th>\n",
       "      <th>0-19</th>\n",
       "      <th>20-59</th>\n",
       "      <th>60-139</th>\n",
       "      <th>140-299</th>\n",
       "      <th>300-619</th>\n",
       "      <th>620-3519</th>\n",
       "    </tr>\n",
       "  </thead>\n",
       "  <tbody>\n",
       "    <tr>\n",
       "      <th>ALL</th>\n",
       "      <td>10.735294</td>\n",
       "      <td>12.785775</td>\n",
       "      <td>13.754647</td>\n",
       "      <td>17.5</td>\n",
       "      <td>29.62963</td>\n",
       "      <td>33.333333</td>\n",
       "    </tr>\n",
       "    <tr>\n",
       "      <th>bror</th>\n",
       "      <td></td>\n",
       "      <td>0.0</td>\n",
       "      <td>0.0</td>\n",
       "      <td>0.0</td>\n",
       "      <td>0.0</td>\n",
       "      <td>50.0</td>\n",
       "    </tr>\n",
       "    <tr>\n",
       "      <th>dame</th>\n",
       "      <td></td>\n",
       "      <td></td>\n",
       "      <td>0.0</td>\n",
       "      <td>0.0</td>\n",
       "      <td></td>\n",
       "      <td></td>\n",
       "    </tr>\n",
       "    <tr>\n",
       "      <th>datter</th>\n",
       "      <td></td>\n",
       "      <td></td>\n",
       "      <td>0.0</td>\n",
       "      <td>0.0</td>\n",
       "      <td>0.0</td>\n",
       "      <td>0.0</td>\n",
       "    </tr>\n",
       "    <tr>\n",
       "      <th>dreng</th>\n",
       "      <td></td>\n",
       "      <td>100.0</td>\n",
       "      <td>0.0</td>\n",
       "      <td></td>\n",
       "      <td></td>\n",
       "      <td>0.0</td>\n",
       "    </tr>\n",
       "    <tr>\n",
       "      <th>far</th>\n",
       "      <td></td>\n",
       "      <td>0.0</td>\n",
       "      <td>0.0</td>\n",
       "      <td>50.0</td>\n",
       "      <td></td>\n",
       "      <td>0.0</td>\n",
       "    </tr>\n",
       "    <tr>\n",
       "      <th>fyr</th>\n",
       "      <td></td>\n",
       "      <td></td>\n",
       "      <td>100.0</td>\n",
       "      <td></td>\n",
       "      <td></td>\n",
       "      <td></td>\n",
       "    </tr>\n",
       "    <tr>\n",
       "      <th>fætter</th>\n",
       "      <td></td>\n",
       "      <td>0.0</td>\n",
       "      <td></td>\n",
       "      <td>100.0</td>\n",
       "      <td>0.0</td>\n",
       "      <td></td>\n",
       "    </tr>\n",
       "    <tr>\n",
       "      <th>herre</th>\n",
       "      <td></td>\n",
       "      <td>0.0</td>\n",
       "      <td>0.0</td>\n",
       "      <td></td>\n",
       "      <td></td>\n",
       "      <td></td>\n",
       "    </tr>\n",
       "    <tr>\n",
       "      <th>kone</th>\n",
       "      <td></td>\n",
       "      <td>0.0</td>\n",
       "      <td>0.0</td>\n",
       "      <td>0.0</td>\n",
       "      <td>100.0</td>\n",
       "      <td>50.0</td>\n",
       "    </tr>\n",
       "    <tr>\n",
       "      <th>kusine</th>\n",
       "      <td></td>\n",
       "      <td>0.0</td>\n",
       "      <td></td>\n",
       "      <td></td>\n",
       "      <td></td>\n",
       "      <td></td>\n",
       "    </tr>\n",
       "    <tr>\n",
       "      <th>kvinde</th>\n",
       "      <td>0.0</td>\n",
       "      <td>12.5</td>\n",
       "      <td>16.666667</td>\n",
       "      <td>40.0</td>\n",
       "      <td>0.0</td>\n",
       "      <td>20.0</td>\n",
       "    </tr>\n",
       "    <tr>\n",
       "      <th>kvindfolk</th>\n",
       "      <td></td>\n",
       "      <td></td>\n",
       "      <td></td>\n",
       "      <td></td>\n",
       "      <td>100.0</td>\n",
       "      <td></td>\n",
       "    </tr>\n",
       "    <tr>\n",
       "      <th>mand</th>\n",
       "      <td>0.0</td>\n",
       "      <td>8.695652</td>\n",
       "      <td>50.0</td>\n",
       "      <td>25.0</td>\n",
       "      <td>25.0</td>\n",
       "      <td>16.666667</td>\n",
       "    </tr>\n",
       "    <tr>\n",
       "      <th>mandfolk</th>\n",
       "      <td></td>\n",
       "      <td>100.0</td>\n",
       "      <td></td>\n",
       "      <td></td>\n",
       "      <td></td>\n",
       "      <td></td>\n",
       "    </tr>\n",
       "    <tr>\n",
       "      <th>mor</th>\n",
       "      <td></td>\n",
       "      <td></td>\n",
       "      <td>33.333333</td>\n",
       "      <td>0.0</td>\n",
       "      <td>0.0</td>\n",
       "      <td>0.0</td>\n",
       "    </tr>\n",
       "    <tr>\n",
       "      <th>pige</th>\n",
       "      <td></td>\n",
       "      <td>0.0</td>\n",
       "      <td>33.333333</td>\n",
       "      <td>0.0</td>\n",
       "      <td>0.0</td>\n",
       "      <td>0.0</td>\n",
       "    </tr>\n",
       "    <tr>\n",
       "      <th>queer</th>\n",
       "      <td></td>\n",
       "      <td></td>\n",
       "      <td></td>\n",
       "      <td></td>\n",
       "      <td></td>\n",
       "      <td>100.0</td>\n",
       "    </tr>\n",
       "    <tr>\n",
       "      <th>søn</th>\n",
       "      <td></td>\n",
       "      <td></td>\n",
       "      <td>0.0</td>\n",
       "      <td>100.0</td>\n",
       "      <td></td>\n",
       "      <td></td>\n",
       "    </tr>\n",
       "    <tr>\n",
       "      <th>søster</th>\n",
       "      <td></td>\n",
       "      <td></td>\n",
       "      <td>0.0</td>\n",
       "      <td>0.0</td>\n",
       "      <td></td>\n",
       "      <td></td>\n",
       "    </tr>\n",
       "    <tr>\n",
       "      <th>tøs</th>\n",
       "      <td>100.0</td>\n",
       "      <td></td>\n",
       "      <td></td>\n",
       "      <td></td>\n",
       "      <td></td>\n",
       "      <td></td>\n",
       "    </tr>\n",
       "  </tbody>\n",
       "</table>\n",
       "</div>"
      ],
      "text/plain": [
       "                0-19      20-59     60-139 140-299   300-619   620-3519\n",
       "ALL        10.735294  12.785775  13.754647    17.5  29.62963  33.333333\n",
       "bror                        0.0        0.0     0.0       0.0       50.0\n",
       "dame                                   0.0     0.0                     \n",
       "datter                                 0.0     0.0       0.0        0.0\n",
       "dreng                     100.0        0.0                          0.0\n",
       "far                         0.0        0.0    50.0                  0.0\n",
       "fyr                                  100.0                             \n",
       "fætter                      0.0              100.0       0.0           \n",
       "herre                       0.0        0.0                             \n",
       "kone                        0.0        0.0     0.0     100.0       50.0\n",
       "kusine                      0.0                                        \n",
       "kvinde           0.0       12.5  16.666667    40.0       0.0       20.0\n",
       "kvindfolk                                              100.0           \n",
       "mand             0.0   8.695652       50.0    25.0      25.0  16.666667\n",
       "mandfolk                  100.0                                        \n",
       "mor                              33.333333     0.0       0.0        0.0\n",
       "pige                        0.0  33.333333     0.0       0.0        0.0\n",
       "queer                                                             100.0\n",
       "søn                                    0.0   100.0                     \n",
       "søster                                 0.0     0.0                     \n",
       "tøs            100.0                                                   "
      ]
     },
     "execution_count": 768,
     "metadata": {},
     "output_type": "execute_result"
    }
   ],
   "source": [
    "results_df"
   ]
  },
  {
   "cell_type": "code",
   "execution_count": 295,
   "metadata": {},
   "outputs": [
    {
     "data": {
      "text/html": [
       "<div>\n",
       "<style scoped>\n",
       "    .dataframe tbody tr th:only-of-type {\n",
       "        vertical-align: middle;\n",
       "    }\n",
       "\n",
       "    .dataframe tbody tr th {\n",
       "        vertical-align: top;\n",
       "    }\n",
       "\n",
       "    .dataframe thead th {\n",
       "        text-align: right;\n",
       "    }\n",
       "</style>\n",
       "<table border=\"1\" class=\"dataframe\">\n",
       "  <thead>\n",
       "    <tr style=\"text-align: right;\">\n",
       "      <th></th>\n",
       "      <th>0-19</th>\n",
       "      <th>20-59</th>\n",
       "      <th>60-139</th>\n",
       "      <th>140-299</th>\n",
       "      <th>300-619</th>\n",
       "      <th>620-3519</th>\n",
       "    </tr>\n",
       "  </thead>\n",
       "  <tbody>\n",
       "    <tr>\n",
       "      <th>ALL</th>\n",
       "      <td>10.74</td>\n",
       "      <td>12.79</td>\n",
       "      <td>13.75</td>\n",
       "      <td>17.5</td>\n",
       "      <td>29.63</td>\n",
       "      <td>33.33</td>\n",
       "    </tr>\n",
       "    <tr>\n",
       "      <th>bror</th>\n",
       "      <td></td>\n",
       "      <td>0.0</td>\n",
       "      <td>0.0</td>\n",
       "      <td>0.0</td>\n",
       "      <td>0.0</td>\n",
       "      <td>50.0</td>\n",
       "    </tr>\n",
       "    <tr>\n",
       "      <th>dame</th>\n",
       "      <td></td>\n",
       "      <td></td>\n",
       "      <td>0.0</td>\n",
       "      <td>0.0</td>\n",
       "      <td></td>\n",
       "      <td></td>\n",
       "    </tr>\n",
       "    <tr>\n",
       "      <th>datter</th>\n",
       "      <td></td>\n",
       "      <td></td>\n",
       "      <td>0.0</td>\n",
       "      <td>0.0</td>\n",
       "      <td>0.0</td>\n",
       "      <td>0.0</td>\n",
       "    </tr>\n",
       "    <tr>\n",
       "      <th>dreng</th>\n",
       "      <td></td>\n",
       "      <td>100.0</td>\n",
       "      <td>0.0</td>\n",
       "      <td></td>\n",
       "      <td></td>\n",
       "      <td>0.0</td>\n",
       "    </tr>\n",
       "    <tr>\n",
       "      <th>far</th>\n",
       "      <td></td>\n",
       "      <td>0.0</td>\n",
       "      <td>0.0</td>\n",
       "      <td>50.0</td>\n",
       "      <td></td>\n",
       "      <td>0.0</td>\n",
       "    </tr>\n",
       "    <tr>\n",
       "      <th>fyr</th>\n",
       "      <td></td>\n",
       "      <td></td>\n",
       "      <td>100.0</td>\n",
       "      <td></td>\n",
       "      <td></td>\n",
       "      <td></td>\n",
       "    </tr>\n",
       "    <tr>\n",
       "      <th>fætter</th>\n",
       "      <td></td>\n",
       "      <td>0.0</td>\n",
       "      <td></td>\n",
       "      <td>100.0</td>\n",
       "      <td>0.0</td>\n",
       "      <td></td>\n",
       "    </tr>\n",
       "    <tr>\n",
       "      <th>herre</th>\n",
       "      <td></td>\n",
       "      <td>0.0</td>\n",
       "      <td>0.0</td>\n",
       "      <td></td>\n",
       "      <td></td>\n",
       "      <td></td>\n",
       "    </tr>\n",
       "    <tr>\n",
       "      <th>kone</th>\n",
       "      <td></td>\n",
       "      <td>0.0</td>\n",
       "      <td>0.0</td>\n",
       "      <td>0.0</td>\n",
       "      <td>100.0</td>\n",
       "      <td>50.0</td>\n",
       "    </tr>\n",
       "    <tr>\n",
       "      <th>kusine</th>\n",
       "      <td></td>\n",
       "      <td>0.0</td>\n",
       "      <td></td>\n",
       "      <td></td>\n",
       "      <td></td>\n",
       "      <td></td>\n",
       "    </tr>\n",
       "    <tr>\n",
       "      <th>kvinde</th>\n",
       "      <td>0.0</td>\n",
       "      <td>12.5</td>\n",
       "      <td>16.67</td>\n",
       "      <td>40.0</td>\n",
       "      <td>0.0</td>\n",
       "      <td>20.0</td>\n",
       "    </tr>\n",
       "    <tr>\n",
       "      <th>kvindfolk</th>\n",
       "      <td></td>\n",
       "      <td></td>\n",
       "      <td></td>\n",
       "      <td></td>\n",
       "      <td>100.0</td>\n",
       "      <td></td>\n",
       "    </tr>\n",
       "    <tr>\n",
       "      <th>mand</th>\n",
       "      <td>0.0</td>\n",
       "      <td>8.7</td>\n",
       "      <td>50.0</td>\n",
       "      <td>25.0</td>\n",
       "      <td>25.0</td>\n",
       "      <td>16.67</td>\n",
       "    </tr>\n",
       "    <tr>\n",
       "      <th>mandfolk</th>\n",
       "      <td></td>\n",
       "      <td>100.0</td>\n",
       "      <td></td>\n",
       "      <td></td>\n",
       "      <td></td>\n",
       "      <td></td>\n",
       "    </tr>\n",
       "    <tr>\n",
       "      <th>mor</th>\n",
       "      <td></td>\n",
       "      <td></td>\n",
       "      <td>33.33</td>\n",
       "      <td>0.0</td>\n",
       "      <td>0.0</td>\n",
       "      <td>0.0</td>\n",
       "    </tr>\n",
       "    <tr>\n",
       "      <th>pige</th>\n",
       "      <td></td>\n",
       "      <td>0.0</td>\n",
       "      <td>33.33</td>\n",
       "      <td>0.0</td>\n",
       "      <td>0.0</td>\n",
       "      <td>0.0</td>\n",
       "    </tr>\n",
       "    <tr>\n",
       "      <th>queer</th>\n",
       "      <td></td>\n",
       "      <td></td>\n",
       "      <td></td>\n",
       "      <td></td>\n",
       "      <td></td>\n",
       "      <td>100.0</td>\n",
       "    </tr>\n",
       "    <tr>\n",
       "      <th>søn</th>\n",
       "      <td></td>\n",
       "      <td></td>\n",
       "      <td>0.0</td>\n",
       "      <td>100.0</td>\n",
       "      <td></td>\n",
       "      <td></td>\n",
       "    </tr>\n",
       "    <tr>\n",
       "      <th>søster</th>\n",
       "      <td></td>\n",
       "      <td></td>\n",
       "      <td>0.0</td>\n",
       "      <td>0.0</td>\n",
       "      <td></td>\n",
       "      <td></td>\n",
       "    </tr>\n",
       "    <tr>\n",
       "      <th>tøs</th>\n",
       "      <td>100.0</td>\n",
       "      <td></td>\n",
       "      <td></td>\n",
       "      <td></td>\n",
       "      <td></td>\n",
       "      <td></td>\n",
       "    </tr>\n",
       "  </tbody>\n",
       "</table>\n",
       "</div>"
      ],
      "text/plain": [
       "            0-19  20-59 60-139 140-299 300-619 620-3519\n",
       "ALL        10.74  12.79  13.75    17.5   29.63    33.33\n",
       "bror                0.0    0.0     0.0     0.0     50.0\n",
       "dame                       0.0     0.0                 \n",
       "datter                     0.0     0.0     0.0      0.0\n",
       "dreng             100.0    0.0                      0.0\n",
       "far                 0.0    0.0    50.0              0.0\n",
       "fyr                      100.0                         \n",
       "fætter              0.0          100.0     0.0         \n",
       "herre               0.0    0.0                         \n",
       "kone                0.0    0.0     0.0   100.0     50.0\n",
       "kusine              0.0                                \n",
       "kvinde       0.0   12.5  16.67    40.0     0.0     20.0\n",
       "kvindfolk                                100.0         \n",
       "mand         0.0    8.7   50.0    25.0    25.0    16.67\n",
       "mandfolk          100.0                                \n",
       "mor                      33.33     0.0     0.0      0.0\n",
       "pige                0.0  33.33     0.0     0.0      0.0\n",
       "queer                                             100.0\n",
       "søn                        0.0   100.0                 \n",
       "søster                     0.0     0.0                 \n",
       "tøs        100.0                                       "
      ]
     },
     "metadata": {},
     "output_type": "display_data"
    }
   ],
   "source": [
    "# final df\n",
    "results_df = pd.concat([results_df_1, results_df_2])\n",
    "results_df.dropna(axis = 0, how = 'all', inplace = True) # drop rows with all NA values\n",
    "display(results_df.round(2).fillna(\"\")) # show results"
   ]
  },
  {
   "cell_type": "code",
   "execution_count": 297,
   "metadata": {},
   "outputs": [],
   "source": [
    "# save results\n",
    "results_df = results_df.fillna(\"\") # fill NAs\n",
    "results_df.to_excel(os.getcwd()+\"/mitigation/toxicity_at_diff_lengths.xlsx\") # save as xlsx file"
   ]
  },
  {
   "cell_type": "markdown",
   "metadata": {},
   "source": [
    "### Calculate how much new data is needed\n",
    "Based on:\n",
    "https://github.com/conversationai/unintended-ml-bias-analysis/blob/main/archive/unintended_ml_bias/Dataset_bias_analysis.ipynb"
   ]
  },
  {
   "cell_type": "code",
   "execution_count": null,
   "metadata": {},
   "outputs": [],
   "source": [
    "## Pseudocode\n",
    "# num_nontoxic_to_add = {}\n",
    "\n",
    "# for word in list_of_words_to_fix:\n",
    "#   for length:\n",
    "#       t = get t from toxic_count_df\n",
    "#       n = get n from total_count_df - t\n",
    "#       f = get from results_df.loc[ALL, bin_label]\n",
    "#       a = calculate_nontoxic_to_add(f=f, n=n, t=t, method=\"round\")\n",
    "#       num_nontoxic_to_add[word] = a"
   ]
  },
  {
   "cell_type": "code",
   "execution_count": 642,
   "metadata": {},
   "outputs": [],
   "source": [
    "def calculate_nontoxic_to_add(f:float, n:int, t:int, method:str) -> int:\n",
    "    \"\"\"Calculate how many non-toxic examples you need to add to get the desired non-toxic fraction.\n",
    "\n",
    "    Args:\n",
    "        f (float): desired non-toxic fraction.\n",
    "        n (int): current number of non-toxic examples.\n",
    "        t (int): current number of toxic examples.\n",
    "        method (str): method to convert result to int: \"round\", \"ceiling\", or \"floor\".\n",
    "\n",
    "    Returns:\n",
    "        int: number of non-toxic examples to add.    \n",
    "    \"\"\"\n",
    "    a = (f*(t+n)-n) / (1-f)\n",
    "    \n",
    "    method = method.lower()\n",
    "    if method == \"round\":\n",
    "        return round(a)\n",
    "    elif method == \"ceiling\":\n",
    "        return int(np.ceil(a))\n",
    "    elif method == \"floor\":\n",
    "        return int(np.floor(a))\n",
    "    else:\n",
    "        raise Exception(\"Unknown method. Must be either 'round', 'ceiling', or 'floor'.\")\n",
    "\n",
    "def calculate_nontoxic_fraction(n:float, t:float, a:int) -> float:\n",
    "    \"\"\"Returns the fraction of non-toxic examples.\n",
    "\n",
    "    Args:\n",
    "        n (int): current number of non-toxic examples.\n",
    "        t (int): current number of toxic examples.\n",
    "        a (int): number of non-toxic examples to add.\n",
    "\n",
    "    Returns:\n",
    "        float: non-toxic fraction.\n",
    "    \"\"\"\n",
    "    f = (n+a) / (t+n+a)\n",
    "    return f"
   ]
  },
  {
   "cell_type": "code",
   "execution_count": 643,
   "metadata": {},
   "outputs": [],
   "source": [
    "# # example (mand 140-?)\n",
    "# t = 6 # current number of toxic examples\n",
    "# n = 18 # current number of non-toxic examples\n",
    "# a = calculate_nontoxic_to_add(f=0.825, n=n, t=t, method=\"round\")\n",
    "# f = calculate_nontoxic_fraction(n=n, t=t, a=a) # new toxic fraction\n",
    "\n",
    "# print(\"Old non-toxic fraction  :\", round(calculate_nontoxic_fraction(n=n, t=t, a=0), 4))\n",
    "# print(\"Add n non-toxic examples:\", a)\n",
    "# print(\"New non-toxic fraction  :\", round(calculate_nontoxic_fraction(n=n, t=t, a=a), 4))"
   ]
  },
  {
   "cell_type": "code",
   "execution_count": 644,
   "metadata": {},
   "outputs": [],
   "source": [
    "# # example (pige 60-?)\n",
    "# t = 1 # current number of toxic examples\n",
    "# n = 2 # current number of non-toxic examples\n",
    "# a = calculate_nontoxic_to_add(f=0.8625, n=n, t=t, method=\"round\")\n",
    "# f = calculate_nontoxic_fraction(n=n, t=t, a=a) # new toxic fraction\n",
    "\n",
    "# print(\"Old toxic fraction      :\", round(calculate_nontoxic_fraction(n=n, t=t, a=0), 4))\n",
    "# print(\"Add n non-toxic examples:\", a)\n",
    "# print(\"New toxic fraction      :\", round(calculate_nontoxic_fraction(n=n, t=t, a=a), 4))"
   ]
  },
  {
   "cell_type": "code",
   "execution_count": 645,
   "metadata": {},
   "outputs": [
    {
     "name": "stdout",
     "output_type": "stream",
     "text": [
      "LEMMA\t\tLENGTH\t\tTOXIC%\n",
      "bror     \t620-3519\t 50.00 %\n",
      "dreng    \t20-59   \t100.00 %\n",
      "far      \t140-299 \t 50.00 %\n",
      "fyr      \t60-139  \t100.00 %\n",
      "fætter   \t140-299 \t100.00 %\n",
      "kone     \t300-619 \t100.00 %\n",
      "kone     \t620-3519\t 50.00 %\n",
      "kvinde   \t60-139  \t 16.67 %\n",
      "kvinde   \t140-299 \t 40.00 %\n",
      "kvindfolk\t300-619 \t100.00 %\n",
      "mand     \t60-139  \t 50.00 %\n",
      "mand     \t140-299 \t 25.00 %\n",
      "mandfolk \t20-59   \t100.00 %\n",
      "mor      \t60-139  \t 33.33 %\n",
      "pige     \t60-139  \t 33.33 %\n",
      "queer    \t620-3519\t100.00 %\n",
      "søn      \t140-299 \t100.00 %\n",
      "tøs      \t0-19    \t100.00 %\n"
     ]
    }
   ],
   "source": [
    "# find words to fix\n",
    "overall_prior_distributions = results_df.iloc[0, :] \n",
    "lengths = overall_prior_distributions.keys()\n",
    "unbalanced_lemmas_at_lengths = {}\n",
    "\n",
    "print(\"LEMMA\\t\\tLENGTH\\t\\tTOXIC%\")\n",
    "for row in results_df.iloc[1:,:].iterrows(): # for each unbalanced row\n",
    "    lemma = row[0]\n",
    "    content = row[1]\n",
    "    \n",
    "    unbalanced_lengths = []\n",
    "    for i, x in enumerate(content): # for each column (= length bucket)\n",
    "        if type(x) == float and x >= overall_prior_distributions.iloc[i]: # if the percentage of toxic is larger than the prior distribution \n",
    "            print(f\"{lemma.ljust(9)}\\t{lengths[i].ljust(8)}\\t{x:6.2f} %\") \n",
    "            unbalanced_lengths.append(lengths[i])        \n",
    "    if unbalanced_lengths: # if not empty\n",
    "        unbalanced_lemmas_at_lengths[lemma] = unbalanced_lengths"
   ]
  },
  {
   "cell_type": "code",
   "execution_count": 572,
   "metadata": {},
   "outputs": [
    {
     "data": {
      "text/plain": [
       "{'bror': ['620-3519'],\n",
       " 'dreng': ['20-59'],\n",
       " 'far': ['140-299'],\n",
       " 'fyr': ['60-139'],\n",
       " 'fætter': ['140-299'],\n",
       " 'kone': ['300-619', '620-3519'],\n",
       " 'kvinde': ['60-139', '140-299'],\n",
       " 'kvindfolk': ['300-619'],\n",
       " 'mand': ['60-139', '140-299'],\n",
       " 'mandfolk': ['20-59'],\n",
       " 'mor': ['60-139'],\n",
       " 'pige': ['60-139'],\n",
       " 'queer': ['620-3519'],\n",
       " 'søn': ['140-299'],\n",
       " 'tøs': ['0-19']}"
      ]
     },
     "execution_count": 572,
     "metadata": {},
     "output_type": "execute_result"
    }
   ],
   "source": [
    "# display words to fix\n",
    "unbalanced_lemmas_at_lengths"
   ]
  },
  {
   "cell_type": "code",
   "execution_count": 649,
   "metadata": {},
   "outputs": [
    {
     "name": "stdout",
     "output_type": "stream",
     "text": [
      "Done\n",
      "Total to add: 114\n"
     ]
    }
   ],
   "source": [
    "# find a for each unbalanced lemma at length\n",
    "\n",
    "num_nontoxic_to_add = {}\n",
    "old_new_nontoxic_frac = {}\n",
    "total_to_add = 0\n",
    "\n",
    "for lemma in unbalanced_lemmas_at_lengths: # for word in list_of_words_to_fix:\n",
    "    \n",
    "    for length in unbalanced_lemmas_at_lengths[lemma]: # for length\n",
    "    \n",
    "        current_toxic = toxic_count_df[toxic_count_df[\"lemma\"]==lemma][length].iloc[0] #  t = get t from toxic_count_df\n",
    "        current_total = total_count_df[total_count_df[\"lemma\"]==lemma][length].iloc[0]\n",
    "        current_nontoxic = current_total - current_toxic # n = get n from total_count_df - t\n",
    "        desired_f = 1 - (overall_prior_distributions[length]/100) # f = 1 - toxic frac (get this from overall_prior_distributions/100 (results_df.loc[ALL, bin_label]))\n",
    "        add_n_nontoxic = calculate_nontoxic_to_add(f=desired_f, n=current_nontoxic, t=current_toxic, method=\"round\")\n",
    "        \n",
    "        num_nontoxic_to_add[(lemma, length)] = add_n_nontoxic\n",
    "        new_f = calculate_nontoxic_fraction(n=current_nontoxic, t=current_toxic, a=add_n_nontoxic)\n",
    "        old_new_nontoxic_frac[(lemma, length)] = (desired_f, new_f)\n",
    "        total_to_add += add_n_nontoxic\n",
    "print(\"Done\")\n",
    "print(\"Total to add:\", total_to_add)"
   ]
  },
  {
   "cell_type": "code",
   "execution_count": 647,
   "metadata": {},
   "outputs": [
    {
     "name": "stdout",
     "output_type": "stream",
     "text": [
      "(lemma, length): number to add\n"
     ]
    },
    {
     "data": {
      "text/plain": [
       "{('bror', '620-3519'): 1,\n",
       " ('dreng', '20-59'): 7,\n",
       " ('far', '140-299'): 4,\n",
       " ('fyr', '60-139'): 6,\n",
       " ('fætter', '140-299'): 5,\n",
       " ('kone', '300-619'): 2,\n",
       " ('kone', '620-3519'): 1,\n",
       " ('kvinde', '60-139'): 1,\n",
       " ('kvinde', '140-299'): 13,\n",
       " ('kvindfolk', '300-619'): 2,\n",
       " ('mand', '60-139'): 32,\n",
       " ('mand', '140-299'): 10,\n",
       " ('mandfolk', '20-59'): 7,\n",
       " ('mor', '60-139'): 4,\n",
       " ('pige', '60-139'): 4,\n",
       " ('queer', '620-3519'): 2,\n",
       " ('søn', '140-299'): 5,\n",
       " ('tøs', '0-19'): 8}"
      ]
     },
     "execution_count": 647,
     "metadata": {},
     "output_type": "execute_result"
    }
   ],
   "source": [
    "# display results\n",
    "print(\"(lemma, length): number to add\")\n",
    "num_nontoxic_to_add"
   ]
  },
  {
   "cell_type": "code",
   "execution_count": 648,
   "metadata": {},
   "outputs": [
    {
     "data": {
      "text/html": [
       "<div>\n",
       "<style scoped>\n",
       "    .dataframe tbody tr th:only-of-type {\n",
       "        vertical-align: middle;\n",
       "    }\n",
       "\n",
       "    .dataframe tbody tr th {\n",
       "        vertical-align: top;\n",
       "    }\n",
       "\n",
       "    .dataframe thead th {\n",
       "        text-align: right;\n",
       "    }\n",
       "</style>\n",
       "<table border=\"1\" class=\"dataframe\">\n",
       "  <thead>\n",
       "    <tr style=\"text-align: right;\">\n",
       "      <th></th>\n",
       "      <th></th>\n",
       "      <th>old_f</th>\n",
       "      <th>new_f</th>\n",
       "    </tr>\n",
       "  </thead>\n",
       "  <tbody>\n",
       "    <tr>\n",
       "      <th>bror</th>\n",
       "      <th>620-3519</th>\n",
       "      <td>0.6667</td>\n",
       "      <td>0.6667</td>\n",
       "    </tr>\n",
       "    <tr>\n",
       "      <th>dreng</th>\n",
       "      <th>20-59</th>\n",
       "      <td>0.8721</td>\n",
       "      <td>0.8750</td>\n",
       "    </tr>\n",
       "    <tr>\n",
       "      <th>far</th>\n",
       "      <th>140-299</th>\n",
       "      <td>0.8250</td>\n",
       "      <td>0.8333</td>\n",
       "    </tr>\n",
       "    <tr>\n",
       "      <th>fyr</th>\n",
       "      <th>60-139</th>\n",
       "      <td>0.8625</td>\n",
       "      <td>0.8571</td>\n",
       "    </tr>\n",
       "    <tr>\n",
       "      <th>fætter</th>\n",
       "      <th>140-299</th>\n",
       "      <td>0.8250</td>\n",
       "      <td>0.8333</td>\n",
       "    </tr>\n",
       "    <tr>\n",
       "      <th rowspan=\"2\" valign=\"top\">kone</th>\n",
       "      <th>300-619</th>\n",
       "      <td>0.7037</td>\n",
       "      <td>0.6667</td>\n",
       "    </tr>\n",
       "    <tr>\n",
       "      <th>620-3519</th>\n",
       "      <td>0.6667</td>\n",
       "      <td>0.6667</td>\n",
       "    </tr>\n",
       "    <tr>\n",
       "      <th rowspan=\"2\" valign=\"top\">kvinde</th>\n",
       "      <th>60-139</th>\n",
       "      <td>0.8625</td>\n",
       "      <td>0.8571</td>\n",
       "    </tr>\n",
       "    <tr>\n",
       "      <th>140-299</th>\n",
       "      <td>0.8250</td>\n",
       "      <td>0.8261</td>\n",
       "    </tr>\n",
       "    <tr>\n",
       "      <th>kvindfolk</th>\n",
       "      <th>300-619</th>\n",
       "      <td>0.7037</td>\n",
       "      <td>0.6667</td>\n",
       "    </tr>\n",
       "    <tr>\n",
       "      <th rowspan=\"2\" valign=\"top\">mand</th>\n",
       "      <th>60-139</th>\n",
       "      <td>0.8625</td>\n",
       "      <td>0.8636</td>\n",
       "    </tr>\n",
       "    <tr>\n",
       "      <th>140-299</th>\n",
       "      <td>0.8250</td>\n",
       "      <td>0.8235</td>\n",
       "    </tr>\n",
       "    <tr>\n",
       "      <th>mandfolk</th>\n",
       "      <th>20-59</th>\n",
       "      <td>0.8721</td>\n",
       "      <td>0.8750</td>\n",
       "    </tr>\n",
       "    <tr>\n",
       "      <th>mor</th>\n",
       "      <th>60-139</th>\n",
       "      <td>0.8625</td>\n",
       "      <td>0.8571</td>\n",
       "    </tr>\n",
       "    <tr>\n",
       "      <th>pige</th>\n",
       "      <th>60-139</th>\n",
       "      <td>0.8625</td>\n",
       "      <td>0.8571</td>\n",
       "    </tr>\n",
       "    <tr>\n",
       "      <th>queer</th>\n",
       "      <th>620-3519</th>\n",
       "      <td>0.6667</td>\n",
       "      <td>0.6667</td>\n",
       "    </tr>\n",
       "    <tr>\n",
       "      <th>søn</th>\n",
       "      <th>140-299</th>\n",
       "      <td>0.8250</td>\n",
       "      <td>0.8333</td>\n",
       "    </tr>\n",
       "    <tr>\n",
       "      <th>tøs</th>\n",
       "      <th>0-19</th>\n",
       "      <td>0.8926</td>\n",
       "      <td>0.8889</td>\n",
       "    </tr>\n",
       "  </tbody>\n",
       "</table>\n",
       "</div>"
      ],
      "text/plain": [
       "                     old_f   new_f\n",
       "bror      620-3519  0.6667  0.6667\n",
       "dreng     20-59     0.8721  0.8750\n",
       "far       140-299   0.8250  0.8333\n",
       "fyr       60-139    0.8625  0.8571\n",
       "fætter    140-299   0.8250  0.8333\n",
       "kone      300-619   0.7037  0.6667\n",
       "          620-3519  0.6667  0.6667\n",
       "kvinde    60-139    0.8625  0.8571\n",
       "          140-299   0.8250  0.8261\n",
       "kvindfolk 300-619   0.7037  0.6667\n",
       "mand      60-139    0.8625  0.8636\n",
       "          140-299   0.8250  0.8235\n",
       "mandfolk  20-59     0.8721  0.8750\n",
       "mor       60-139    0.8625  0.8571\n",
       "pige      60-139    0.8625  0.8571\n",
       "queer     620-3519  0.6667  0.6667\n",
       "søn       140-299   0.8250  0.8333\n",
       "tøs       0-19      0.8926  0.8889"
      ]
     },
     "execution_count": 648,
     "metadata": {},
     "output_type": "execute_result"
    }
   ],
   "source": [
    "# display old and new nontoxic fraction\n",
    "old_new_nontoxic_frac_df = pd.DataFrame(old_new_nontoxic_frac).T\n",
    "old_new_nontoxic_frac_df.rename(columns={0:\"old_f\", 1:\"new_f\"}, inplace=True)\n",
    "old_new_nontoxic_frac_df.round(4)"
   ]
  },
  {
   "cell_type": "code",
   "execution_count": null,
   "metadata": {},
   "outputs": [],
   "source": [
    "# now:\n",
    "# for each word to add:\n",
    "    # find page that mentions this word\n",
    "    # scrape this page\n",
    "    # add text to big text bank\n",
    "\n",
    "# for each word to add:\n",
    "    # search in text bank for passages that mentions this lemma\n",
    "    # extract these passages and divide them into sentences\n",
    "    # preprocess said passages\n",
    "    # if one matches the given length bucket, add it\n",
    "    # otherwise, go into sentences. if one of these match, then add it. otherwise, add this sentence + surrounding sentences until we get the desired length.\n",
    "\n",
    "# add to training data"
   ]
  },
  {
   "cell_type": "markdown",
   "metadata": {},
   "source": [
    "search on wiki:\n",
    "\n",
    "- advanced search\n",
    "- one of these words: the four variants, e.g. \"bror, broren, brødre, brødrene\"\n",
    "- these categories: \"biografier\", \"filmskolefilm fra Danmark\", \"sange fra Danmark\"\n",
    "- sorted by relevance\n",
    "- top 1 result from each category\n",
    "- only difference is queer that had no results in these categories, so had to just search for \"queer\" and use three random pages (undgik hoved/definitionssiden)\n",
    "\n",
    "bror:\n",
    "- https://da.wikipedia.org/wiki/Hemming_Hartmann-Petersen\n",
    "- https://da.wikipedia.org/wiki/Zafir_(film_fra_2011)\n",
    "- https://da.wikipedia.org/wiki/Brdr._Gebis\n",
    "\n",
    "dreng\n",
    "- https://da.wikipedia.org/wiki/Mogens_Wenzel_Andreasen\n",
    "- https://da.wikipedia.org/wiki/Dreng_(dokumentarfilm)\n",
    "- https://da.wikipedia.org/wiki/We_Wanna_Be_Free \n",
    "\n",
    "far\n",
    "- https://da.wikipedia.org/wiki/Christian_Molbech # not top result, because it was a different word \"fædrene tro\" that was the hit\n",
    "- https://da.wikipedia.org/wiki/Vore_F%C3%A6dres_S%C3%B8nner\n",
    "- https://da.wikipedia.org/wiki/Ebbe_Skammels%C3%B8n # is this toxic? \"kvæste sin far\"\n",
    "\n",
    "fyr\n",
    "- XX MANGLER, SE KOMMENTAR NEDENFOR\n",
    "    - https://da.wikipedia.org/wiki/John_Green_(forfatter) (søgte på \"en ung fyr\")\n",
    "- https://da.wikipedia.org/wiki/LUCK.exe\n",
    "- https://da.wikipedia.org/wiki/Du_G%C3%B8r_Mig # not the first as the others were about \"FYR OG FLAMME\n",
    "\n",
    "fætter\n",
    "- https://da.wikipedia.org/wiki/Eleonore_Tscherning \n",
    "- INGEN MED FILM ELLER SANGE, DERFOR BARE TO FRA GENEREL SØGNING\n",
    "    - https://da.wikipedia.org/wiki/F%C3%A6tter_H%C3%B8jben\n",
    "    - https://da.wikipedia.org/wiki/Min_f%C3%A6tter_er_pirat\n",
    "\n",
    "kone\n",
    "- https://da.wikipedia.org/wiki/Ralf_Pittelkow\n",
    "- https://da.wikipedia.org/wiki/Deadline_(film_fra_2005) (ikke første, her var det en titel)\n",
    "- https://da.wikipedia.org/wiki/Krig_og_fred_(Shu-bi-dua)\n",
    "\n",
    "kvinde\n",
    "- https://da.wikipedia.org/wiki/Thora_Esche\n",
    "- https://da.wikipedia.org/wiki/Kvinden_(film)\n",
    "- https://da.wikipedia.org/wiki/Danske_sild_(Shu-bi-dua-sang)\n",
    "\n",
    "kvindfolk\n",
    "- ingen hits i de tre kategorier, derfor bare fra generel søgning\n",
    "    - https://da.wikipedia.org/wiki/G%C3%A5rd_fra_Pebringe,_Sj%C3%A6lland_(Frilandsmuseet)\n",
    "    - https://da.wikipedia.org/wiki/Sophie_Caroline_af_Ostfriesland\n",
    "    - https://da.wikipedia.org/wiki/Hospital\n",
    "\n",
    "mand\n",
    "- https://da.wikipedia.org/wiki/J.J._Dampe (ikke den første, fordi ordet kun optrådte i titler/værker der)\n",
    "- https://da.wikipedia.org/wiki/Manden_der_dr%C3%B8mte_at_han_v%C3%A5gnede\n",
    "- https://da.wikipedia.org/wiki/St%C3%A5r_p%C3%A5_en_alpetop\n",
    "\n",
    "mandfolk\n",
    "- ingen hits i de tre kategorier, derfor bare fra generel søgning (mange af disse var bare filmtitler, dvs. ikke sætninger)\n",
    "    - https://da.wikipedia.org/wiki/Louis_Marcussen\n",
    "    - https://da.wikipedia.org/wiki/Asterix_og_vikingerne_(tegnefilm)\n",
    "    - https://da.wikipedia.org/wiki/Lysets_rige\n",
    "\n",
    "mor\n",
    "- https://da.wikipedia.org/wiki/S%C3%B8sser_Krag\n",
    "- https://da.wikipedia.org/wiki/Kokon_(film_fra_2019)\n",
    "- https://da.wikipedia.org/wiki/Germand_Gladensvend (skippede dem vi havde allerede)\n",
    "\n",
    "pige\n",
    "- https://da.wikipedia.org/wiki/Jean-Paul_Sartre (samme som med sangen)\n",
    "- https://da.wikipedia.org/wiki/Forl%C3%B8sning\n",
    "- https://da.wikipedia.org/wiki/Den_danske_sang_er_en_ung,_blond_pige (første var kun titel)\n",
    "\n",
    "queer:\n",
    "- https://da.wikipedia.org/wiki/Warehouse9 (culture)\n",
    "- https://da.wikipedia.org/wiki/Babylebbe (movie)\n",
    "- https://da.wikipedia.org/wiki/Judith_Butler (person)\n",
    "\n",
    "søn\n",
    "- https://da.wikipedia.org/wiki/Christian_8.\n",
    "- https://da.wikipedia.org/wiki/F%C3%A6dreland_(film) (skippede dem vi havde allerede)\n",
    "- https://da.wikipedia.org/wiki/Titte_til_hinanden (skippede dem vi havde allerede)\n",
    "\n",
    "tøs\n",
    "- https://da.wikipedia.org/wiki/Stephanie_Le%C3%B3n (samme som ved sangen)\n",
    "- https://da.wikipedia.org/wiki/13_snart_30 (film tilladt for alle, da ingen hits ellers)\n",
    "- https://da.wikipedia.org/wiki/T%C3%A6t_p%C3%A5_-_live (generel søgning, for få hits ved specifik søgning)\n",
    "\n",
    "\n",
    "cannot find a biography that uses the word \"fyr\". mostly slang. can only find ones that use \"fyret\" (e.g. \"fyret fra sit arbejde\") or \"fyrre\""
   ]
  },
  {
   "cell_type": "code",
   "execution_count": 659,
   "metadata": {},
   "outputs": [],
   "source": [
    "urls = [\n",
    "    \"https://da.wikipedia.org/wiki/Hemming_Hartmann-Petersen\",\n",
    "    \"https://da.wikipedia.org/wiki/Zafir_(film_fra_2011)\",\n",
    "    \"https://da.wikipedia.org/wiki/Brdr._Gebis\",\n",
    "    \"https://da.wikipedia.org/wiki/Mogens_Wenzel_Andreasen\",\n",
    "    \"https://da.wikipedia.org/wiki/Dreng_(dokumentarfilm)\",\n",
    "    \"https://da.wikipedia.org/wiki/We_Wanna_Be_Free\",\n",
    "    \"https://da.wikipedia.org/wiki/Christian_Molbech\",\n",
    "    \"https://da.wikipedia.org/wiki/Vore_F%C3%A6dres_S%C3%B8nner\",\n",
    "    \"https://da.wikipedia.org/wiki/Ebbe_Skammels%C3%B8n\",\n",
    "    \"https://da.wikipedia.org/wiki/John_Green_(forfatter)\",\n",
    "    \"https://da.wikipedia.org/wiki/LUCK.exe\",\n",
    "    \"https://da.wikipedia.org/wiki/Du_G%C3%B8r_Mig\",\n",
    "    \"https://da.wikipedia.org/wiki/Eleonore_Tscherning\",\n",
    "    \"https://da.wikipedia.org/wiki/F%C3%A6tter_H%C3%B8jben\",\n",
    "    \"https://da.wikipedia.org/wiki/Min_f%C3%A6tter_er_pirat\",\n",
    "    \"https://da.wikipedia.org/wiki/Ralf_Pittelkow\",\n",
    "    \"https://da.wikipedia.org/wiki/Deadline_(film_fra_2005)\",\n",
    "    \"https://da.wikipedia.org/wiki/Krig_og_fred_(Shu-bi-dua)\",\n",
    "    \"https://da.wikipedia.org/wiki/Thora_Esche\",\n",
    "    \"https://da.wikipedia.org/wiki/Kvinden_(film)\",\n",
    "    \"https://da.wikipedia.org/wiki/Danske_sild_(Shu-bi-dua-sang)\",\n",
    "    \"https://da.wikipedia.org/wiki/G%C3%A5rd_fra_Pebringe,_Sj%C3%A6lland_(Frilandsmuseet)\",\n",
    "    \"https://da.wikipedia.org/wiki/Sophie_Caroline_af_Ostfriesland\",\n",
    "    \"https://da.wikipedia.org/wiki/Hospital\",\n",
    "    \"https://da.wikipedia.org/wiki/J.J._Dampe\",\n",
    "    \"https://da.wikipedia.org/wiki/Manden_der_dr%C3%B8mte_at_han_v%C3%A5gnede\",\n",
    "    \"https://da.wikipedia.org/wiki/St%C3%A5r_p%C3%A5_en_alpetop\",\n",
    "    \"https://da.wikipedia.org/wiki/Louis_Marcussen\",\n",
    "    \"https://da.wikipedia.org/wiki/Asterix_og_vikingerne_(tegnefilm)\",\n",
    "    \"https://da.wikipedia.org/wiki/Lysets_rige\",\n",
    "    \"https://da.wikipedia.org/wiki/S%C3%B8sser_Krag\",\n",
    "    \"https://da.wikipedia.org/wiki/Kokon_(film_fra_2019)\",\n",
    "    \"https://da.wikipedia.org/wiki/Germand_Gladensvend\",\n",
    "    \"https://da.wikipedia.org/wiki/Jean-Paul_Sartre\",\n",
    "    \"https://da.wikipedia.org/wiki/Forl%C3%B8sning\",\n",
    "    \"https://da.wikipedia.org/wiki/Den_danske_sang_er_en_ung,_blond_pige\",\n",
    "    \"https://da.wikipedia.org/wiki/Warehouse9\",\n",
    "    \"https://da.wikipedia.org/wiki/Babylebbe\",\n",
    "    \"https://da.wikipedia.org/wiki/Judith_Butler\",\n",
    "    \"https://da.wikipedia.org/wiki/Christian_8.\",\n",
    "    \"https://da.wikipedia.org/wiki/F%C3%A6dreland_(film)\",\n",
    "    \"https://da.wikipedia.org/wiki/Titte_til_hinanden\",\n",
    "    \"https://da.wikipedia.org/wiki/Stephanie_Le%C3%B3n\",\n",
    "    \"https://da.wikipedia.org/wiki/13_snart_30\",\n",
    "    \"https://da.wikipedia.org/wiki/T%C3%A6t_p%C3%A5_-_live\"\n",
    "]"
   ]
  },
  {
   "cell_type": "code",
   "execution_count": null,
   "metadata": {},
   "outputs": [],
   "source": [
    "# if there's not enough data, find more webpages"
   ]
  },
  {
   "cell_type": "markdown",
   "metadata": {},
   "source": [
    "### Scrape from wikipedia\n",
    "\n",
    "1) Search for pages to add (manually selected)\n",
    "2) Scrape these pages using requests and beautifulsoup4\n",
    "3) Concatenate to one big text bank\n",
    "4) Search for word forms in this text bank. Extract the needed number of texts in the correct length.\n",
    "5) Train model on the new dataset and do bias analysis\n",
    "\n",
    "Afterwards, try to do both types of mitigation on the oversampled dataset\n",
    "\n",
    "OR \n",
    "\n",
    "Try to rerun the original model on non-oversampled dataset\n",
    "ASK MANEX!"
   ]
  },
  {
   "cell_type": "code",
   "execution_count": 672,
   "metadata": {},
   "outputs": [
    {
     "name": "stdout",
     "output_type": "stream",
     "text": [
      "Successfully scraped the webpage with the title: \"Transkønnethed\"\n",
      "Transkønnethed er en betegnelse for personer, der har en kønsidentitet eller et kønsudtryk, der adskiller sig fra deres fødselskøn.[1][2][3] Nogle transkønnede, som ønsker medicinsk hjælp til at overgå fra et køn til et andet, identificerer sig som transseksuelle.[4][5] Transkønnet, ofte forkortet til blot trans, er også et paraplybegreb: Udover at omfatte personer, hvis kønsidentitet er det modsatte af deres fødselskøn (dvs. transmænd og transkvinder), kan det også anvendes om personer, hvis kønsudtryk ikke er eksklusivt maskulint eller feminint (personer, som er ikke-binære eller genderqueer, heriblandt bikønnede, pankønnede, genderfluid og akønnede).[2][6][7] Blandt andre definitioner af transkønnet er også at inkludere personer, der tilhører et tredje køn, eller konceptualisere transkønnede som et tredje køn.[8][9] Begrebet transkønnet kan defineres meget bredt til også at inkludere transvestisme eller ligefrem crossdressing generelt.[10]\n",
      "\n",
      "At være transkønnet er uafhængigt af seksuel orientering.[11] Transkønnede personer kan identificere sig som heteroseksuelle, homoseksuelle, biseksuelle, aseksuelle eller helt nægte at sætte en betegnelse på deres seksuelle orientering. Begrebet transgender skelnes også fra intersex, da sidstnævnte betegner personer, der er født med fysiske kønskarakteristika \"der ikke passer ind i typiske binære forståelser af hankønnede eller hunkønnede kroppe\".[12] Det modsatte af transkønnethed er ciskønnethed, der beskriver personer hvis kønsidentitet eller kønsudtryk stemmer overens med deres fødselskøn.[13]\n",
      "\n",
      "Graden hvortil personer kan føle sig autentiske og tilpas med deres ydre udseende og acceptere deres reelle identitet er blevet kaldt transkønnethedskongruens.[14] Mange transkønnede oplever kønsdysfori, og nogle søger medicinsk behandling såsom hormonterapi, kønsskifteoperation eller psykoterapi.[15] Ikke alle transkønnede ønsker disse behandlinger, og nogle kan slet ikke modtage dem af økonomiske eller medicinske grunde.[15][16]\n",
      "\n"
     ]
    }
   ],
   "source": [
    "content = scrape_wiki_text(\"https://da.wikipedia.org/wiki/Transk%C3%B8nnethed\")\n",
    "for passage in content[:3]:\n",
    "    print(passage)"
   ]
  },
  {
   "cell_type": "code",
   "execution_count": 673,
   "metadata": {},
   "outputs": [
    {
     "name": "stderr",
     "output_type": "stream",
     "text": [
      "  4%|▍         | 2/45 [00:00<00:08,  5.23it/s]"
     ]
    },
    {
     "name": "stdout",
     "output_type": "stream",
     "text": [
      "Successfully scraped the webpage with the title: \"Hemming Hartmann-Petersen\"\n",
      "Successfully scraped the webpage with the title: \"None\"\n"
     ]
    },
    {
     "name": "stderr",
     "output_type": "stream",
     "text": [
      "  7%|▋         | 3/45 [00:00<00:08,  4.80it/s]"
     ]
    },
    {
     "name": "stdout",
     "output_type": "stream",
     "text": [
      "Successfully scraped the webpage with the title: \"Brdr. Gebis\"\n",
      "Successfully scraped the webpage with the title: \"Mogens Wenzel Andreasen\"\n"
     ]
    },
    {
     "name": "stderr",
     "output_type": "stream",
     "text": [
      " 11%|█         | 5/45 [00:01<00:08,  4.61it/s]"
     ]
    },
    {
     "name": "stdout",
     "output_type": "stream",
     "text": [
      "Successfully scraped the webpage with the title: \"None\"\n"
     ]
    },
    {
     "name": "stderr",
     "output_type": "stream",
     "text": [
      " 13%|█▎        | 6/45 [00:01<00:08,  4.34it/s]"
     ]
    },
    {
     "name": "stdout",
     "output_type": "stream",
     "text": [
      "Successfully scraped the webpage with the title: \"We Wanna Be Free\"\n"
     ]
    },
    {
     "name": "stderr",
     "output_type": "stream",
     "text": [
      " 18%|█▊        | 8/45 [00:01<00:08,  4.37it/s]"
     ]
    },
    {
     "name": "stdout",
     "output_type": "stream",
     "text": [
      "Successfully scraped the webpage with the title: \"Christian Molbech\"\n",
      "Successfully scraped the webpage with the title: \"Vore Fædres Sønner\"\n"
     ]
    },
    {
     "name": "stderr",
     "output_type": "stream",
     "text": [
      " 20%|██        | 9/45 [00:01<00:08,  4.47it/s]"
     ]
    },
    {
     "name": "stdout",
     "output_type": "stream",
     "text": [
      "Successfully scraped the webpage with the title: \"Ebbe Skammelsøn\"\n",
      "Successfully scraped the webpage with the title: \"John Green (forfatter)\"\n"
     ]
    },
    {
     "name": "stderr",
     "output_type": "stream",
     "text": [
      " 27%|██▋       | 12/45 [00:02<00:06,  4.84it/s]"
     ]
    },
    {
     "name": "stdout",
     "output_type": "stream",
     "text": [
      "Successfully scraped the webpage with the title: \"LUCK.exe\"\n",
      "Successfully scraped the webpage with the title: \"Du Gør Mig\"\n"
     ]
    },
    {
     "name": "stderr",
     "output_type": "stream",
     "text": [
      " 31%|███       | 14/45 [00:03<00:10,  3.05it/s]"
     ]
    },
    {
     "name": "stdout",
     "output_type": "stream",
     "text": [
      "Successfully scraped the webpage with the title: \"Eleonore Tscherning\"\n",
      "Successfully scraped the webpage with the title: \"Fætter Højben\"\n"
     ]
    },
    {
     "name": "stderr",
     "output_type": "stream",
     "text": [
      " 36%|███▌      | 16/45 [00:03<00:07,  3.83it/s]"
     ]
    },
    {
     "name": "stdout",
     "output_type": "stream",
     "text": [
      "Successfully scraped the webpage with the title: \"Min fætter er pirat\"\n",
      "Successfully scraped the webpage with the title: \"Ralf Pittelkow\"\n"
     ]
    },
    {
     "name": "stderr",
     "output_type": "stream",
     "text": [
      " 38%|███▊      | 17/45 [00:04<00:06,  4.17it/s]"
     ]
    },
    {
     "name": "stdout",
     "output_type": "stream",
     "text": [
      "Successfully scraped the webpage with the title: \"None\"\n"
     ]
    },
    {
     "name": "stderr",
     "output_type": "stream",
     "text": [
      " 40%|████      | 18/45 [00:04<00:06,  4.31it/s]"
     ]
    },
    {
     "name": "stdout",
     "output_type": "stream",
     "text": [
      "Successfully scraped the webpage with the title: \"Krig og fred (Shu-bi-dua)\"\n",
      "Successfully scraped the webpage with the title: \"Thora Esche\"\n"
     ]
    },
    {
     "name": "stderr",
     "output_type": "stream",
     "text": [
      " 44%|████▍     | 20/45 [00:04<00:05,  4.39it/s]"
     ]
    },
    {
     "name": "stdout",
     "output_type": "stream",
     "text": [
      "Successfully scraped the webpage with the title: \"None\"\n"
     ]
    },
    {
     "name": "stderr",
     "output_type": "stream",
     "text": [
      " 47%|████▋     | 21/45 [00:05<00:05,  4.34it/s]"
     ]
    },
    {
     "name": "stdout",
     "output_type": "stream",
     "text": [
      "Successfully scraped the webpage with the title: \"Danske sild (Shu-bi-dua-sang)\"\n"
     ]
    },
    {
     "name": "stderr",
     "output_type": "stream",
     "text": [
      " 49%|████▉     | 22/45 [00:05<00:05,  4.20it/s]"
     ]
    },
    {
     "name": "stdout",
     "output_type": "stream",
     "text": [
      "Successfully scraped the webpage with the title: \"Gård fra Pebringe, Sjælland (Frilandsmuseet)\"\n"
     ]
    },
    {
     "name": "stderr",
     "output_type": "stream",
     "text": [
      " 51%|█████     | 23/45 [00:05<00:05,  4.27it/s]"
     ]
    },
    {
     "name": "stdout",
     "output_type": "stream",
     "text": [
      "Successfully scraped the webpage with the title: \"Sophie Caroline af Ostfriesland\"\n"
     ]
    },
    {
     "name": "stderr",
     "output_type": "stream",
     "text": [
      " 53%|█████▎    | 24/45 [00:05<00:04,  4.25it/s]"
     ]
    },
    {
     "name": "stdout",
     "output_type": "stream",
     "text": [
      "Successfully scraped the webpage with the title: \"Hospital\"\n"
     ]
    },
    {
     "name": "stderr",
     "output_type": "stream",
     "text": [
      " 58%|█████▊    | 26/45 [00:06<00:04,  4.11it/s]"
     ]
    },
    {
     "name": "stdout",
     "output_type": "stream",
     "text": [
      "Successfully scraped the webpage with the title: \"J.J. Dampe\"\n",
      "Successfully scraped the webpage with the title: \"Manden der drømte at han vågnede\"\n"
     ]
    },
    {
     "name": "stderr",
     "output_type": "stream",
     "text": [
      " 60%|██████    | 27/45 [00:06<00:04,  4.28it/s]"
     ]
    },
    {
     "name": "stdout",
     "output_type": "stream",
     "text": [
      "Successfully scraped the webpage with the title: \"Står på en alpetop\"\n"
     ]
    },
    {
     "name": "stderr",
     "output_type": "stream",
     "text": [
      " 62%|██████▏   | 28/45 [00:06<00:03,  4.32it/s]"
     ]
    },
    {
     "name": "stdout",
     "output_type": "stream",
     "text": [
      "Successfully scraped the webpage with the title: \"Louis Marcussen\"\n"
     ]
    },
    {
     "name": "stderr",
     "output_type": "stream",
     "text": [
      " 64%|██████▍   | 29/45 [00:06<00:03,  4.39it/s]"
     ]
    },
    {
     "name": "stdout",
     "output_type": "stream",
     "text": [
      "Successfully scraped the webpage with the title: \"None\"\n",
      "Successfully scraped the webpage with the title: \"Lysets rige\"\n"
     ]
    },
    {
     "name": "stderr",
     "output_type": "stream",
     "text": [
      " 71%|███████   | 32/45 [00:07<00:02,  4.81it/s]"
     ]
    },
    {
     "name": "stdout",
     "output_type": "stream",
     "text": [
      "Successfully scraped the webpage with the title: \"Søsser Krag\"\n",
      "Successfully scraped the webpage with the title: \"None\"\n"
     ]
    },
    {
     "name": "stderr",
     "output_type": "stream",
     "text": [
      " 73%|███████▎  | 33/45 [00:07<00:02,  4.93it/s]"
     ]
    },
    {
     "name": "stdout",
     "output_type": "stream",
     "text": [
      "Successfully scraped the webpage with the title: \"Germand Gladensvend\"\n"
     ]
    },
    {
     "name": "stderr",
     "output_type": "stream",
     "text": [
      " 78%|███████▊  | 35/45 [00:08<00:02,  4.47it/s]"
     ]
    },
    {
     "name": "stdout",
     "output_type": "stream",
     "text": [
      "Successfully scraped the webpage with the title: \"Jean-Paul Sartre\"\n",
      "Successfully scraped the webpage with the title: \"Forløsning\"\n"
     ]
    },
    {
     "name": "stderr",
     "output_type": "stream",
     "text": [
      " 80%|████████  | 36/45 [00:08<00:02,  4.21it/s]"
     ]
    },
    {
     "name": "stdout",
     "output_type": "stream",
     "text": [
      "Successfully scraped the webpage with the title: \"Den danske sang er en ung, blond pige\"\n",
      "Successfully scraped the webpage with the title: \"Warehouse9\"\n"
     ]
    },
    {
     "name": "stderr",
     "output_type": "stream",
     "text": [
      " 84%|████████▍ | 38/45 [00:08<00:01,  4.43it/s]"
     ]
    },
    {
     "name": "stdout",
     "output_type": "stream",
     "text": [
      "Successfully scraped the webpage with the title: \"Babylebbe\"\n"
     ]
    },
    {
     "name": "stderr",
     "output_type": "stream",
     "text": [
      " 87%|████████▋ | 39/45 [00:09<00:01,  4.29it/s]"
     ]
    },
    {
     "name": "stdout",
     "output_type": "stream",
     "text": [
      "Successfully scraped the webpage with the title: \"Judith Butler\"\n"
     ]
    },
    {
     "name": "stderr",
     "output_type": "stream",
     "text": [
      " 91%|█████████ | 41/45 [00:09<00:00,  4.11it/s]"
     ]
    },
    {
     "name": "stdout",
     "output_type": "stream",
     "text": [
      "Successfully scraped the webpage with the title: \"Christian 8.\"\n",
      "Successfully scraped the webpage with the title: \"None\"\n"
     ]
    },
    {
     "name": "stderr",
     "output_type": "stream",
     "text": [
      " 96%|█████████▌| 43/45 [00:10<00:00,  4.45it/s]"
     ]
    },
    {
     "name": "stdout",
     "output_type": "stream",
     "text": [
      "Successfully scraped the webpage with the title: \"Titte til hinanden\"\n",
      "Successfully scraped the webpage with the title: \"Stephanie León\"\n"
     ]
    },
    {
     "name": "stderr",
     "output_type": "stream",
     "text": [
      "100%|██████████| 45/45 [00:10<00:00,  4.60it/s]"
     ]
    },
    {
     "name": "stdout",
     "output_type": "stream",
     "text": [
      "Successfully scraped the webpage with the title: \"13 snart 30\"\n",
      "Successfully scraped the webpage with the title: \"Tæt på - live\"\n"
     ]
    },
    {
     "name": "stderr",
     "output_type": "stream",
     "text": [
      "100%|██████████| 45/45 [00:10<00:00,  4.25it/s]\n"
     ]
    }
   ],
   "source": [
    "# scrape webpages\n",
    "passages = []\n",
    "\n",
    "for url in tqdm(urls):\n",
    "    content = scrape_wiki_text(url)\n",
    "    for passage in content:\n",
    "        passages.append(passage)"
   ]
  },
  {
   "cell_type": "code",
   "execution_count": 740,
   "metadata": {},
   "outputs": [],
   "source": [
    "# pseudocode\n",
    "\n",
    "# split passages into sentences\n",
    "# preprocess passage bank\n",
    "\n",
    "# for (lemma, length) in num_nontoxic_to_add\n",
    "    # num_to_add = num_nontoxic_to_add[(lemma, length)]\n",
    "    # map from lemmas to word forms using get_word_forms\n",
    "\n",
    "    # call function that loops through passage bank and outputs n passages where this words occur (find passages)"
   ]
  },
  {
   "cell_type": "code",
   "execution_count": 690,
   "metadata": {},
   "outputs": [
    {
     "name": "stdout",
     "output_type": "stream",
     "text": [
      "bror\n",
      "Efter nogle år som matematiklærer på seminariet i Nuuk og et år som gymnasielærer på Stenhus Kostskole var han i 1960'erne med til at skabe det, vi i dag kender som P3, og var med radiodirektør Leif Lønsmanns ord var han en af dem, \"som var fremsynede og modige nok til at tage de unge radiolyttere alvorligt\"[kilde mangler]. Således var han gennem 30 år blandt radioens mest skattede studieværter[kilde mangler]. Han lavede musikprogrammer, interviewer og programserien Mellem brødre med sin bror Jørgen Hartmann-Petersen, også kendt under pseudonymet \"Habakuk\". Sammen med oboisten Waldemar Wolsing lavede han en række radioprogrammer om døde komponister: Himmelske samtaler.\n",
      "\n",
      "bror\n",
      "Mark er en ung mand der bærer en stor byrde af sorg og had. Han har mistet sin ældre bror, en dansk soldat der blev dræbt i Afghanistan. Som mange teenage drenge har Mark svært ved, at kontrollere sine følelser og hans tab drukner ham i et hav af had mod den ¿mørkhudede fjende¿ der tog fra ham, hvad han elskede så højt. Blændet af sit had nægter han at åbne sig for andre. Et par måneder senere løber situationen løbsk, da en Afghansk dreng, Mushin, starter i hans klasse. Mark har nu et symbol for det han hader så inderligt og han vil ikke vise nåde, ligesom hans bror ej heller blev vist det. Marks indledende forsøg på at ryste den mørke dreng mislykkes, da Mushin ikke har interesse i konflikter. Men i takt med Mushins pacifisme stiger voldsomheden i Mark der isolerer sig fra sine kammerater. Hvad Mark ikke ved er, at Mushin selv bærer en tragisk byrde, der vil få fatale konsekvenser for begge drenge.[1]\n",
      "\n"
     ]
    }
   ],
   "source": [
    "# test check occurrences \n",
    "for passage in passages[:9]:\n",
    "    occurs = False\n",
    "    for word in passage.split():\n",
    "        if word == \"bror\":\n",
    "            occurs = True\n",
    "    if occurs == True:\n",
    "        print(\"bror\")\n",
    "        print(passage)"
   ]
  },
  {
   "cell_type": "code",
   "execution_count": 719,
   "metadata": {},
   "outputs": [
    {
     "name": "stdout",
     "output_type": "stream",
     "text": [
      "lemmatized: ['trans', 'transe', 'transe', 'transe']\n",
      "word forms: ['trans', 'transen', 'transerne', 'transerne']\n"
     ]
    }
   ],
   "source": [
    "# test getting word forms \n",
    "print(\"lemmatized:\", list(identities[identities[\"identity_lemma\"]==\"trans\"][\"lemmatized\"]))\n",
    "print(\"word forms:\", list(identities[identities[\"identity_lemma\"]==\"trans\"][\"identity_term\"]))"
   ]
  },
  {
   "cell_type": "code",
   "execution_count": 831,
   "metadata": {},
   "outputs": [
    {
     "name": "stdout",
     "output_type": "stream",
     "text": [
      "False\n",
      "(True, 2)\n"
     ]
    }
   ],
   "source": [
    "def occurs_in_list(target:str, text_list:List[str], return_idx:bool=False) -> bool:\n",
    "    \"\"\"Checks whether a word occurs in a list of texts/sentences.\"\"\"\n",
    "    for i, text in enumerate(text_list):\n",
    "        if occurs_in_string(target, text):\n",
    "            if return_idx:\n",
    "                return True, i\n",
    "            else:\n",
    "                return True\n",
    "    if return_idx:\n",
    "        return False, None\n",
    "    else:\n",
    "        return False\n",
    "\n",
    "print(occurs_in_list(\"bror\", [\"min søster er stolt\", \"det er hendes mor ikke\"]))\n",
    "print(occurs_in_list(\"bror\", [\"min søster er stolt\", \"det er hendes mor ikke\", \"jeg elsker min bror højt\"], True))"
   ]
  },
  {
   "cell_type": "code",
   "execution_count": 906,
   "metadata": {},
   "outputs": [],
   "source": [
    "from itertools import combinations\n",
    "\n",
    "def find_combination_idxs(lengths:List[int], lower_bound:int, upper_bound:int) -> List[tuple]:\n",
    "    \"\"\"Find combinations that fall within that the lower and upper bound (range) and returns the indexes. Combinations can vary in size.\"\"\"\n",
    "    result = []\n",
    "\n",
    "    for r in range(1, len(lengths)+1): # different size of combinations\n",
    "        for combo_idxs in combinations(range(len(lengths)), r): # indexes of different combinations of that size\n",
    "            combo_lengths = [lengths[i] for i in combo_idxs]\n",
    "            if lower_bound <= sum(combo_lengths) <= upper_bound:\n",
    "                result.append(combo_idxs)\n",
    "\n",
    "    return result"
   ]
  },
  {
   "cell_type": "code",
   "execution_count": null,
   "metadata": {},
   "outputs": [
    {
     "data": {
      "text/plain": [
       "(47, 47, 55, 58)"
      ]
     },
     "execution_count": 904,
     "metadata": {},
     "output_type": "execute_result"
    }
   ],
   "source": [
    "occurs_in_string"
   ]
  },
  {
   "cell_type": "code",
   "execution_count": 907,
   "metadata": {},
   "outputs": [
    {
     "name": "stdout",
     "output_type": "stream",
     "text": [
      "(1, 3)\n",
      "(0, 1, 2)\n"
     ]
    }
   ],
   "source": [
    "r=find_combination_idxs([10,20,30,40], 60, 65)\n",
    "for x in r:\n",
    "    print(x)"
   ]
  },
  {
   "cell_type": "code",
   "execution_count": 775,
   "metadata": {},
   "outputs": [
    {
     "data": {
      "text/plain": [
       "[['år matematiklærer seminariet nuuk år gymnasielærer stenhus kostskole erne skabe dag kender p radiodirektør leif lønsmanns ord fremsynede modige nok tage unge radiolyttere alvorligt kilde mangler',\n",
       "  'således gennem år blandt radioens mest skattede studieværter kilde mangler',\n",
       "  'lavede musikprogrammer interviewer programserien',\n",
       "  'mellem brødre bror jørgen hartmannpetersen kendt pseudonymet habakuk',\n",
       "  'sammen oboisten waldemar wolsing lavede række radioprogrammer døde komponister himmelske samtaler'],\n",
       " ['mark ung mand bærer stor byrde sorg had',\n",
       "  'mistet ældre bror dansk soldat dræbt afghanistan',\n",
       "  'teenage drenge mark svært ved kontrollere følelser tab drukner hav had ¿mørkhudede fjende¿ tog elskede så højt',\n",
       "  'blændet had nægter åbne andre',\n",
       "  'par måneder senere løber situationen løbsk afghansk dreng mushin starter klasse',\n",
       "  'mark symbol hader så inderligt vise nåde ligesom bror ej heller vist',\n",
       "  'marks indledende forsøg ryste mørke dreng mislykkes mushin interesse konflikter',\n",
       "  'takt mushins pacifisme stiger voldsomheden mark isolerer kammerater',\n",
       "  'mark ved mushin bærer tragisk byrde få fatale konsekvenser begge drenge']]"
      ]
     },
     "execution_count": 775,
     "metadata": {},
     "output_type": "execute_result"
    }
   ],
   "source": [
    "def find_passages(passage_bank:List[str], word_list:List[str]) -> List[str]:\n",
    "    \"\"\"Outputs all the passages where any of the words in the word list occur.\n",
    "\n",
    "    Args:\n",
    "        passage_bank (List[str]): list of text passages.\n",
    "        word_list (List[str]): list of words to find in the text passages.\n",
    "\n",
    "    Returns:\n",
    "        List[str]: list of text passages where at least one of the target words appear once.\n",
    "    \"\"\"\n",
    "    result = []\n",
    "    \n",
    "    for sentence_list in passage_bank:\n",
    "        for word in word_list:\n",
    "            if occurs_in_list(target=word, text_list=sentence_list):\n",
    "                result.append(sentence_list)\n",
    "                break # don't need to add it twice\n",
    "    \n",
    "    return result\n",
    "\n",
    "find_passages(passage_bank[:9], [\"bror\"])"
   ]
  },
  {
   "cell_type": "code",
   "execution_count": 776,
   "metadata": {},
   "outputs": [
    {
     "data": {
      "text/plain": [
       "['trans', 'transen', 'transerne', 'transerne']"
      ]
     },
     "execution_count": 776,
     "metadata": {},
     "output_type": "execute_result"
    }
   ],
   "source": [
    "def get_word_forms(lemma:str, identities:pd.DataFrame) -> List[str]:\n",
    "    \"\"\"Get all the word forms of a lemma, which appear in the identities dataframe.\"\"\"\n",
    "    return list(identities[identities[\"identity_lemma\"]==lemma][\"identity_term\"])\n",
    "\n",
    "get_word_forms(\"trans\", identities)"
   ]
  },
  {
   "cell_type": "code",
   "execution_count": 686,
   "metadata": {},
   "outputs": [
    {
     "name": "stdout",
     "output_type": "stream",
     "text": [
      "Y =  [1, -1]\n",
      "X = 1\n",
      "X = -1\n",
      "Y =  [2, 2, 3, 2]\n",
      "X = 2\n",
      "                two found\n",
      "Y =  [3, 2, 3]\n",
      "X = 3\n",
      "X = 2\n",
      "                two found\n",
      "Y =  [2]\n",
      "X = 2\n",
      "                two found\n"
     ]
    }
   ],
   "source": [
    "# # test breaking in nested loops\n",
    "# for y in [[1,-1],[2,2,3,2],[3,2,3],[2]]:\n",
    "#     print(\"Y = \", y)\n",
    "#     for x in y:\n",
    "#         print(\"X =\", x)\n",
    "#         if x == 2:\n",
    "#             print(\"                two found\")\n",
    "#             break\n",
    "#         # print(\"!\")"
   ]
  },
  {
   "cell_type": "code",
   "execution_count": 723,
   "metadata": {},
   "outputs": [
    {
     "name": "stdout",
     "output_type": "stream",
     "text": [
      "Det her er en sætning.\n",
      "Det her er endnu en sætning, hihi.\n"
     ]
    }
   ],
   "source": [
    "# test splitting into sentences\n",
    "\n",
    "doc = nlp('Det her er en sætning. Det her er endnu en sætning, hihi.')\n",
    "for sent in doc.sents:\n",
    "    print(sent)"
   ]
  },
  {
   "cell_type": "code",
   "execution_count": 728,
   "metadata": {},
   "outputs": [],
   "source": [
    "from utils import preprocess\n",
    "import nltk\n",
    "stop_words = nltk.corpus.stopwords.words('danish')"
   ]
  },
  {
   "cell_type": "code",
   "execution_count": 741,
   "metadata": {},
   "outputs": [
    {
     "name": "stderr",
     "output_type": "stream",
     "text": [
      "100%|██████████| 330/330 [07:04<00:00,  1.29s/it]\n"
     ]
    }
   ],
   "source": [
    "# split passages into sentences (preprocess)\n",
    "\n",
    "passage_bank = []\n",
    "for passage in tqdm(passages):\n",
    "    sentences = []\n",
    "    doc = nlp(passage)\n",
    "    for sent in doc.sents:\n",
    "        clean_sent = preprocess(str(sent), stop_words)\n",
    "        if len(clean_sent) > 0: # don't add empty strings\n",
    "            sentences.append(clean_sent)\n",
    "    passage_bank.append(sentences)"
   ]
  },
  {
   "cell_type": "code",
   "execution_count": 742,
   "metadata": {},
   "outputs": [
    {
     "data": {
      "text/plain": [
       "330"
      ]
     },
     "execution_count": 742,
     "metadata": {},
     "output_type": "execute_result"
    }
   ],
   "source": [
    "len(passage_bank)"
   ]
  },
  {
   "cell_type": "code",
   "execution_count": 795,
   "metadata": {},
   "outputs": [
    {
     "data": {
      "text/plain": [
       "'tæt live livealbum danske sangerinde sangskriver medina udkommer marts labelmade a larm music albummet indspillet drs koncertsalen medinas akustiske tæt påturné oktober november albummet medina udtalt akustiske liveplade realisering fantastisk drøm glædet føre livet længe faktisk lige siden ung tøs så nirvana unplugged mtv tænk blevet virkelighed'"
      ]
     },
     "execution_count": 795,
     "metadata": {},
     "output_type": "execute_result"
    }
   ],
   "source": [
    "' '.join(passage)"
   ]
  },
  {
   "cell_type": "code",
   "execution_count": 828,
   "metadata": {},
   "outputs": [
    {
     "data": {
      "text/plain": [
       "[1, None, None]"
      ]
     },
     "execution_count": 828,
     "metadata": {},
     "output_type": "execute_result"
    }
   ],
   "source": [
    "[1, None, None]"
   ]
  },
  {
   "cell_type": "code",
   "execution_count": 844,
   "metadata": {},
   "outputs": [
    {
     "data": {
      "text/plain": [
       "101"
      ]
     },
     "execution_count": 844,
     "metadata": {},
     "output_type": "execute_result"
    }
   ],
   "source": [
    "i=1\n",
    "len(passage[i-1])+len(passage[i])"
   ]
  },
  {
   "cell_type": "code",
   "execution_count": 910,
   "metadata": {},
   "outputs": [
    {
     "name": "stdout",
     "output_type": "stream",
     "text": [
      "bror 620 3519 1\n",
      "2 1\n",
      "\n",
      "dreng 20 59 7\n",
      "6 7\n",
      "\n",
      "far 140 299 4\n",
      "5 4\n",
      "\n",
      "fyr 60 139 6\n",
      "3 6\n",
      "\n",
      "fætter 140 299 5\n",
      "6 5\n",
      "\n",
      "kone 300 619 2\n",
      "3 2\n",
      "\n",
      "kone 620 3519 1\n",
      "2 1\n",
      "\n",
      "kvinde 60 139 1\n",
      "2 1\n",
      "\n",
      "kvinde 140 299 13\n"
     ]
    },
    {
     "ename": "KeyboardInterrupt",
     "evalue": "",
     "output_type": "error",
     "traceback": [
      "\u001b[1;31m---------------------------------------------------------------------------\u001b[0m",
      "\u001b[1;31mKeyboardInterrupt\u001b[0m                         Traceback (most recent call last)",
      "Cell \u001b[1;32mIn[910], line 38\u001b[0m\n\u001b[0;32m     35\u001b[0m     added \u001b[38;5;241m+\u001b[39m\u001b[38;5;241m=\u001b[39m \u001b[38;5;241m1\u001b[39m\n\u001b[0;32m     37\u001b[0m \u001b[38;5;28;01melse\u001b[39;00m:\n\u001b[1;32m---> 38\u001b[0m     combos \u001b[38;5;241m=\u001b[39m \u001b[43mfind_combination_idxs\u001b[49m\u001b[43m(\u001b[49m\u001b[43msentence_lengths\u001b[49m\u001b[43m,\u001b[49m\u001b[43m \u001b[49m\u001b[43mlower_bound\u001b[49m\u001b[43m,\u001b[49m\u001b[43m \u001b[49m\u001b[43mupper_bound\u001b[49m\u001b[43m)\u001b[49m\n\u001b[0;32m     39\u001b[0m     \u001b[38;5;28;01mif\u001b[39;00m \u001b[38;5;28mlen\u001b[39m(combos) \u001b[38;5;241m>\u001b[39m \u001b[38;5;241m0\u001b[39m:\n\u001b[0;32m     40\u001b[0m         \u001b[38;5;66;03m# pick random combination\u001b[39;00m\n\u001b[0;32m     41\u001b[0m         rd_combo_idx \u001b[38;5;241m=\u001b[39m random\u001b[38;5;241m.\u001b[39mchoice(combos)\n",
      "Cell \u001b[1;32mIn[906], line 9\u001b[0m, in \u001b[0;36mfind_combination_idxs\u001b[1;34m(lengths, lower_bound, upper_bound)\u001b[0m\n\u001b[0;32m      7\u001b[0m \u001b[38;5;28;01mfor\u001b[39;00m r \u001b[38;5;129;01min\u001b[39;00m \u001b[38;5;28mrange\u001b[39m(\u001b[38;5;241m1\u001b[39m, \u001b[38;5;28mlen\u001b[39m(lengths)\u001b[38;5;241m+\u001b[39m\u001b[38;5;241m1\u001b[39m): \u001b[38;5;66;03m# different size of combinations\u001b[39;00m\n\u001b[0;32m      8\u001b[0m     \u001b[38;5;28;01mfor\u001b[39;00m combo_idxs \u001b[38;5;129;01min\u001b[39;00m combinations(\u001b[38;5;28mrange\u001b[39m(\u001b[38;5;28mlen\u001b[39m(lengths)), r): \u001b[38;5;66;03m# indexes of different combinations of that size\u001b[39;00m\n\u001b[1;32m----> 9\u001b[0m         combo_lengths \u001b[38;5;241m=\u001b[39m [lengths[i] \u001b[38;5;28;01mfor\u001b[39;00m i \u001b[38;5;129;01min\u001b[39;00m combo_idxs]\n\u001b[0;32m     10\u001b[0m         \u001b[38;5;28;01mif\u001b[39;00m lower_bound \u001b[38;5;241m<\u001b[39m\u001b[38;5;241m=\u001b[39m \u001b[38;5;28msum\u001b[39m(combo_lengths) \u001b[38;5;241m<\u001b[39m\u001b[38;5;241m=\u001b[39m upper_bound:\n\u001b[0;32m     11\u001b[0m             result\u001b[38;5;241m.\u001b[39mappend(combo_idxs)\n",
      "Cell \u001b[1;32mIn[906], line 9\u001b[0m, in \u001b[0;36m<listcomp>\u001b[1;34m(.0)\u001b[0m\n\u001b[0;32m      7\u001b[0m \u001b[38;5;28;01mfor\u001b[39;00m r \u001b[38;5;129;01min\u001b[39;00m \u001b[38;5;28mrange\u001b[39m(\u001b[38;5;241m1\u001b[39m, \u001b[38;5;28mlen\u001b[39m(lengths)\u001b[38;5;241m+\u001b[39m\u001b[38;5;241m1\u001b[39m): \u001b[38;5;66;03m# different size of combinations\u001b[39;00m\n\u001b[0;32m      8\u001b[0m     \u001b[38;5;28;01mfor\u001b[39;00m combo_idxs \u001b[38;5;129;01min\u001b[39;00m combinations(\u001b[38;5;28mrange\u001b[39m(\u001b[38;5;28mlen\u001b[39m(lengths)), r): \u001b[38;5;66;03m# indexes of different combinations of that size\u001b[39;00m\n\u001b[1;32m----> 9\u001b[0m         combo_lengths \u001b[38;5;241m=\u001b[39m [\u001b[43mlengths\u001b[49m\u001b[43m[\u001b[49m\u001b[43mi\u001b[49m\u001b[43m]\u001b[49m \u001b[38;5;28;01mfor\u001b[39;00m i \u001b[38;5;129;01min\u001b[39;00m combo_idxs]\n\u001b[0;32m     10\u001b[0m         \u001b[38;5;28;01mif\u001b[39;00m lower_bound \u001b[38;5;241m<\u001b[39m\u001b[38;5;241m=\u001b[39m \u001b[38;5;28msum\u001b[39m(combo_lengths) \u001b[38;5;241m<\u001b[39m\u001b[38;5;241m=\u001b[39m upper_bound:\n\u001b[0;32m     11\u001b[0m             result\u001b[38;5;241m.\u001b[39mappend(combo_idxs)\n",
      "\u001b[1;31mKeyboardInterrupt\u001b[0m: "
     ]
    }
   ],
   "source": [
    "d = {}\n",
    "\n",
    "for (lemma, length) in tqdm(num_nontoxic_to_add):\n",
    "    length_list = length.split(\"-\")\n",
    "    lower_bound, upper_bound = int(length_list[0]), int(length_list[1])\n",
    "    num_to_add = num_nontoxic_to_add[(lemma, length)] # number new nontoxic to add\n",
    "    print(lemma, lower_bound, upper_bound, num_to_add)\n",
    "    word_list = get_word_forms(lemma, identities) # word forms\n",
    "    # print(word_list)\n",
    "    passages = find_passages(passage_bank, word_list) # find passages with these words in\n",
    "    \n",
    "    added = 0\n",
    "    add = []\n",
    "    \n",
    "    # add whole passages if within range\n",
    "    # for passage in passages: # for each passage\n",
    "    #     passage_len = len(' '.join(passage)) # length of entire passage\n",
    "        \n",
    "    #     if added < num_to_add: # add the n first occurrences that match\n",
    "    #         if passage_len >= lower_bound and passage_len <= upper_bound: # if passage is within the bucket\n",
    "    #             added += 1\n",
    "    #             print(\"pass\", added, passage_len, passage)\n",
    "    \n",
    "    # else add combinations\n",
    "    # if added < num_to_add:\n",
    "    \n",
    "    for passage in passages:\n",
    "        \n",
    "        if added <= num_to_add: # only continue if we need to add more sentences            \n",
    "            sentence_lengths = [len(sent)+1 for sent in passage] # +1 = space between sentences\n",
    "            \n",
    "            # if the full passage is within range, add that\n",
    "            if lower_bound <= len(passage) <= upper_bound:\n",
    "                add.append(passage)\n",
    "                added += 1\n",
    "        \n",
    "            else:\n",
    "                # get the sentence the word appears in\n",
    "                combos = find_combination_idxs(sentence_lengths, lower_bound, upper_bound)\n",
    "                if len(combos) > 0:\n",
    "                    # pick random combination\n",
    "                    rd_combo_idx = random.choice(combos)\n",
    "                    rd_combo_text = ' '.join([passage[i] for i in rd_combo_idx])\n",
    "                    add.append(rd_combo_text)\n",
    "                    added += 1\n",
    "    print(added, num_to_add)\n",
    "        \n",
    "    # if added < num_to_add: # if we still don't have enough\n",
    "    #     occurrence_idxs = [occurs_in_list(word, passage, True)[1] for word in word_list] # get index of sentence it occurs in\n",
    "    #     occurrence_idxs = [x for x in occurrence_idxs if type(x) == int] # remove None values\n",
    "    #     for i in occurrence_idxs: \n",
    "    #         if len(passage[i]) >= lower_bound and len(passage[i]) <= upper_bound:\n",
    "    #             print(i, len(passage[i]))\n",
    "    #         else:\n",
    "    #             print(i)\n",
    "    #             if i > 0:\n",
    "    #                 if (len(passage[i-1])+len(passage[i])) >= lower_bound and (len(passage[i-1])+len(passage[i])) <= upper_bound:\n",
    "    #                     print(\"TWOSENT\", i, (len(passage[i-1])+len(passage[i])))\n",
    "    #             else:\n",
    "    #                 print(len(passage[i+1])+len(passage[i])+len(passage[i+2])+len(passage[i+3]))\n",
    "    #                 if (len(passage[i+1])+len(passage[i])) >= lower_bound and (len(passage[i+1])+len(passage[i])) <= upper_bound:\n",
    "    #                     print(\"TWOSENT\", i, (len(passage[i+1])+len(passage[i])))\n",
    "        \n",
    "        \n",
    "    #     for sent in passage: \n",
    "    #         for word in word_list:\n",
    "    #             if occurs_in_string(word, sent):\n",
    "    #                 if len(sent) >= lower_bound and len(sent) <= upper_bound:\n",
    "    #                     print(\"sent\", len(sent), word, sent)\n",
    "    #                 elif passage_len >= lower_bound and passage_len <= upper_bound:\n",
    "    #                     print(\"pass\", passage_len, word, sent)\n",
    "        \n",
    "    # d[lemma] = passages\n",
    "    print()"
   ]
  }
 ],
 "metadata": {
  "kernelspec": {
   "display_name": "thesis2",
   "language": "python",
   "name": "python3"
  },
  "language_info": {
   "codemirror_mode": {
    "name": "ipython",
    "version": 3
   },
   "file_extension": ".py",
   "mimetype": "text/x-python",
   "name": "python",
   "nbconvert_exporter": "python",
   "pygments_lexer": "ipython3",
   "version": "3.9.18"
  }
 },
 "nbformat": 4,
 "nbformat_minor": 2
}
