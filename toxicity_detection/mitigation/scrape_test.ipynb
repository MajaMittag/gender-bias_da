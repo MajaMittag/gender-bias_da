{
 "cells": [
  {
   "cell_type": "markdown",
   "metadata": {},
   "source": [
    "# Data supplementation"
   ]
  },
  {
   "cell_type": "markdown",
   "metadata": {},
   "source": [
    "## Imports"
   ]
  },
  {
   "cell_type": "code",
   "execution_count": 34,
   "metadata": {},
   "outputs": [],
   "source": [
    "import os\n",
    "os.chdir(\"g:\\\\My Drive\\\\ITC, 5th semester (Thesis)\\\\Code\\\\Github_code\\\\toxicity_detection\")\n",
    "\n",
    "from wiki_scraper import scrape_wiki_text\n",
    "import nltk\n",
    "import utils\n",
    "from tqdm import tqdm\n",
    "import dacy"
   ]
  },
  {
   "cell_type": "markdown",
   "metadata": {},
   "source": [
    "## Scrape Wikipedia data"
   ]
  },
  {
   "cell_type": "code",
   "execution_count": 2,
   "metadata": {},
   "outputs": [
    {
     "name": "stdout",
     "output_type": "stream",
     "text": [
      "Successfully scraped the webpage with the title: \"Transkønnethed\"\n",
      "____________________________________________________________________________________________________\n",
      "Transkønnethed er en betegnelse for personer, der har en kønsidentitet eller et kønsudtryk, der adskiller sig fra deres fødselskøn.[1][2][3] Nogle transkønnede, som ønsker medicinsk hjælp til at overgå fra et køn til et andet, identificerer sig som transseksuelle.[4][5] Transkønnet, ofte forkortet til blot trans, er også et paraplybegreb: Udover at omfatte personer, hvis kønsidentitet er det modsatte af deres fødselskøn (dvs. transmænd og transkvinder), kan det også anvendes om personer, hvis kønsudtryk ikke er eksklusivt maskulint eller feminint (personer, som er ikke-binære eller genderqueer, heriblandt bikønnede, pankønnede, genderfluid og akønnede).[2][6][7] Blandt andre definitioner af transkønnet er også at inkludere personer, der tilhører et tredje køn, eller konceptualisere transkønnede som et tredje køn.[8][9] Begrebet transkønnet kan defineres meget bredt til også at inkludere transvestisme eller ligefrem crossdressing generelt.[10]\n",
      "\n",
      "At være transkønnet er uafhængigt af seksuel orientering.[11] Transkønnede personer kan identificere sig som heteroseksuelle, homoseksuelle, biseksuelle, aseksuelle eller helt nægte at sætte en betegnelse på deres seksuelle orientering. Begrebet transgender skelnes også fra intersex, da sidstnævnte betegner personer, der er født med fysiske kønskarakteristika \"der ikke passer ind i typiske binære forståelser af hankønnede eller hunkønnede kroppe\".[12] Det modsatte af transkønnethed er ciskønnethed, der beskriver personer hvis kønsidentitet eller kønsudtryk stemmer overens med deres fødselskøn.[13]\n",
      "\n",
      "Graden hvortil personer kan føle sig autentiske og tilpas med deres ydre udseende og acceptere deres reelle identitet er blevet kaldt transkønnethedskongruens.[14] Mange transkønnede oplever kønsdysfori, og nogle søger medicinsk behandling såsom hormonterapi, kønsskifteoperation eller psykoterapi.[15] Ikke alle transkønnede ønsker disse behandlinger, og nogle kan slet ikke modtage dem af økonomiske eller medicinske grunde.[15][16]\n",
      "\n",
      "På verdensplan oplever mange transkønnede diskrimination på arbejdspladsen[17] og i offentlige rum[18] og sundhedssystemet.[19] Mange steder er transkønnede ikke juridisk beskyttede mod diskrimination.[20]\n",
      "\n",
      "Psykiateren John F. Oliven fra Columbia University var den første til at anvende begrebet transgender i sit opslagsværk Sexual Hygiene and Pathology (1965),[21] hvori han skrev at det begreb der tidligere var blevet anvendt, transseksualisme, \"er vildledende; faktisk menes 'transkønnethed' (engelsk: transgenderism), da seksualitet ikke er en større faktor i primær transvestisme.\"[22][23] Begrebet transgender blev derefter populariseret med forskellige forskellige definitioner fra forskellige transkønnede, transseksuelle og transvistitiske personer, heriblandt Virginia Prince,[4] som anvendte det i december 1969 i månedens udgave af Transvestia, et amerikansk nationalt magasin for crossdressers som hun grundlagde.[24] Ved midten af 1970'erne blev både trans-gender (\"transkønnet\") og trans people (\"transpersoner\") anvendt som paraplybegreber,[note 1] og transgenderist blev brugt til at henvise til personer, der ønskede at leve som det modstillede køn uden brug af kønsskifteoperationer.[25] I 1976 blev transgenderist forkortet TG i oplysningsmaterialer.[26]\n",
      "\n",
      "I 1984 havde idéen om et \"transkønnet fællesskab\" udviklet sig, og her blev transkønnet anvendt som et paraplybegreb.[27] I 1985 etablerede Richard Elkins \"Trans-Gender Archive\" ved Ulster Universitet.[24] I 1992 definerede International Conference on Transgender Law and Employment Policy transkønnethed (engelsk: transgender) som et større paraplybegreb, der inkluderede \"transseksuelle, transgenderists, cross dressers\" og enhver der er i transition.[28] Leslie Feinberg's pamflet, \"Transgender Liberation: A Movement Whose Time has Come\", i cirkulation i 1992, identificerede transgender som en betegnelse, som skulle forene alle former for nonkonformitet indenfor køn; på denne måde er transgender blevet synonymt med queer.[29]\n",
      "\n",
      "Mellem midt-1990'erne og de tidlige 2000'ere var de primære betegnelser under transkønnethedsparaplyen \"female to male\" (FtM, dansk: hun til han) for mænd, som gennemgik transition fra hunkøn til hankøn, og \"male to female\" (MtF, dansk: han til hun) for kvinder, som gennemgik transition fra hankøn til hunkøn. Disse betegnelser er siden blevet erstattet af hhv. begreberne \"transmand\" og \"transkvinde\", og betegnelserne \"transmaskulin\" eller \"transfeminin\" er også begyndt at finde anvendelse.[30] Dette skift i præference fra begreber, der lagde vægt på biologisk køn (\"transseksuel\" og sidenhen \"FtM\") til begreber, der lægger vægt på kønsidentitet og udtryk (\"transkønnet\", \"transkvinde\") er udtryk for et bredere skifte i forståelsen af transkønnede personers selvfølelse, og den voksende anerkendelse af de, som afviser medicinske indgreb, som værende en del af transkønnedes fællesskab.[30]\n",
      "\n",
      "Sundhedsfaglige manualer, professionelle journalistiske stilmanualer og LGBT-grupper anbefaler at andre i deres interaktioner med en transkønnet person anvender det navn og de stedord som den pågældende person selv identificerer sig med, heriblandt nutidige henvisninger til transpersonens fortid.[31][32] Mange bemærker også at transkønnet (engelsk: transgender) bør anvendes som et tillægsord, ikke et navneord (for eksempel, \"Max er transkønnet\" eller \"Max er en transkønnet mand\", ikke \"Max er en transkønnet\").[33][34] På engelsk anbefales ligeledes at man betegner folk som transgender og ikke transgendered.[35]\n",
      "\n",
      "Transkønnethed står generelt i kontrast til ciskønnethed, hvilket betegner personer, hvis følelse af personlig identitet stemmer overens med det køn de blev tildelt ved fødslen – dvs. personer, som hverken er transkønnede eller ikke-binære/genderqueer.[36]\n",
      "\n",
      "Præfikserne trans- og cis- stammer fra latin, og betyder oprindeligt hhv. \"på den anden side af\" og \"på denne side af\".[37][38]\n",
      "\n",
      "Den tyske sexolog Magnus Hirschfeld introducerede i 1923 betegnelsen Transsexualismus, som David Oliver Cauldwell i 1949 oversatte til det engelske transsexual, hvilket efterfølgende blev populariseret af Harry Benjamin i 1966, omkring den samme tid som ordet transgender vandt indpas.[4] Siden 1990'erne er transsexual (normalt oversat til transseksuel og transseksualitet på dansk) generelt blevet anvendt til at beskrive en undergruppe af transkønnede personer,[4][39][40] som ønsker at overgå permanent til det køn, som de identificerer sig med, og som søger medicinsk hjælp (eksempelvis kønsskifteoperationer) til at opnå dette.\n",
      "\n",
      "Skelnen mellem transkønnet/transgender og transseksuel/transsexual baseres ofte på skelnen mellem socialt og biologisk køn, hvor førstnævnte på engelsk betegnes gender og sidstnævnte sex. [41][42] På denne måde kan transseksualitet siges primært at omhandle de fysiske aspekter af en persons biologiske køn, mens transkønnethedsrelaterede overvejelser primært omhandler ens psykologiske og sociale kønsdisposition eller prædisposition såvel som de relaterede samfundsmæssige forventninger, der kan følge med en given kønsrolle.[43] Mange transkønnede personer afviser at betegne sig selv som transseksuelle.[5][44][45] Christine Jorgensen afviste offentligt ordet transsexual i 1979 og identificerede sig i stedet i nyhedsartikler som trans-gender, og skrev \"køn (engelsk: gender) har ikke noget at gøre med sengepartnere, det har at gøre med identitet.\"[46][47] Dette henviser til en bekymring om at ordet transseksualitet antyder at der er tale om seksualitet, i stedet for om kønsidentitet.[48][note 2] Nogle transseksuelle personer ønsker omvendt ikke at transseksuelle bliver inkluderet under paraplybetegnelsen transkønnethed.[49][50][51][52]\n",
      "\n",
      "I sin bog Transgender, an Ethnography of a Category (2007) beskriver antropologen David Valentine at ordet \"transkønnet\" (engelsk: transgender) blev opfundet og anvendt af aktivister til at inkludere mange personer, der ikke nødvendigvis selv identificerer sig med begrebet, og skriver ydermere at personer, som ikke identificerer sig som transkønnede ikke bør inkluderes i transkønnethedsspektrummet.[49] Leslie Feinberg har ligeledes udtalt at \"transkønnet\" (engelsk: transgender) ikke er et selvidentificerende begreb (for nogle personer) men derimod en kategori, man bliver pålagt af iagttagere for at kunne forstå andre mennesker.[50] Transgender Health Program (THP) ved Fenway Health i Boston i USA skriver at der ikke findes nogen universelt-accepterede definitioner, og at terminologiforvirringen er udbredt fordi flere af de begreber, der var populære ved århundredeskiftet nu anses som værende anstødelige. THP anbefaler at læger spørger deres klienter hvilken terminologi de foretrækker, og undgår begrebet \"transseksuel\" medmindre de er sikre på at en klient er komfortabel med det.[48]\n",
      "\n",
      "Harry Benjamin opfandt et klassifikationssystem for transseksuelle og transvestiter kaldet Sex Orientation Scale (SOS), hvori han tildelte transseksuelle og transvestiter en af seks kategorier baseret på deres grund til at crossdresse, og hvor påtrængende nødvendigt (hvis overhovedet) de fandt deres behov for kønsskifteoperationer.[53] Benjamin mente at en \"sand transseksuel\" ved moderat intensitet hverken behøvede østrogen eller testosteron som en erstatning for, eller før, kirurgiske indgreb.[53]\n",
      "\n",
      "Genderqueer eller ikke-binære kønsidentiteter er ikke specifikt maskuline eller feminine. De kan være akønnede, androgyne, bikønnede, pankønnede eller genderfluid,[54] og eksistere udenfor normal cisnormativitet.[55][56] \"Bikønnet\" og \"androgyn\" er overlappende kategorier; bikønnede individer kan identificere sig som vekslende mellem maskuline og feminine roller (genderfluid) eller som værende både maskuline og feminine på samme tid (androgyne), og androgyne personer kan ligeledes identificere sig som værende kønsløse (postkønnede eller akønnede), mellem køn (interkønnede), vekslende mellem kønnene (genderfluid) eller på samme tid udvise flere køn (pankønnede). \"Androgyn\" anvendes også somme tider som et medicinsk synonym for en intersex-person.[57]\n",
      "\n",
      "En transvestit er en person, som crossdresser, dvs. regelmæssigt klæder sig i tøj der typisk associeres med det modsatte køn af det de blev tildelt ved fødslen.[58][59] Begrebet \"transvestit\" anvendes ofte som synonym for ordet \"crossdresser\",[60][61] selvom \"crossdresser\" generelt foretrækkes.[61][62] Begrebet \"crossdresser\" defineres ikke præcist i relevant litteratur. Michael A. Gilbert, professor ved Department of Philosophy på York University i Toronto, Canada, giver denne definition: \"[En crossdresser] er en person, som har en tilsyneladende kønsidentifikation med et køn (engelsk: sex), og som er og med sikkerhed er blevet fødselsdesigneret som tilhørende [det] køn, men som bærer det modsatte køns tøj, fordi det er det modsatte køns tøj.\"[63] Denne definition ekskluderer personer \"som bærer det modsatte køns tøj af andre grunde,\" såsom \"de kvindeefterlignere som kun ser på beklædning som forbundet til deres levebrød, skuespillere der påtager sig roller, individuelle mænd og kvinder (engelsk: males and females) som nyder et maskebal, osv. Disse individer crossdresser, men er ikke crossdressers.\"[64] Crossdressers identificerer sig ikke nødvendigvis med det modsatte køn, eller ønsker at være det eller antage dets adfærd eller skikke, og ønsker generelt ikke at ændre deres kroppe medicinsk eller kirurgisk. Størstedelen af alle crossdressers identificerer sig som heteroseksuelle.[65]\n",
      "\n",
      "Begrebet \"transvestit\" og det associerede ord \"transvestisme\" er konceptuelt anderledes end begrebet transvestitisk fetichisme, da sidstnævnte henviser til personer, der af og til anvender det modsatte køns tøj af fetichistiske årsager.[66][67] I medicinsk terminologi differentieres transvestitisk fetichisme fra crossdressing ved brug af de separate koder 302.3[67] i Diagnostic and Statistical Manual of Mental Disorders (DSM) og F65.1[66] i ICD.\n",
      "\n",
      "Transition er betegnelsen for den proces, som nogle transkønnede gennemgår, hvor de forsøger at blive accepteret som, opfattet som eller fremstå mere i overensstemmelse med de forventninger, samfundet eller de selv har til medlemmer af deres køn. Dette kan involvere juridiske tiltag som (juridisk) kønsskifte, navneændring og/eller at få et kryds i passet, administration af hormontilskud og/eller antihormon med det formål at ændre på temperament og/eller at opnå eller forhindre udvikling af sekundære kønstræk, kirurgiske indgreb som kønskorrigerende operation, brystimplantater eller fjernelse af brystvæv, eller udskiftning af tøj, frisure, smykker, makeup-vaner, brug af specialiseret tøj som binders og packers, mm. for at opnå en bestemt fremtoning. Det er ikke alle transkønnede, hvis transition indebærer alle disse ting, og nogle transkønnede gennemgår intet af ovenstående men nøjes med at forklare deres omgangskreds, hvilket køn de har, selvom deres navn eller udseende ikke stemmer overens med normerne for dette køn.[kilde mangler]\n",
      "\n",
      "I mange lande bliver indbyggerne ved registrering tildelt status som enten juridisk mand eller juridisk kvinde enten i landets personregister eller i kraft af en fødselsattest. Juridisk kønsskifte er den process, man gennemgår, når man ændrer status fra juridisk mand til juridisk kvinde eller omvendt. I nogle lande er det også muligt at få tildelt et helt tredje juridisk køn. I de fleste lande er det ikke muligt at få juridisk kønsskifte overhovedet, og i nogle lande kan det kun opnås med godkendelse fra en læge eller psykiater. Der kræves nogle steder forudgående kirurgiske indgreb som sterilisation, kastration eller kønskorrigerende operation, mens man Argentina[68] og Danmark kan opnå juridisk kønsskifte uden andre krav en skriftlig bekræftelse fra personen selv, såfremt denne er myndig.\n",
      "\n",
      "Man kan i dag søge hos Det Centrale Personregister om at få ændret sit personnummer, såfremt man mener, at ens biologiske køn ikke stemmer overens med det køn, man føler, at man har. Der kræves blot, at man underskriver en erklæring om, at man ønsker det juridiske kønsskifte og efter en 6 måneders venteperiode bekræfter, at man stadigvæk ønsker det. Det er også et krav, at man er fyldt 18 år ved ansøgningstidspunktet.[69]\n",
      "\n",
      "Et juridisk kønsskifte påvirker bl.a. hvilke fornavne, man efter navneloven kan tage og kan derfor være nødvendigt for nogle transkønnede, førend de kan få deres ønskede navn godkendt juridisk. Der kan dog også gives dispensation for navneloven af Sexologisk Klinik ved Psykiatrisk Center København, hvis personen er transkønnet med diagnosen transseksualisme eller en tilstand, der kan ligestilles dermed, men dette kræver en langvarig og ofte uønsket udredning, der ofte er længere end venteperioden ved juridisk kønsskifte.[70]\n",
      "\n",
      "Den 11. juni 2014 blev L 182 – Forslag til lov om ændring af lov om Det Centrale Personregister vedtaget af Folketinget, hvor Socialdemokratiet, Det Radikale Venstre, Socialistisk Folkeparti og Enhedslisten stemte for.[71] Da loven den 1. september 2014 trådte i kraft, blev juridisk kønsskifte i Danmark mere tilgængeligt end før. Før den nye lov trådte i kraft 1. september 2014, blev det for at opnå juridisk kønsskifte i Danmark krævet, at den transkønnede havde fået stillet diagnosen transseksualisme, og at denne desuden som minimum havde gennemgået kastration eller kønskorrigerende operation. Loven har gjort, at man efter en venteperiode på 6 måneder kan få sit CPR-nummer ændret, således at man bliver betragtet juridisk som det køn, det sidste ciffer i CPR-nummeret afspejler. Der findes indtil videre kun to juridiske køn i Danmark: Mand og Kvinde – i modsætning til i f.eks. Thailand, hvor man også kan blive anerkendt juridisk som tilhørende det tredje køn.[72]\n",
      "\n",
      "Rammerne for behandling i Danmark er beskrevet af Sundhedsstyrelsen i ”Vejledning om sundhedsfaglig hjælp ved kønsidentitetsforhold”.\n",
      "\n",
      "I september 2014 opstod et politisk initiativ kaldet Til kamp for informeret samtykke som reaktion på et udkast fra Sundhedsstyrelsen til stramninger på transkønnedes medicinske behandlingsmuligheder. Indflydelse fra Sundhedsstyrelsen gjorde bl.a., at gynækologen Peter Bagger, som i 20 år havde behandlet transkønnede, sagde farvel og tak til sine transkønnede patienter,[73] og dette har formentligt været en af de begivenheder, der har sat skub i initiativet. Initiativets indflydelse blev alvor, da et cirkulære med opbakning fra Transpolitisk Front, LGBT Danmark, LGBT Ungdom, Stop Overformynderiet af Transkønnede, Transpolitisk Forum, Stop Had, Øjne i Natten og Queer gruppen i Internationalt Forum blev delt på en række nyhedssider og opfordrede til deltagelse i en underskriftsindsamling imod Sundhedsstyrelsens kommende vejledning og for en behandlingsmodel, der bygger på informeret samtykke – en model, hvor det kun er den transkønnede selv, der afgør, om denne er transkønnet eller ej, og hvor behandling forudsætter, at denne har fået viden om og overblik over behandlingens konsekvenser men uden at forudsætte en psykiaters erklæring derudover.[74][75][76][77][78]\n",
      "\n",
      "Udkastet fra sundhedsstyrelsen skulle senere trods bred kritik[79][80][81][82], underskriftindsamlingen, og en demonstration på Christiansborg Slotsplads[83] blive til den endelige Vejledning om udredning og behandling af transkønnede, offentliggjort den 23. december 2014 og senere gjort offentligt tilgængelig på Retsinformation den 7. januar 2015.[84] Sammen med kritikken af Sundhedsstyrelsens udkast og endelige udgave af vejledningen følger også en mangeårig kritik af den Sexologiske Klinik ved Psykiatrisk Center København, som transkønnede under den nye vejledning tvinges til at lade sig udredes psykiatrisk hos og blive godkendt af, inden de kan komme i hormonbehandling eller modtage andre medicinske indgreb.[85][86][87]\n",
      "\n",
      "Udover cirkulæret, underskriftsindsamlingen, demonstrationen på Christiansborg Slotsplads den 23. oktober 2014 og diverse medieoptrædener har initiativet også affødt en kampagne kaldet Post til ministeren – Min krop mit valg, hvor støtter af projektet opfordres til at tage et billede af sig selv sammen med teksten \"Min krop mit valg\" eller \"Til Kamp for Informeret Samtykke\" og sende det til sundhedsministeren.[83]\n",
      "\n",
      "Diagnosen der kan gives til personer, der i psykiatrien vurderes til at være transkønnede, er transseksualisme. Selvom der i den i skrivende stund gældende vejledning om udredning og behandling af transkønnede står, at diagnosen ikke er udtryk for en somatisk eller psykiatrisk sygdomstilstand,[88] er diagnosen (DF64.0) klassificeret under Kap. V: Psykiske lidelser og adfærdsmæssige forstyrrelser. I vejledningen bliver den desuden omtalt som diagnosen transseksualitet, men navnet på diagnosen er i klassifikationssystemet fortsat transseksualisme[89]. Diagnosen Kønsidentitetsforstyrrelse UNS (DF64.9) gives også ved den psykiatriske udredning af transkønnede.\n",
      "\n",
      "Et beslutningsforslag om at fjerne transseksualisme fra sygdomslisten blev i Folketinget fremsat i april 2013[90] og i februar 2015.[91] Sidstnævnte resulterede i et løfte fra Sundheds- og Ældreministeren samt en beretning fra Folketingets Sundheds- og Ældreudvalg om, at diagnosen transseksualisme vil blive flyttet fra afsnittet med psykiske sygdomme til et \"ikke-stigmatiserende\" afsnit i den danske sygdomsklassifikation ved starten af 2017, såfremt WHO ikke allerede har gjort dette i deres klassifikation til den tid.[92] Transkønnede kommentatorer og rettighedsforkæmpere har kaldt dette symbolpolitik, som ikke forbedrer transkønnedes vilkår, medmindre den følges op af krav om reform i sundhedsvæsenets tilgang til udredning og behandling af transkønnede.[93][94]\n",
      "\n",
      "Hvorvidt diagnoseplaceringens ændring har en reel effekt på de transkønnedes stigmatisering er endnu ikke bevist. Ifølge direktøren for Sundhedsstyrelsen og speciallæge i gynækologi, Søren Brostrøm, er det dog ikke diagnoseplaceringen som beskriver i hvilken grad der er tale om en lidelse, men rettere lægehjælpens beskrivelse af diagnosen.[95]\n",
      "\n",
      "Trods transkønnedes forbedrede rettigheder og den relaterede sygdoms frigørelse fra listen over psykiske lidelser, bliver disses udredning samt behandling tilstadighed økonomisk støttet af den danske stat. Støttepuljen for dette udgør fra 2016 3,3 millioner kroner årligt.[96]\n",
      "\n",
      "Transkønnede børn og unge identificerer sig ikke med det køn, som de blev tildelt ved fødslen. En transdreng identificerer sig som dreng men blev tildelt et feminint køn ved fødslen. En transpige identificerer sig som pige men blev tildelt et maskulint køn ved fødslen. I Danmark er det eneste tilbud til transkønnede børn og unge på Sexologisk Klinik, der siden 2012 har haft monopol på behandlingen af transkønnede.[97]\n",
      "\n",
      "Tilbuddet til børn og unge blev oprettet i januar 2016. Der forventes at være 120-130 børn og unge om året, der henvender sig til Sexologisk Klinik.[98]\n",
      "\n",
      "Siden januar 2016 har det været muligt for transkønnede børn og unge at få stophormoner, der kan udskyde puberteten, samt krydshormoner.[99]\n",
      "\n",
      "Børn og unge kan få pubertetsbremsende medicin (\"stop-hormon\"), hvis puberteten er indledt (fra Tanner stadie 2)[100]. Metoden er velkendt gennem flere årtier til behandling af for tidlig pubertet hos børn og tåles overordnet set godt. Stophormonet sætter puberteten på pause. Hvis behandlingen standses, kan kroppen vende tilbage til pubertetens oprindelige udvikling. De fysiske tegn på pubertet (vækst af testikler, vækst af bryster) udvikles ikke yderligere, og vækstspurten standses. Hos unge, som henvender sig i 15-17 årsalderen, er puberteten ofte allerede overstået, og her ses ingen effekt på højden og kun små fysiske effekter, hvis overhovedet.[99][101]\n",
      "\n",
      "Det er muligt for unge at blive behandlet med krydshormoner, dvs. østrogen til transpiger og testosteron til transdrenge. Behandling af krydshormoner kan kun ske efter en grundig udredning og vurdering af den unge samt efter en periode med behandling af stop-hormoner, hvor effekten er vurderet[100]. Krydshormonbehandling er velkendt og velafprøvet gennem årtier hos unge med forsinket pubertet mm. Hos unge, som endnu ikke har gennemgået en fuld pubertet, trappes behandlingen gradvist op til voksendosis for at fremme en harmonisk fysisk og psykisk modning. Hos unge med fuld pubertetsudvikling og afsluttet vækst kan dosis tilpasses voksne forhold fra starten. Hvis dosis svarer til almindelig hormonerstatning er risiko for bivirkninger på kort og lang sigt beskeden. Da hormonniveauerne er meget forskellige mellem raske individer, laves løbende kontrol af lever- og nyretal, vitaminer, mineraler, sukker, blodtryk mv.. Desuden spørges til psykiske bivirkninger og rådgives om sund livsstil. De fysiske ændringer af denne påvirkning er ikke reversible ved ophør. Mange års krydshormonbehandling kan muligvis skade fertiliteten.[99]\n",
      "\n",
      "Transkønnede børn og unge skal visiteres af egen læge til Sexologisk Klinik. Der skal man have 5 samtaler, hvorefter man sendes videre til Bispebjerg Hospital, der er en afdeling under Børne-Unge-psykiatrien i Region Hovedstaden. På Bispebjerg skal børn og unge have foretaget intelligenstest, fremvise en skoleudtalelse, udfylde spørgeskemaer og udredes for en række psykiatriske diagnoser (skizofreni, autisme m.v.). Der er ikke sammenhæng mellem diagnoserne og transkønnethed. Sideløbende med udredningen på Bispebjerg skal man fortsat deltage i samtaler på Sexologisk Klinik. Efter Bispebjergs udredning drøftes den enkeltes sag på en fælles konference for Sexologisk Klinik og Bispebjerg. Hvis barnet/den unge godkendes på konferencen, så gives hormonerne hos \"Vækst og Reproduktionen\".[102]\n",
      "\n",
      "Unge skal have været tilknyttet Sexologisk Klinik mindst 1 år for at få hormoner.[103]\n",
      "\n",
      "Processen i forhold til stop-hormoner kan også tage over 1 år på grund af:\n",
      "\n",
      "Der opleves mangel på forståelse for, hvor vigtigt det er med en hurtig udredning, fordi børn og unges kroppe udvikler sig hurtigt, og fordi puberteten giver irreversible ændringer.[kilde mangler]\n",
      "\n",
      "Samtalerne på Sexologisk Klinik og Bispebjerg medfører, at transkønnede børn og unge får fravær i forhold til skole og uddannelse. Det gælder i særdeleshed for børn og unge i provinsen, da Sexologisk Klinik er det eneste tilbud i landet.[104] For børn og unge i provinsen tager hver samtale en skole- eller arbejdsdag. En proces med ca. 1 samtale om måneden i 1 år giver således 12 fraværsdage. Det kan være problematisk for unge på en ungdomsuddannelse.\n",
      "\n",
      "I Norge er det muligt for børn fra 6 år at foretage et juridisk kønsskifte. Det er ikke muligt i Danmark for børn og unge under 18 år. Det betyder, at børn og unge officielt stadig har det køn, som de ikke identificerer sig med. Det bliver børnene konfronteret med fx i lufthavnen, hvor deres pas angiver et køn, der ikke svarer til deres udseende.[105][106]\n",
      "\n",
      "Det kan være af stor betydning for transkønnede børn og unge at have et navn, der svarer til deres kønsidentitet. Da de godkendte navne hænger sammen med det juridiske køn (som man skal være over 18 år for at ændre), kan man ikke vælge et navn, der svarer til det køn, man identificerer sig med. Men der er mulighed for at finde et navn, der er kønsneutralt eller et uni-sexnavn.\n",
      "\n",
      "Der er oprettet en forening til støtte for transkønnede børn. Foreningen arbejder for at forbedre vilkårene for transkønnede børn og unge og arrangerer bl.a netværksmøder.[107]\n",
      "\n",
      "LGBT-ordbogen og Amnesty International Danmark benytter begrebet \"tildelt\" køn.[108][109]\n",
      "\n"
     ]
    }
   ],
   "source": [
    "content = scrape_wiki_text(\"https://da.wikipedia.org/wiki/Transk%C3%B8nnethed\")\n",
    "print(\"_\"*100)\n",
    "for text in content:\n",
    "    print(text)"
   ]
  },
  {
   "cell_type": "markdown",
   "metadata": {},
   "source": [
    "1) Search for pages to add (manually selected)\n",
    "2) Scrape these pages using requests and beautifulsoup4\n",
    "3) Concatenate to one big text bank\n",
    "4) Search for word forms in this text bank. Extract the needed number of texts in the correct length.\n",
    "5) Train model on the new dataset and do bias analysis\n",
    "\n",
    "Afterwards, try to do both types of mitigation on the oversampled dataset\n",
    "\n",
    "OR \n",
    "\n",
    "Try to rerun the original model on non-oversampled dataset\n",
    "ASK MANEX!"
   ]
  },
  {
   "cell_type": "markdown",
   "metadata": {},
   "source": [
    "## Test adding random articles from wikipedia of desired length"
   ]
  },
  {
   "cell_type": "code",
   "execution_count": 25,
   "metadata": {},
   "outputs": [],
   "source": [
    "url = \"https://da.wikipedia.org/wiki/Special:Random\""
   ]
  },
  {
   "cell_type": "code",
   "execution_count": 39,
   "metadata": {},
   "outputs": [
    {
     "name": "stdout",
     "output_type": "stream",
     "text": [
      "Add 109 samples!\n"
     ]
    }
   ],
   "source": [
    "num_random_to_add = {\"0-59\": 7+7+7, \n",
    "                    \"60-179\": 6+4+32+3+4+5,\n",
    "                    \"180-419\": 4+4+8+5,\n",
    "                    \"420-899\": 4+2, \n",
    "                    \"900-3519\": 3+4}\n",
    "\n",
    "print(\"Add\", sum(num_random_to_add.values()), \"samples!\")"
   ]
  },
  {
   "cell_type": "code",
   "execution_count": 30,
   "metadata": {},
   "outputs": [
    {
     "name": "stdout",
     "output_type": "stream",
     "text": [
      "Successfully scraped the webpage with the title: \"Sindh\"\n",
      "Successfully scraped the webpage with the title: \"Ukaleq Slettemark\"\n",
      "Successfully scraped the webpage with the title: \"Dansk Vestindien\"\n",
      "Successfully scraped the webpage with the title: \"Den mystiske enke\"\n",
      "Successfully scraped the webpage with the title: \"Yuto Misao\"\n",
      "Successfully scraped the webpage with the title: \"Bindjuzjnik i Korol\"\n",
      "Successfully scraped the webpage with the title: \"Alanna\"\n",
      "Successfully scraped the webpage with the title: \"Vitalij Melnikov\"\n",
      "Successfully scraped the webpage with the title: \"Wimbledon-mesterskaberne 1893\"\n",
      "Successfully scraped the webpage with the title: \"Busplade\"\n",
      "Successfully scraped the webpage with the title: \"Pigernes nye valg\"\n",
      "Successfully scraped the webpage with the title: \"Paulo Costanzo\"\n",
      "Successfully scraped the webpage with the title: \"Mike Myers\"\n",
      "Successfully scraped the webpage with the title: \"Hymenektomi\"\n",
      "Successfully scraped the webpage with the title: \"Santiago de Chile\"\n",
      "Successfully scraped the webpage with the title: \"Nørre Galten Kirke\"\n",
      "Successfully scraped the webpage with the title: \"Ringive\"\n",
      "Successfully scraped the webpage with the title: \"Eddie Albert\"\n",
      "Successfully scraped the webpage with the title: \"Aiquile\"\n",
      "Successfully scraped the webpage with the title: \"Odeon (Odense)\"\n",
      "Successfully scraped the webpage with the title: \"Fokker Dr.I\"\n",
      "Successfully scraped the webpage with the title: \"August Winding\"\n",
      "Successfully scraped the webpage with the title: \"Snart kommer tiden\"\n",
      "Successfully scraped the webpage with the title: \"Tripartite-klassen\"\n",
      "Successfully scraped the webpage with the title: \"Irene Ojala\"\n",
      "Successfully scraped the webpage with the title: \"Williams F1\"\n",
      "Successfully scraped the webpage with the title: \"Gabriel Mercado\"\n",
      "Successfully scraped the webpage with the title: \"Leaves' Eyes\"\n",
      "Successfully scraped the webpage with the title: \"Mykines\"\n",
      "Successfully scraped the webpage with the title: \"Simon Andersen (redaktør)\"\n",
      "Successfully scraped the webpage with the title: \"Muisca\"\n",
      "Successfully scraped the webpage with the title: \"Campeche (stat)\"\n",
      "Successfully scraped the webpage with the title: \"Mikkelsdag\"\n",
      "Successfully scraped the webpage with the title: \"Takashi Soeda\"\n",
      "Successfully scraped the webpage with the title: \"Richard Dreyfuss\"\n",
      "Successfully scraped the webpage with the title: \"Selvhenter\"\n",
      "Successfully scraped the webpage with the title: \"Göran Färm\"\n",
      "Successfully scraped the webpage with the title: \"Termisk atomsky\"\n",
      "Successfully scraped the webpage with the title: \"Alssundorkestret\"\n",
      "Successfully scraped the webpage with the title: \"Lakune\"\n",
      "Successfully scraped the webpage with the title: \"Herefordkvæg\"\n",
      "Successfully scraped the webpage with the title: \"Poul Graae\"\n",
      "Successfully scraped the webpage with the title: \"Toulouse Business School\"\n",
      "Successfully scraped the webpage with the title: \"Justin Gatlin\"\n",
      "Successfully scraped the webpage with the title: \"Kovending og stagvending\"\n",
      "Successfully scraped the webpage with the title: \"Povl Henriksen\"\n",
      "Successfully scraped the webpage with the title: \"Kolbu Station\"\n",
      "Successfully scraped the webpage with the title: \"George Dantzig\"\n",
      "Successfully scraped the webpage with the title: \"John Lauridsen\"\n",
      "Successfully scraped the webpage with the title: \"Branda Castiglione\"\n"
     ]
    }
   ],
   "source": [
    "rd_passages = []\n",
    "\n",
    "for _ in range(50): # 50 random pages\n",
    "    content = scrape_wiki_text(url)\n",
    "    for passage in content:\n",
    "        rd_passages.append(passage)"
   ]
  },
  {
   "cell_type": "code",
   "execution_count": 15,
   "metadata": {},
   "outputs": [],
   "source": [
    "# load daCy model (medium works fine)\n",
    "nlp = dacy.load(\"da_dacy_medium_trf-0.2.0\") # takes around 4 minutes the first time"
   ]
  },
  {
   "cell_type": "code",
   "execution_count": 36,
   "metadata": {},
   "outputs": [
    {
     "name": "stderr",
     "output_type": "stream",
     "text": [
      "100%|██████████| 378/378 [05:15<00:00,  1.20it/s]\n"
     ]
    }
   ],
   "source": [
    "# preprocess\n",
    "\n",
    "# split passages into sentences and preprocess\n",
    "\n",
    "stop_words = nltk.corpus.stopwords.words('danish')\n",
    "passage_bank = []\n",
    "for passage in tqdm(rd_passages):\n",
    "    sentences = []\n",
    "    if passage.strip() != \"\":\n",
    "        doc = nlp(passage)\n",
    "        for sent in doc.sents:\n",
    "            clean_sent = utils.preprocess(str(sent), stop_words)\n",
    "            if len(clean_sent) > 0: # don't add empty strings\n",
    "                sentences.append(clean_sent)\n",
    "        passage_bank.append(sentences)"
   ]
  },
  {
   "cell_type": "code",
   "execution_count": 40,
   "metadata": {},
   "outputs": [],
   "source": [
    "d = {}\n",
    "new_examples = []\n",
    "\n",
    "for length in num_random_to_add: # for each lemma and length we need to deal with\n",
    "\n",
    "    # range (length bucket)\n",
    "    length_range = length.split(\"-\")\n",
    "    length_range = [int(l) for l in length_range]\n",
    "\n",
    "    # number of nontoxic examples to add\n",
    "    num_to_add = num_random_to_add[length] # number new nontoxic to add\n",
    "\n",
    "    # initialize variables\n",
    "    num_added = 0\n",
    "\n",
    "    for passage in passage_bank: # for each passage where the lemma appears\n",
    "        \n",
    "        if num_added < num_to_add: # only continue if we still need to add more sentences          \n",
    "            sentence_lengths = [len(sent)+1 for sent in passage] # +1 = space between sentences\n",
    "            \n",
    "            # if the full passage is within range, add that\n",
    "            if length_range[0] <= len(' '.join(passage)) <= length_range[1]:\n",
    "                #print(type(passage), passage)\n",
    "                new_examples.append(' '.join(passage))\n",
    "                num_added += 1\n",
    "\n",
    "            else:\n",
    "                for sentence in passage:\n",
    "                    if length_range[0] <= len(sentence) <= length_range[1]:\n",
    "                        new_examples.append(sentence)\n",
    "                        num_added += 1\n",
    "    \n",
    "    if num_added < num_to_add:\n",
    "        print(length_range, num_to_add)\n",
    "        print(num_added, num_to_add)\n",
    "        print()"
   ]
  },
  {
   "cell_type": "code",
   "execution_count": 41,
   "metadata": {},
   "outputs": [
    {
     "data": {
      "text/plain": [
       "['sindh pakistans fire provinser',\n",
       " 'hovedstaden hyderabad',\n",
       " 'hovedsprogene sindhi urdu',\n",
       " 'største by sindh karachi',\n",
       " 'navnet stammer samme rod indus provinsens vigtigste flod',\n",
       " 'koordinater °′n °′ø\\ufeff \\ufeff°n °ø\\ufeff',\n",
       " 'vandt norges cuppen gennemgående sæsonkonkurrence årige',\n",
       " 'udtaget vinterol beijing kun stillede km samt km',\n",
       " 'datter uiloq slettemark øystein slettemark',\n",
       " 'familien slettemark bor geilo norge går topidrætsgymnasium',\n",
       " 'slutetapen trekanten fragt sukker rom hjemlandet',\n",
       " 'økonomien dansk vestindien fuldstændig baseret slaveri',\n",
       " 'jordskælv tropiske cykloner tsunamier forekommer',\n",
       " 'regntiden varer maj november',\n",
       " 'højeste bjerg crown mountain skt thomas meter',\n",
       " 'skt croix areal km² kuperet terræn',\n",
       " 'højeste punkt øen mount eagle m',\n",
       " 'sankt croix',\n",
       " 'slaveoprør sankt croix førte slaveriets afskaffelse',\n",
       " 'skt jan mindste tre hovedøer dansk vestindien',\n",
       " 'øen areal km²',\n",
       " 'hovedstaden hyderabad hovedsprogene sindhi urdu største by sindh karachi',\n",
       " 'ruinerne vigtige oldtidsby ca fvt mohenjodaro unescos verdensarvsliste ligger sindh provinsen første del indiske subkontinent faldt muslimerne c evt næsten helt muslimsk dag',\n",
       " 'ukaleq astri slettemark født september nuuk grønlandsk skiskytte',\n",
       " 'vandt guld km individuelt ved verdensmesterskaberne juniorer slovakiet',\n",
       " 'udtaget vinterol beijing kun stillede km samt km kmdistancen skød blot to deltagere plet tyve forsøg endte plads blandt startende skiskytter',\n",
       " 'datter uiloq slettemark øystein slettemark familien slettemark bor geilo norge går topidrætsgymnasium født grønland dermed dansk statsborger samt norsk statsborger',\n",
       " 'dansk vestindien vestindiske øer danske jomfruøer dansk koloni caribien bestående øerne sankt thomas sankt jan sankt croix',\n",
       " 'christopher columbus fandt øerne rejse nye verden navngivet once mil virgenes elleve tusind jomfruer ære sankt ursulas jomfruer',\n",
       " 'danske handelskompagnier annekterede to ubeboede øer skt thomas skt jan mens skt croix købt frankrig',\n",
       " 'tre øer overtaget kronkoloni danmarknorge vestindiskguineisk kompagni',\n",
       " 'dansk vestindien besat storbritannien perioden – – forbindelse englandskrigene',\n",
       " 'oprør slaveriet officielt afskaffet gik plantagedriften dansk vestindien yderligere økonomisk nedgangsperiode allerede salg dansk vestindien debatteret rigsdagen',\n",
       " 'danmark prøvede flere omgange sælge bytte vestindiske øer væk slutningen tallet begyndelsen tallet',\n",
       " 'øerne sidst solgt millioner usd svarende ca mio usd usa overtog administrationen marts gav navnet united states virgin islands amerikanske jomfruøer',\n",
       " 'dansk vestindien bestod tre hovedøer sankt croix sankt jan sankt thomas samt flere mindre øer',\n",
       " 'øerne ligger caribiske hav atlanterhavet km øst puerto rico km nord venezuela km sydøst florida',\n",
       " 'øerne totalt areal km² hvilket lidt mindre arealet mors km lang kystlinje',\n",
       " 'øerne ligger grænsen mellem nordamerikanske plade caribiske plade',\n",
       " 'klimaet subtropisk passatvinde relativt lav luftfugtighed lille årstidsmæssig variation temperaturen',\n",
       " 'øerne vulkansk oprindelse præget bjerge kuperet terræn skt croix fladere',\n",
       " 'skt croix areal km² kuperet terræn højeste punkt øen mount eagle m',\n",
       " 'skt croix oprindelig beboet caribere arawaker besøgt columbus gav navnet santa cruz hellige kors',\n",
       " 'først spaniere englændere hollændere franskmænd haft kontrol øen kom malteserordenen solgte videre fransk vestindisk kompagni',\n",
       " 'fransk kronkoloni forblev stort set ubeboet solgt videre danske vestindiskguineisk kompagni',\n",
       " 'selskab intet krav bestemt nationalitet religion kolonister tiltrak hurtigt såvel spanske jøder huguenotter engelske nybyggere sidstnævnte kom dominere øen',\n",
       " 'danskerne grundlagde to byer øen christiansted nordkysten frederiksted vestkysten',\n",
       " 'skt jan mindste tre hovedøer dansk vestindien øen ligger km øst skt thomas km sydvest tortola del britiske jomfruøer øen areal km²',\n",
       " 'øen først beboet arawakindianere kom dagens colombia venezuela omkring år',\n",
       " 'arawakerne beboede øen frem omkring år fordrevet mere aggressive krigerske caribere',\n",
       " 'nogen egentlig byudvikling fandt aldrig sted sankt jan havnen lå ved cruz bay boede landfogeden bestemte øen sted fandtes mindre bebyggelse blot indbyggere',\n",
       " 'øen beboet siden ca år fkr forskellige vestindiske indianerfolk',\n",
       " 'første ciboneyfolket senere fortrængt arawakindianerne dernæst cariberne',\n",
       " 'første danske forsøg bosættelse fandt sted del vestindiskguineisk kompagnis koloni',\n",
       " 'fæstningen fort christian påbegyndt dag ældste bygning jomfruøerne',\n",
       " 'gennem tallet oplevede øen kraftig vækst grund sukkerplantager',\n",
       " 'dansk vestindiens hovedstad gennem store dele koloniperioden charlotte amalie lå skt thomas',\n",
       " 'periode først tallet charlotte amalie næstmest folkerige danske by kun overgået københavn',\n",
       " 'byen fik navn opkaldt kong christian s kone dronning charlotte amalie hessenkassel',\n",
       " 'grund neutrale danske flag statussen frihavn charlotte amalie vestindiens vigtigste handelscentre tallet byen perioden – stærkt kosmopolitisk præg tallet danmarks næststørste by',\n",
       " 'fæstningen fort christian påbegyndt opkaldt kong christian v',\n",
       " 'residens fortet uddelte guvernøren land nyankomne kolonister ønskede bosætte øen',\n",
       " 'guvernør nicolai esmit begyndte oprette kroer hvilket gav byen dens første navn taphus',\n",
       " 'beliggenheden fordelagtig byen lå bunden dyb bugt øens sydside let tilgængelig sejlskibe behøvede krydse fordi indsejlingen nordsyd hvilket passede østlige passatvind',\n",
       " 'ældste beskrivelse byen stammer franske forfatter pére labat besøgte sankt thomas',\n",
       " 'stor smuk bygning indeholder værelser bekvemme rum handelsvarer samt negerslaver hvilke selskabet driver handel spanierne',\n",
       " 'byens huse tidligere kun hytter ere byggede sten næsten én etage godt indrettede gulvene ere fliser væggene hvidtede holland',\n",
       " 'danskerne købte skt croix valgte første bosættelse øen sted mulighed god havn nordkysten',\n",
       " 'første bosættelse fik navnet christiansted grundlagt samme år øen købt',\n",
       " 'byen ligger omtrent midt øens nordkyst omkring år byen beskrevet således',\n",
       " 'kristianssted daglig tale kaldes basinet venlig lille by adskillige anselige bygninger iblandt andre guvernementshuset største regeringshus paa smaa antiller',\n",
       " 'st thomas ‘ s bank filial kristianssted rejsendes bekvemmelighed byen par særdeles gode pensionater',\n",
       " 'byens indbyggertal meste tiden dansk koloni forholdsvis stabilt a christiansted kendt velbevarede fæstning christiansværn',\n",
       " 'frederiksted fik navn frederik danske kolonitid aldrig kaldt andet westenden grund beliggenhed øens vestside',\n",
       " 'frederiksted slaver marcherede gøre krav øjeblikkelig frigivelse',\n",
       " 'trusler slaverne gøre oprør sætte ild hele byen krav indfriet kom guvernør peter von scholten erklæringen fort frederik frigav slaver dansk vestindien',\n",
       " 'fort frederik kom første salut anerkendelse usa s selvstændighed',\n",
       " 'ukaleq astri slettemark født september nuuk grønlandsk skiskytte vandt guld km individuelt ved verdensmesterskaberne juniorer slovakiet vandt norges cuppen gennemgående sæsonkonkurrence årige',\n",
       " 'hensigten danske kolonisering vestindien udnytte lønsomme trekantshandel gik eksportere skydevåben andre varer afrika bytte slaver derefter fragtet øerne vestindien bemande sukkerplantagerne',\n",
       " 'danmark prøvede flere omgange sælge bytte vestindiske øer væk slutningen tallet begyndelsen tallet øerne sidst solgt millioner usd svarende ca mio usd usa overtog administrationen marts gav navnet united states virgin islands amerikanske jomfruøer',\n",
       " 'dansk vestindien bestod tre hovedøer sankt croix sankt jan sankt thomas samt flere mindre øer øerne ligger caribiske hav atlanterhavet km øst puerto rico km nord venezuela km sydøst florida',\n",
       " 'øerne ligger grænsen mellem nordamerikanske plade caribiske plade jordskælv tropiske cykloner tsunamier forekommer klimaet subtropisk passatvinde relativt lav luftfugtighed lille årstidsmæssig variation temperaturen regntiden varer maj november',\n",
       " 'øen først beboet arawakindianere kom dagens colombia venezuela omkring år arawakerne beboede øen frem omkring år fordrevet mere aggressive krigerske caribere danskerne første europæere slog øen første gang permanent danskerne navngav øen skt jan sukkerplantager anlagt stort tal grund varme klima',\n",
       " 'øen beboet siden ca år fkr forskellige vestindiske indianerfolk første ciboneyfolket senere fortrængt arawakindianerne dernæst cariberne cariberne hurtig udryddet fordrevet europæerne bosatte øen',\n",
       " 'skt thomas første danmarks tre hovedøer dansk vestindien første danske forsøg bosættelse fandt sted del vestindiskguineisk kompagnis koloni fæstningen fort christian påbegyndt dag ældste bygning jomfruøerne charlotte amalie erklæret frihavn gennem tallet oplevede øen kraftig vækst grund sukkerplantager øen vigtigt handelscentrum indtil slavehandelen afskaffet',\n",
       " 'dansk vestindiens hovedstad gennem store dele koloniperioden charlotte amalie lå skt thomas periode først tallet charlotte amalie næstmest folkerige danske by kun overgået københavn',\n",
       " 'charlotte amalie flere perioder hovedstad dansk vestindien byen fik navn opkaldt kong christian s kone dronning charlotte amalie hessenkassel byen danske tid haft navnene taphus kro skt thomas',\n",
       " 'afstand á skridt fortet ligger byen langs stranden bestaar én lang gade ender ved faktoriet selskabet kontorer stor smuk bygning indeholder værelser bekvemme rum handelsvarer samt negerslaver hvilke selskabet driver handel spanierne højre faktoriet findes smaa gader bebos franske flygtninge byens huse tidligere kun hytter ere byggede sten næsten én etage godt indrettede gulvene ere fliser væggene hvidtede holland',\n",
       " 'danskerne købte skt croix valgte første bosættelse øen sted mulighed god havn nordkysten første bosættelse fik navnet christiansted grundlagt samme år øen købt byen opkaldt kong christian danmarknorge christiansted perioden hovedstaden dansk vestindien',\n",
       " 'endelig kan nævnes blade tidsskrifter vel forsynet athenæum stærkt besøgt intelligente del byens befolkning forhold folkemængden ret betydelig næsten hele øens embedsstand garnisonens officerer sommeren tillige guvernøren bo',\n",
       " 'frederiksted slaver marcherede gøre krav øjeblikkelig frigivelse trusler slaverne gøre oprør sætte ild hele byen krav indfriet kom guvernør peter von scholten erklæringen fort frederik frigav slaver dansk vestindien fort frederik kom første salut anerkendelse usa s selvstændighed',\n",
       " 'ved indgangen tallet store kolonimagter først fremmest spanien portugal nederlandene frankrig england koloniseret meste caribien spanien portugals vedkommende store dele sydamerika ingen kolonimagter vist interesse skt thomas',\n",
       " 'aktionærerne begyndelsen skeptiske overfor ideen kraftig opfordring kongen forter guineakysten indvilgede gik københavnske købmænd interesser afrika vestindisk kompagni tid kaldtes vestindiskguineisk kompagni',\n",
       " 'vanskeligt få bemandet skibene sejlede skt thomas grund historierne lang vanskelig overfart livet vestindien sygdom varme næsten sikre død få nok folk størstedelen besætningen hentet fængsler forbedringshuse normalt mere hver tredje døde undervejs lige så døde indenfor seks måneder ankomsten skt thomas',\n",
       " 'adolph stort bedre broder lod sørøvere skjule bugten ved sankt thomas lod sælge bytte sidst sejlede britisk krigsskib bugten berygtede sørøver jean hamlins skib lå skibet beskudt hamlin mandskab nok flygtede skibet sat brand briterne spurgte esmit hamlin svarede flygtet usandt fortsat øen dér skjult indtil faren drevet',\n",
       " 'erne forholdet mellem storbritannien danmark køligt grund brødrene adolph nicolai esmits samt gabriel milans regime guvernører forbindelse åbenlyse handel pirater virksomhed storbritannien prøvede få stoppet',\n",
       " 'informerede guvernør mikkel knudsen crone ledelsen vestindiskguineisk kompagni københavn agtede udforske både skt jan vieques før guvernørperiode sluttede jorden skt thomas begyndte udpint plantageejerne trængte nyt land dyrke ledelsen svarede henvendelsen planerne dermed udført året rapporterede nye guvernør erich bredal plantageejere skt thomas ønskede flytte skt jan frygtede britiske repressalier',\n",
       " 'september drog britiske kolonister således vieques besætte ø eftersommeren pressede plantageejere udpinte øer anguilla tortola spanish town forgæves få britiske guvernør hamilton kolonisere skt croix',\n",
       " 'altså flere vidnesbyrd briterne manglede ny jord skt jan komme spil selvom britisk rapport beskrevet skt jan lille ufrugtbar bjergrig ø hvorfor hidtil givet anneksion skt jan lav prioritet',\n",
       " 'dansk vestindien vestindiske øer danske jomfruøer dansk koloni caribien bestående øerne sankt thomas sankt jan sankt croix christopher columbus fandt øerne rejse nye verden navngivet once mil virgenes elleve tusind jomfruer ære sankt ursulas jomfruer danske handelskompagnier annekterede to ubeboede øer skt thomas skt jan mens skt croix købt frankrig tre øer overtaget kronkoloni danmarknorge vestindiskguineisk kompagni dansk vestindien besat storbritannien perioden – – forbindelse englandskrigene',\n",
       " 'hensigten danske kolonisering vestindien udnytte lønsomme trekantshandel gik eksportere skydevåben andre varer afrika bytte slaver derefter fragtet øerne vestindien bemande sukkerplantagerne slutetapen trekanten fragt sukker rom hjemlandet økonomien dansk vestindien fuldstændig baseret slaveri oprør slaveriet officielt afskaffet gik plantagedriften dansk vestindien yderligere økonomisk nedgangsperiode allerede salg dansk vestindien debatteret rigsdagen',\n",
       " 'skt croix oprindelig beboet caribere arawaker besøgt columbus gav navnet santa cruz hellige kors først spaniere englændere hollændere franskmænd haft kontrol øen kom malteserordenen solgte videre fransk vestindisk kompagni sankt croix fransk kronkoloni forblev stort set ubeboet solgt videre danske vestindiskguineisk kompagni selskab intet krav bestemt nationalitet religion kolonister tiltrak hurtigt såvel spanske jøder huguenotter engelske nybyggere sidstnævnte kom dominere øen slaveoprør sankt croix førte slaveriets afskaffelse',\n",
       " 'oprindelig fandtes kun lille fort guvernøren bolig fæstningen fort christian påbegyndt opkaldt kong christian v residens fortet uddelte guvernøren land nyankomne kolonister ønskede bosætte øen guvernør nicolai esmit begyndte oprette kroer hvilket gav byen dens første navn taphus beliggenheden fordelagtig byen lå bunden dyb bugt øens sydside let tilgængelig sejlskibe behøvede krydse fordi indsejlingen nordsyd hvilket passede østlige passatvind ældste beskrivelse byen stammer franske forfatter pére labat besøgte sankt thomas lyder således',\n",
       " 'kristianssted daglig tale kaldes basinet venlig lille by adskillige anselige bygninger iblandt andre guvernementshuset største regeringshus paa smaa antiller findes ligeledes basinet del kirker hver trosbekendelse st thomas ‘ s bank filial kristianssted rejsendes bekvemmelighed byen par særdeles gode pensionater endelig kan nævnes blade tidsskrifter vel forsynet athenæum stærkt besøgt intelligente del byens befolkning forhold folkemængden ret betydelig næsten hele øens embedsstand garnisonens officerer sommeren tillige guvernøren bo',\n",
       " 'frederikssted mindre officielt præg nærmest handelsby beregnet paa tilfredsstille omboende landbefolknings fornødenheder befordre dens udførsel sukker byen ligger midt paa øens vestside hvorfor skibene ligge godt beskyttede landet imod nordøstpassaten endskønt frederikssted led stærkt ved opstandene sidste gang stor del nedbrændt trives byen ret godt sporene branden ere snart forsvundne byen brede lige gader del anselige huse c indbyggere',\n",
       " 'kom christian tronen året vestindisk kompagni etableret priviligeret selskab fik monopol handel mellem skt thomas danmark aktionærerne begyndelsen skeptiske overfor ideen kraftig opfordring kongen forter guineakysten indvilgede gik københavnske købmænd interesser afrika vestindisk kompagni tid kaldtes vestindiskguineisk kompagni ideen bag oprettelsen erhvervelsen koloni vestindien importere slaver afrika vestindien sælge øens plantageejere producerede sukker eksport syntes nærliggende glückstadtkompagniets ophør samle slavehandel sukkertransport ét selskab erfarne vestindienfarer jørgen iversen dyppel udnævnt guvernør skibet færø mænd kvinder materialer opføre lille landsby stop bergen mønstrede flere nordmænd dele mandskabet stukket ankomsten skt thomas begyndte bygningen fort forsvare nye koloni halvt år oprindelige kolonister døde fik hjælp forviste straffeforfulgte nederlændere englændere jørgen iversen dyppels fort fort christian stod færdigt opkaldt christian fortet udover forsvarsværk brugt rådhus luthersk kirke mødested lokalbefolkningen',\n",
       " 'aktionærerne vestindiskguineisk kompagni tvunget indskyde mere kapital tabe hele oprindelige indskud gøre kapitaludvidelsen mere acceptabel aktionærerne tilbudt hver plantagegrund plantagegrundene opmåles før overdragelsen fandt sted målet inddele øen plantageejendomme hver hektar blandt kompagniets aktionærer christian familie ministre personer ingen tillid kompagniets grundsalg opmålingen øen fik høj prioritet baggrund øens beskedne størrelse km lang km bred ventet overstået par måneder arbejdet trak årevis grund utilstrækkelige økonomiske personalemæssige resurser kompagniets ledelse både overrasket irriteret lokale administrations manglende evne fremskaffe kort øen officielle brevveksling bar præg undskyldninger modbeskyldninger forsinkelsesstatistikker første danske kort hele øen færdigt helt uafhængigt gamle franske kort kortet signeret johan cronenberg johan jægersberg tiden frem færdiggørelsen kortet brugte kompagniet række midlertidige kort sælge grundene',\n",
       " 'tidligere leder plantagemuseum skt croix robert s brown fortæller plantagedrift sankt croix blevet købt opmålt jorden inddelt kvarterer atter opdelt mindre stykker hver acres tønder land altså plantage prisen rigsdaler bedst egnede jord mens jord bomuldsavl koste rigsdaler hver plantage udgjorde lille landsbysamfund måtte nærmest selvforsynende plantagerne fik navne øboerne angav boede sankt croix fx peter ‘ s rest mary ‘ s fancy lower love whim humbug hed agerdyrkningsfelterne adskilte veje foruden transport fungerede brandbælter modnet sukkerrør let antændeligt derfor opført små vagtbygninger anvendt rørene modne døgnovervågning del plantagens jord anvendt græsland skovbrug skaffe træ bygninger ligeledes dyrkning grøntsager plantagens daglige forbrug hver plantage udstyret egen mølle kogehus kaldet fabrik factory behandling sukkersaften middelstor plantage – slaver hvoraf fleste boede slavelandsbyen nær fabrikken slavehytterne oftest byggede fletværk mangrovegrene klinet ler tag spån sukkerrørs palmeblade plantager bygninger sten inddelte flere rum enkelte familier ugifte slaver plantagerne fandtes opsynsmænd samt kontorfolk endelig bolig herskabet plantager egen kirke kapel undertiden fangehul jorden krævede hvile kun to tredjedele beplantet mens tredjedel lå brak al jorden beplantet samtidig forskellig tid modnes samme tid biprodukt sukkerprocessen produktionen melasse egnede produktion rom',\n",
       " 'følge tilspidsede situation mellem danmark storbritannien besluttede storbritannien januar indføre embargo dansk vestindien ved udgangen februar gik rygter dansk vestindien storbritannien gang samle hær– flådestyrke hensigt besætte øerne baggrund rygter besluttede generalguvernør wilhelm anton lindemann udsende to skibe christiansted skt croix marts skibene briggen lougen skonnerten aarvagne sejlede nordover skt thomas spejde britiske skibe eftermiddagen samme dag nærmede lougen skæret fugleklippen lige vest skt thomas fik to britiske skibe fregatten the arab kaperbåden experiment sigte the arab kom sejlende lougen affyrede uden forvarsel tre skarpe skud skibet kaptajnen lougen kaptajnløjtnant carl vilhelm jessen råbte the arab finde hvorfor skød fik intet svar besluttede derfor affyre skarpskud the arabs flag hvilket resulterede britene affyrede hel bredside tilbage jessen signalerede aarvagnes kaptajn returnere christiansted underrette generalguvernøren kamphandlingen experiment bistod the arab træfningen lougen kom dermed krydsild lougen satte kamphandlingerne kursen charlotte amalie skt thomas få bistand kanonerne fort christian fortets kanoner gjorde betydelig skade britiske skibe returnerede tortola slaget ved fugleklippen ovre times kamphandlinger',\n",
       " 'produktionen øerne øgedes små familiebrug voksede større plantager øgede produktion gjorde nødvendigt skaffe mere arbejdskraft både skt thomas skt jan ubeboede ved koloniseringens start så arbejdskraft måtte hentes udefra forsøget bruge indianere amerikanske fastland vellykket forsøgte få unge danskere emigrere skt thomas få ønskede rejse vestindien fri vilje hørt historier både selve overfarten sygdomme rammes rekrutteringen flyttet fængslerne fanger lange fængselsstraffe dødsdomme lovet frihed seks års arbejde plantage få indgik aftalen overlevede seksårsperioden kompagniledelsen indså hvilke indtjeningsmuligheder lå trekantshandelen byggede par slaveforter langs guineabugten fort christiansborg uden dagens accra største kompagniet vendte dermed blikket slaver guinea afrika kom første forsendelse afrikanske slaver kompagniet købte slaverne lokale høvdinge fanget stammekrige bytte rom våben krudt klæder fik kompagniet slaver elfenben guld',\n",
       " 'vides hvilket første danske slaveskib første kendte skibet forgyldte ørn ejet generaladmiral cort adeler fik to søpas rejser guineakysten derfra videre vestindien slaver følgende år fulgte flere skibe således friederich norsk københavns børs holger danske christian v spera mundi jomfru margrethe nordstjernen fortuna holsten perioden kendes omkring danske skibe fragtede omkring slaver vestindien fragtede kun skibe omkring slaver vestindien dertil kommer såkaldte interlopers sige udenlandske skibe opererede ulovligt omkring slaver døde omkring fjerdedel rejsen svarende tab ca rigsdaler yderligere tab skyldtes forlis vestindiskguineisk kompagnis tyve skibe forliste gyldenløve cron printzen christian v frederik iv christiansfort jomfru alette salvator mundi christiansborg følgen tab forlis lavere priser gjorde slavehandelen tabsgivende forretning kompagniet mest stemt helt opgive samle kræfterne sukkerhandelen trods beslutning fortsætte investering ekstra rigsdaler slavehandelen situationen bedre kompagniet nettotab rigsdaler endnu skib gav underskud besluttede flertal aktionærer opgive yderligere slavehandel',\n",
       " 'slaveoprør jamaica frygt oprøret sprede andre øer dansk vestindien år senere udbrød slaveoprør skt jan efteråret øerne blevet ramt orkan store dele afgrøderne ødelagt konsekvenserne sult død blandt slaverne øerne ny ramt orkan tørke slaverne frygtede gentagelse forholdene slaver forsøgte rømme øen andre samlede november angreb fortet skt jan ifølge kilde række slaver blevet sat samle bære brænde øens lille fort besætning bestående løjtnant sergent soldater imidlertid slaverne skjult økser knive brændeknipperne aftalt signal angreb soldaterne hvoraf hugget ved regulær massakre hvide plantageejere familier børn overtog slaverne kontrollen skt jan landfoged soetmanns hoved hugget sat stage lykkedes enkelte plantageejerne forskanse plantage ved kysten hvorfra flygte skt thomas slaverne holdt skt jan otte måneder indtil danmark slut fik hjælp frankrig tidligere samme år solgt skt croix danskerne ifølge samme kilde sendte guvernøren martinique hjælpestyrke så lykkedes trænge oprørerne østpå havet ved brimsbay omringet stedet overgive begik oprørerne selvmord omkring lig efterfølgende konstateret']"
      ]
     },
     "execution_count": 41,
     "metadata": {},
     "output_type": "execute_result"
    }
   ],
   "source": [
    "new_examples"
   ]
  },
  {
   "cell_type": "code",
   "execution_count": 43,
   "metadata": {},
   "outputs": [
    {
     "data": {
      "text/plain": [
       "112"
      ]
     },
     "execution_count": 43,
     "metadata": {},
     "output_type": "execute_result"
    }
   ],
   "source": [
    "len(new_examples)"
   ]
  }
 ],
 "metadata": {
  "kernelspec": {
   "display_name": "thesis2",
   "language": "python",
   "name": "python3"
  },
  "language_info": {
   "codemirror_mode": {
    "name": "ipython",
    "version": 3
   },
   "file_extension": ".py",
   "mimetype": "text/x-python",
   "name": "python",
   "nbconvert_exporter": "python",
   "pygments_lexer": "ipython3",
   "version": "3.9.18"
  }
 },
 "nbformat": 4,
 "nbformat_minor": 2
}
